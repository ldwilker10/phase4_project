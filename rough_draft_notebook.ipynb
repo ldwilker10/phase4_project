{
 "cells": [
  {
   "cell_type": "code",
   "execution_count": 75,
   "metadata": {},
   "outputs": [],
   "source": [
    "#import libraries\n",
    "\n",
    "import pandas as pd\n",
    "import numpy as np\n",
    "import os\n",
    "import matplotlib.pyplot as plt\n",
    "import random\n",
    "from keras.preprocessing import image\n",
    "from tensorflow.keras.preprocessing.image import ImageDataGenerator\n",
    "from sklearn.utils.class_weight import compute_class_weight\n",
    "from keras.models import Sequential\n",
    "from keras.layers import Dense\n",
    "from keras.datasets import mnist\n",
    "import tensorflow as tf\n",
    "from tensorflow.keras.losses import SparseCategoricalCrossentropy\n",
    "\n",
    "from sklearn.model_selection import train_test_split\n",
    "from keras.utils.np_utils import to_categorical\n",
    "from sklearn.preprocessing import LabelBinarizer\n",
    "from keras.preprocessing.text import Tokenizer\n",
    "\n",
    "import warnings\n",
    "warnings.filterwarnings(action='ignore', category=FutureWarning)"
   ]
  },
  {
   "cell_type": "markdown",
   "metadata": {},
   "source": [
    "## EDA"
   ]
  },
  {
   "cell_type": "code",
   "execution_count": 6,
   "metadata": {},
   "outputs": [],
   "source": [
    "# Define paths\n",
    "train_dir = 'chest_xray/train/'\n",
    "val_dir = 'chest_xray/val/'\n",
    "test_dir = 'chest_xray/test/'"
   ]
  },
  {
   "cell_type": "code",
   "execution_count": 7,
   "metadata": {},
   "outputs": [
    {
     "name": "stdout",
     "output_type": "stream",
     "text": [
      "Train Data:\n",
      "Normal Images: 1341\n",
      "Pneumonia Images: 3875\n",
      "\n",
      "Validation Data:\n",
      "Normal Images: 8\n",
      "Pneumonia Images: 8\n",
      "\n",
      "Test Data:\n",
      "Normal Images: 234\n",
      "Pneumonia Images: 390\n"
     ]
    }
   ],
   "source": [
    "train_normal_count = len(os.listdir(os.path.join(train_dir, 'NORMAL')))\n",
    "train_pneumonia_count = len(os.listdir(os.path.join(train_dir, 'PNEUMONIA')))\n",
    "val_normal_count = len(os.listdir(os.path.join(val_dir, 'NORMAL')))\n",
    "val_pneumonia_count = len(os.listdir(os.path.join(val_dir, 'PNEUMONIA')))\n",
    "test_normal_count = len(os.listdir(os.path.join(test_dir, 'NORMAL')))\n",
    "test_pneumonia_count = len(os.listdir(os.path.join(test_dir, 'PNEUMONIA')))\n",
    "\n",
    "print(\"Train Data:\")\n",
    "print(f\"Normal Images: {train_normal_count}\")\n",
    "print(f\"Pneumonia Images: {train_pneumonia_count}\")\n",
    "\n",
    "print(\"\\nValidation Data:\")\n",
    "print(f\"Normal Images: {val_normal_count}\")\n",
    "print(f\"Pneumonia Images: {val_pneumonia_count}\")\n",
    "\n",
    "print(\"\\nTest Data:\")\n",
    "print(f\"Normal Images: {test_normal_count}\")\n",
    "print(f\"Pneumonia Images: {test_pneumonia_count}\")"
   ]
  },
  {
   "cell_type": "code",
   "execution_count": 8,
   "metadata": {},
   "outputs": [
    {
     "data": {
      "image/png": "[encoded data removed]",
      "text/plain": [
       "<Figure size 432x288 with 1 Axes>"
      ]
     },
     "metadata": {
      "needs_background": "light"
     },
     "output_type": "display_data"
    },
    {
     "data": {
      "image/png": "[encoded data removed]",
      "text/plain": [
       "<Figure size 432x288 with 1 Axes>"
      ]
     },
     "metadata": {
      "needs_background": "light"
     },
     "output_type": "display_data"
    },
    {
     "data": {
      "image/png": "[encoded data removed]",
      "text/plain": [
       "<Figure size 432x288 with 1 Axes>"
      ]
     },
     "metadata": {
      "needs_background": "light"
     },
     "output_type": "display_data"
    }
   ],
   "source": [
    "# Function to plot class distribution\n",
    "def plot_class_distribution(normal_count, pneumonia_count, set_name):\n",
    "    plt.bar(['Normal', 'Pneumonia'], [normal_count, pneumonia_count])\n",
    "    plt.xlabel('Class')\n",
    "    plt.ylabel('Number of Images')\n",
    "    plt.title(f'Class Distribution in {set_name} Set')\n",
    "    plt.show()\n",
    "\n",
    "# Plot class distribution for each set\n",
    "plot_class_distribution(train_normal_count, train_pneumonia_count, 'Train')\n",
    "plot_class_distribution(val_normal_count, val_pneumonia_count, 'Validation')\n",
    "plot_class_distribution(test_normal_count, test_pneumonia_count, 'Test')"
   ]
  },
  {
   "cell_type": "markdown",
   "metadata": {},
   "source": [
    "## Designing the Model "
   ]
  },
  {
   "cell_type": "code",
   "execution_count": 55,
   "metadata": {},
   "outputs": [
    {
     "name": "stdout",
     "output_type": "stream",
     "text": [
      "Found 5216 images belonging to 2 classes.\n",
      "Found 16 images belonging to 2 classes.\n",
      "Found 624 images belonging to 2 classes.\n"
     ]
    }
   ],
   "source": [
    "# Preprocess the images into tensors\n",
    "# Rescale the data by 1/.255 and use binary_crossentropy loss\n",
    "\n",
    "from keras.preprocessing.image import ImageDataGenerator\n",
    "\n",
    "# All images will be rescaled by 1./255\n",
    "train_datagen = ImageDataGenerator(rescale=1./255)\n",
    "val_datagen = ImageDataGenerator(rescale=1./255)\n",
    "test_datagen = ImageDataGenerator(rescale=1./255)\n",
    "\n",
    "train_generator = train_datagen.flow_from_directory(\n",
    "        # This is the target directory\n",
    "        train_dir,\n",
    "        # All images will be resized to 150x150\n",
    "        target_size=(150, 150),\n",
    "        batch_size=5216,\n",
    "        # Since we use binary_crossentropy loss, we need binary labels\n",
    "        class_mode='binary')\n",
    "\n",
    "val_generator = val_datagen.flow_from_directory(val_dir,\n",
    "                                                        target_size=(150, 150),\n",
    "                                                        batch_size=16,\n",
    "                                                        class_mode='binary')\n",
    "\n",
    "test_generator = test_datagen.flow_from_directory(test_dir,\n",
    "                                                        target_size=(150, 150),\n",
    "                                                        batch_size=624,\n",
    "                                                        class_mode='binary')"
   ]
  },
  {
   "cell_type": "code",
   "execution_count": 56,
   "metadata": {},
   "outputs": [],
   "source": [
    "# create the data sets\n",
    "train_images, train_labels = next(train_generator)\n",
    "test_images, test_labels = next(test_generator)\n",
    "val_images, val_labels = next(val_generator)"
   ]
  },
  {
   "cell_type": "code",
   "execution_count": 77,
   "metadata": {},
   "outputs": [
    {
     "data": {
      "text/plain": [
       "<matplotlib.image.AxesImage at 0x7fabac1315e0>"
      ]
     },
     "metadata": {},
     "output_type": "display_data"
    },
    {
     "name": "stdout",
     "output_type": "stream",
     "text": [
      "Label: 1.0\n"
     ]
    },
    {
     "data": {
      "image/png": "[encoded data removed]",
      "text/plain": [
       "<Figure size 432x288 with 1 Axes>"
      ]
     },
     "metadata": {
      "needs_background": "light"
     },
     "output_type": "display_data"
    }
   ],
   "source": [
    "sample_image = train_images[1]\n",
    "sample_label = train_labels[1]\n",
    "display(plt.imshow(sample_image))\n",
    "print('Label: {}'.format(sample_label))"
   ]
  },
  {
   "cell_type": "code",
   "execution_count": 85,
   "metadata": {},
   "outputs": [
    {
     "name": "stdout",
     "output_type": "stream",
     "text": [
      "{0.0: 1341, 1.0: 3875}\n"
     ]
    }
   ],
   "source": [
    "# Get value counts\n",
    "unique_elements, counts = np.unique(train_labels, return_counts=True)\n",
    "\n",
    "# Combine the unique elements and their counts into a dictionary\n",
    "value_counts_dict = dict(zip(unique_elements, counts))\n",
    "\n",
    "# Print the result\n",
    "print(value_counts_dict)"
   ]
  },
  {
   "cell_type": "code",
   "execution_count": 57,
   "metadata": {},
   "outputs": [
    {
     "name": "stdout",
     "output_type": "stream",
     "text": [
      "Number of training samples: 5216\n",
      "Number of testing samples: 624\n",
      "Number of validation samples: 16\n",
      "train_images shape: (5216, 150, 150, 3)\n",
      "train_labels shape: (5216,)\n",
      "test_images shape: (624, 150, 150, 3)\n",
      "test_labels shape: (624,)\n",
      "val_images shape: (16, 150, 150, 3)\n",
      "val_labels shape: (16,)\n"
     ]
    }
   ],
   "source": [
    "# Explore your dataset again\n",
    "m_train = train_images.shape[0]\n",
    "num_px = train_images.shape[1]\n",
    "m_test = test_images.shape[0]\n",
    "m_val = val_images.shape[0]\n",
    "\n",
    "print (\"Number of training samples: \" + str(m_train))\n",
    "print (\"Number of testing samples: \" + str(m_test))\n",
    "print (\"Number of validation samples: \" + str(m_val))\n",
    "print (\"train_images shape: \" + str(train_images.shape))\n",
    "print (\"train_labels shape: \" + str(train_labels.shape))\n",
    "print (\"test_images shape: \" + str(test_images.shape))\n",
    "print (\"test_labels shape: \" + str(test_labels.shape))\n",
    "print (\"val_images shape: \" + str(val_images.shape))\n",
    "print (\"val_labels shape: \" + str(val_labels.shape))"
   ]
  },
  {
   "cell_type": "code",
   "execution_count": 58,
   "metadata": {},
   "outputs": [
    {
     "name": "stdout",
     "output_type": "stream",
     "text": [
      "(5216, 67500)\n",
      "(624, 67500)\n",
      "(16, 67500)\n"
     ]
    }
   ],
   "source": [
    "train_img = train_images.reshape(train_images.shape[0], -1)\n",
    "test_img = test_images.reshape(test_images.shape[0], -1)\n",
    "val_img = val_images.reshape(val_images.shape[0], -1)\n",
    "\n",
    "print(train_img.shape)\n",
    "print(test_img.shape)\n",
    "print(val_img.shape)"
   ]
  },
  {
   "cell_type": "code",
   "execution_count": 60,
   "metadata": {},
   "outputs": [],
   "source": [
    "train_y = np.reshape(train_labels, (5216,1))\n",
    "test_y = np.reshape(test_labels, (624,1))\n",
    "val_y = np.reshape(val_labels, (16,1))"
   ]
  },
  {
   "cell_type": "code",
   "execution_count": 61,
   "metadata": {},
   "outputs": [],
   "source": [
    "# Build a baseline fully connected model\n",
    "from keras import models\n",
    "from keras import layers\n",
    "\n",
    "model = models.Sequential()\n",
    "model.add(layers.Dense(20, activation='relu', input_shape=(67500,))) # 2 hidden layers\n",
    "model.add(layers.Dense(7, activation='relu'))\n",
    "model.add(layers.Dense(5, activation='relu'))\n",
    "model.add(layers.Dense(1, activation='sigmoid'))"
   ]
  },
  {
   "cell_type": "code",
   "execution_count": 62,
   "metadata": {},
   "outputs": [
    {
     "name": "stdout",
     "output_type": "stream",
     "text": [
      "Epoch 1/50\n",
      "163/163 [==============================] - 5s 28ms/step - loss: 0.4916 - accuracy: 0.7627 - val_loss: 0.6781 - val_accuracy: 0.6250\n",
      "Epoch 2/50\n",
      "163/163 [==============================] - 3s 15ms/step - loss: 0.3561 - accuracy: 0.8604 - val_loss: 0.5891 - val_accuracy: 0.8125\n",
      "Epoch 3/50\n",
      "163/163 [==============================] - 2s 15ms/step - loss: 0.3063 - accuracy: 0.8923 - val_loss: 0.5331 - val_accuracy: 0.8125\n",
      "Epoch 4/50\n",
      "163/163 [==============================] - 2s 15ms/step - loss: 0.2731 - accuracy: 0.9051 - val_loss: 0.4782 - val_accuracy: 0.8750\n",
      "Epoch 5/50\n",
      "163/163 [==============================] - 2s 15ms/step - loss: 0.2546 - accuracy: 0.9158 - val_loss: 0.5683 - val_accuracy: 0.8125\n",
      "Epoch 6/50\n",
      "163/163 [==============================] - 2s 14ms/step - loss: 0.2433 - accuracy: 0.9208 - val_loss: 0.5537 - val_accuracy: 0.8125\n",
      "Epoch 7/50\n",
      "163/163 [==============================] - 3s 17ms/step - loss: 0.2273 - accuracy: 0.9273 - val_loss: 0.5323 - val_accuracy: 0.8125\n",
      "Epoch 8/50\n",
      "163/163 [==============================] - 3s 16ms/step - loss: 0.2134 - accuracy: 0.9354 - val_loss: 0.5068 - val_accuracy: 0.8125\n",
      "Epoch 9/50\n",
      "163/163 [==============================] - 4s 28ms/step - loss: 0.2069 - accuracy: 0.9340 - val_loss: 0.8706 - val_accuracy: 0.6250\n",
      "Epoch 10/50\n",
      "163/163 [==============================] - 4s 26ms/step - loss: 0.1982 - accuracy: 0.9375 - val_loss: 0.6089 - val_accuracy: 0.7500\n",
      "Epoch 11/50\n",
      "163/163 [==============================] - 4s 22ms/step - loss: 0.1856 - accuracy: 0.9431 - val_loss: 0.4575 - val_accuracy: 0.8125\n",
      "Epoch 12/50\n",
      "163/163 [==============================] - 3s 19ms/step - loss: 0.1833 - accuracy: 0.9423 - val_loss: 0.4195 - val_accuracy: 0.8125\n",
      "Epoch 13/50\n",
      "163/163 [==============================] - 3s 19ms/step - loss: 0.1763 - accuracy: 0.9425 - val_loss: 0.3122 - val_accuracy: 0.9375\n",
      "Epoch 14/50\n",
      "163/163 [==============================] - 3s 19ms/step - loss: 0.1713 - accuracy: 0.9467 - val_loss: 0.3066 - val_accuracy: 0.9375\n",
      "Epoch 15/50\n",
      "163/163 [==============================] - 3s 19ms/step - loss: 0.1650 - accuracy: 0.9521 - val_loss: 0.2876 - val_accuracy: 0.9375\n",
      "Epoch 16/50\n",
      "163/163 [==============================] - 3s 19ms/step - loss: 0.1553 - accuracy: 0.9509 - val_loss: 0.2800 - val_accuracy: 0.9375\n",
      "Epoch 17/50\n",
      "163/163 [==============================] - 3s 20ms/step - loss: 0.1522 - accuracy: 0.9536 - val_loss: 0.4332 - val_accuracy: 0.8125\n",
      "Epoch 18/50\n",
      "163/163 [==============================] - 3s 19ms/step - loss: 0.1511 - accuracy: 0.9490 - val_loss: 0.6538 - val_accuracy: 0.7500\n",
      "Epoch 19/50\n",
      "163/163 [==============================] - 3s 20ms/step - loss: 0.1511 - accuracy: 0.9511 - val_loss: 0.2923 - val_accuracy: 0.9375\n",
      "Epoch 20/50\n",
      "163/163 [==============================] - 4s 21ms/step - loss: 0.1497 - accuracy: 0.9519 - val_loss: 0.2421 - val_accuracy: 0.9375\n",
      "Epoch 21/50\n",
      "163/163 [==============================] - 3s 20ms/step - loss: 0.1407 - accuracy: 0.9578 - val_loss: 0.2418 - val_accuracy: 0.9375\n",
      "Epoch 22/50\n",
      "163/163 [==============================] - 3s 20ms/step - loss: 0.1389 - accuracy: 0.9559 - val_loss: 0.4544 - val_accuracy: 0.8125\n",
      "Epoch 23/50\n",
      "163/163 [==============================] - 3s 21ms/step - loss: 0.1479 - accuracy: 0.9463 - val_loss: 0.3271 - val_accuracy: 0.9375\n",
      "Epoch 24/50\n",
      "163/163 [==============================] - 4s 22ms/step - loss: 0.1362 - accuracy: 0.9530 - val_loss: 0.3359 - val_accuracy: 0.8750\n",
      "Epoch 25/50\n",
      "163/163 [==============================] - 3s 18ms/step - loss: 0.1306 - accuracy: 0.9582 - val_loss: 0.2849 - val_accuracy: 0.9375\n",
      "Epoch 26/50\n",
      "163/163 [==============================] - 3s 16ms/step - loss: 0.1272 - accuracy: 0.9572 - val_loss: 0.4744 - val_accuracy: 0.7500\n",
      "Epoch 27/50\n",
      "163/163 [==============================] - 3s 16ms/step - loss: 0.1262 - accuracy: 0.9571 - val_loss: 0.5726 - val_accuracy: 0.7500\n",
      "Epoch 28/50\n",
      "163/163 [==============================] - 2s 15ms/step - loss: 0.1239 - accuracy: 0.9597 - val_loss: 0.2658 - val_accuracy: 0.9375\n",
      "Epoch 29/50\n",
      "163/163 [==============================] - 3s 16ms/step - loss: 0.1239 - accuracy: 0.9572 - val_loss: 0.4245 - val_accuracy: 0.8125\n",
      "Epoch 30/50\n",
      "163/163 [==============================] - 2s 15ms/step - loss: 0.1217 - accuracy: 0.9601 - val_loss: 0.7728 - val_accuracy: 0.6875\n",
      "Epoch 31/50\n",
      "163/163 [==============================] - 2s 15ms/step - loss: 0.1237 - accuracy: 0.9599 - val_loss: 0.3905 - val_accuracy: 0.7500\n",
      "Epoch 32/50\n",
      "163/163 [==============================] - 2s 15ms/step - loss: 0.1159 - accuracy: 0.9613 - val_loss: 0.2885 - val_accuracy: 0.9375\n",
      "Epoch 33/50\n",
      "163/163 [==============================] - 3s 15ms/step - loss: 0.1159 - accuracy: 0.9605 - val_loss: 0.1863 - val_accuracy: 0.9375\n",
      "Epoch 34/50\n",
      "163/163 [==============================] - 3s 21ms/step - loss: 0.1129 - accuracy: 0.9630 - val_loss: 0.3613 - val_accuracy: 0.7500\n",
      "Epoch 35/50\n",
      "163/163 [==============================] - 3s 21ms/step - loss: 0.1144 - accuracy: 0.9603 - val_loss: 0.1735 - val_accuracy: 0.9375\n",
      "Epoch 36/50\n",
      "163/163 [==============================] - 3s 18ms/step - loss: 0.1140 - accuracy: 0.9605 - val_loss: 0.1858 - val_accuracy: 0.9375\n",
      "Epoch 37/50\n",
      "163/163 [==============================] - 3s 17ms/step - loss: 0.1090 - accuracy: 0.9641 - val_loss: 0.1958 - val_accuracy: 0.9375\n",
      "Epoch 38/50\n",
      "163/163 [==============================] - 3s 17ms/step - loss: 0.1102 - accuracy: 0.9634 - val_loss: 0.1666 - val_accuracy: 1.0000\n",
      "Epoch 39/50\n",
      "163/163 [==============================] - 3s 18ms/step - loss: 0.1086 - accuracy: 0.9640 - val_loss: 0.2679 - val_accuracy: 0.9375\n",
      "Epoch 40/50\n",
      "163/163 [==============================] - 3s 19ms/step - loss: 0.1110 - accuracy: 0.9618 - val_loss: 0.4987 - val_accuracy: 0.7500\n",
      "Epoch 41/50\n",
      "163/163 [==============================] - 3s 21ms/step - loss: 0.1097 - accuracy: 0.9624 - val_loss: 0.2253 - val_accuracy: 0.9375\n",
      "Epoch 42/50\n",
      "163/163 [==============================] - 3s 18ms/step - loss: 0.0992 - accuracy: 0.9670 - val_loss: 0.4728 - val_accuracy: 0.7500\n",
      "Epoch 43/50\n",
      "163/163 [==============================] - 3s 20ms/step - loss: 0.1055 - accuracy: 0.9640 - val_loss: 0.5265 - val_accuracy: 0.7500\n",
      "Epoch 44/50\n",
      "163/163 [==============================] - 3s 16ms/step - loss: 0.0974 - accuracy: 0.9661 - val_loss: 0.1666 - val_accuracy: 0.9375\n",
      "Epoch 45/50\n",
      "163/163 [==============================] - 3s 19ms/step - loss: 0.1059 - accuracy: 0.9640 - val_loss: 0.6294 - val_accuracy: 0.7500\n",
      "Epoch 46/50\n",
      "163/163 [==============================] - 3s 15ms/step - loss: 0.1012 - accuracy: 0.9663 - val_loss: 0.3325 - val_accuracy: 0.8125\n",
      "Epoch 47/50\n",
      "163/163 [==============================] - 3s 15ms/step - loss: 0.1042 - accuracy: 0.9628 - val_loss: 0.3375 - val_accuracy: 0.8750\n",
      "Epoch 48/50\n",
      "163/163 [==============================] - 2s 15ms/step - loss: 0.1004 - accuracy: 0.9645 - val_loss: 0.2975 - val_accuracy: 0.8750\n",
      "Epoch 49/50\n",
      "163/163 [==============================] - 3s 16ms/step - loss: 0.1006 - accuracy: 0.9661 - val_loss: 0.6475 - val_accuracy: 0.7500\n",
      "Epoch 50/50\n",
      "163/163 [==============================] - 3s 15ms/step - loss: 0.0979 - accuracy: 0.9668 - val_loss: 0.2461 - val_accuracy: 0.9375\n"
     ]
    }
   ],
   "source": [
    "model.compile(optimizer='sgd',\n",
    "              loss='binary_crossentropy',\n",
    "              metrics=['accuracy'])\n",
    "\n",
    "history = model.fit(train_img,\n",
    "                    train_y,\n",
    "                    epochs=50,\n",
    "                    batch_size=32,\n",
    "                    validation_data=(val_img, val_y))"
   ]
  },
  {
   "cell_type": "code",
   "execution_count": 63,
   "metadata": {},
   "outputs": [
    {
     "name": "stdout",
     "output_type": "stream",
     "text": [
      "163/163 [==============================] - 1s 9ms/step - loss: 0.0808 - accuracy: 0.9743\n"
     ]
    }
   ],
   "source": [
    "results_train = model.evaluate(train_img, train_y)"
   ]
  },
  {
   "cell_type": "code",
   "execution_count": 64,
   "metadata": {},
   "outputs": [
    {
     "name": "stdout",
     "output_type": "stream",
     "text": [
      "20/20 [==============================] - 0s 19ms/step - loss: 0.9336 - accuracy: 0.7724\n"
     ]
    }
   ],
   "source": [
    "results_test = model.evaluate(test_img, test_y)"
   ]
  },
  {
   "cell_type": "code",
   "execution_count": 86,
   "metadata": {},
   "outputs": [
    {
     "name": "stdout",
     "output_type": "stream",
     "text": [
      "Train Results: [0.08080942183732986, 0.9743098020553589]\n",
      "Test Results: [0.9335736036300659, 0.7724359035491943]\n"
     ]
    }
   ],
   "source": [
    "print('Train Results:', results_train)\n",
    "print('Test Results:', results_test)"
   ]
  },
  {
   "cell_type": "code",
   "execution_count": null,
   "metadata": {},
   "outputs": [],
   "source": []
  },
  {
   "cell_type": "code",
   "execution_count": 73,
   "metadata": {},
   "outputs": [
    {
     "data": {
      "image/png": "[encoded data removed]",
      "text/plain": [
       "<Figure size 432x288 with 1 Axes>"
      ]
     },
     "metadata": {
      "needs_background": "light"
     },
     "output_type": "display_data"
    },
    {
     "data": {
      "image/png": "[encoded data removed]",
      "text/plain": [
       "<Figure size 432x288 with 1 Axes>"
      ]
     },
     "metadata": {
      "needs_background": "light"
     },
     "output_type": "display_data"
    }
   ],
   "source": [
    "# Plot history\n",
    "\n",
    "import matplotlib.pyplot as plt\n",
    "%matplotlib inline \n",
    "\n",
    "acc = history.history['accuracy']\n",
    "val_acc = history.history['val_accuracy']\n",
    "loss = history.history['loss']\n",
    "val_loss = history.history['val_loss']\n",
    "epochs = range(len(acc))\n",
    "plt.plot(epochs, acc, 'bo', label='Training acc')\n",
    "plt.plot(epochs, val_acc, 'b', label='Validation acc')\n",
    "plt.title('Training and validation accuracy')\n",
    "plt.legend()\n",
    "plt.figure()\n",
    "plt.plot(epochs, loss, 'bo', label='Training loss')\n",
    "plt.plot(epochs, val_loss, 'b', label='Validation loss')\n",
    "plt.title('Training and validation loss')\n",
    "plt.legend()\n",
    "plt.show()"
   ]
  },
  {
   "cell_type": "markdown",
   "metadata": {},
   "source": [
    "Baseline model seemed to show some degree of overfitting. \n",
    "- Train Accuracy: 0.97\n",
    "- Test Accuracy: 0.77"
   ]
  },
  {
   "cell_type": "markdown",
   "metadata": {},
   "source": [
    "## Building a CNN"
   ]
  },
  {
   "cell_type": "code",
   "execution_count": 70,
   "metadata": {},
   "outputs": [],
   "source": [
    "# Design the model\n",
    "model = models.Sequential()\n",
    "model.add(layers.Conv2D(32, (3, 3), activation='relu',\n",
    "                        input_shape=(150, 150, 3)))\n",
    "model.add(layers.MaxPooling2D((2, 2)))\n",
    "\n",
    "model.add(layers.Conv2D(32, (4, 4), activation='relu'))\n",
    "model.add(layers.MaxPooling2D((2, 2)))\n",
    "\n",
    "model.add(layers.Conv2D(64, (3, 3), activation='relu'))\n",
    "model.add(layers.MaxPooling2D((2, 2)))\n",
    "\n",
    "model.add(layers.Flatten())\n",
    "model.add(layers.Dense(64, activation='relu'))\n",
    "model.add(layers.Dense(1, activation='sigmoid'))\n",
    "\n",
    "model.compile(loss='binary_crossentropy',\n",
    "              optimizer=\"sgd\",\n",
    "              metrics=['acc'])"
   ]
  },
  {
   "cell_type": "code",
   "execution_count": null,
   "metadata": {},
   "outputs": [],
   "source": [
    "# Model will take a good amount of time to run ~1-2 minutes per epoch\n",
    "history = model.fit(train_images,\n",
    "                    train_y,\n",
    "                    epochs=30,\n",
    "                    batch_size=32,\n",
    "                    validation_data=(val_images, val_y))"
   ]
  },
  {
   "cell_type": "markdown",
   "metadata": {},
   "source": [
    "## Using Data Augmentation \n",
    "\n",
    "ImageDataGenerator() becomes really useful when we actually want to generate more data. \n"
   ]
  },
  {
   "cell_type": "code",
   "execution_count": 87,
   "metadata": {},
   "outputs": [],
   "source": [
    "train_datagen = ImageDataGenerator(rescale=1./255, \n",
    "                                   rotation_range=40, \n",
    "                                   width_shift_range=0.2, \n",
    "                                   height_shift_range=0.2, \n",
    "                                   shear_range=0.3, \n",
    "                                   zoom_range=0.1, \n",
    "                                   horizontal_flip=False)"
   ]
  },
  {
   "cell_type": "code",
   "execution_count": 90,
   "metadata": {},
   "outputs": [
    {
     "name": "stdout",
     "output_type": "stream",
     "text": [
      "Found 624 images belonging to 2 classes.\n",
      "Found 16 images belonging to 2 classes.\n",
      "Found 5216 images belonging to 2 classes.\n"
     ]
    }
   ],
   "source": [
    "# get all the data in the directory split/test , and reshape them\n",
    "test_generator = ImageDataGenerator(rescale=1./255).flow_from_directory(\n",
    "        test_dir, \n",
    "        target_size=(64, 64), \n",
    "        batch_size = 624,\n",
    "        class_mode='binary') \n",
    "\n",
    "# get all the data in the directory split/validation , and reshape them\n",
    "val_generator = ImageDataGenerator(rescale=1./255).flow_from_directory(\n",
    "        val_dir, \n",
    "        target_size=(64, 64),\n",
    "        batch_size = 32,\n",
    "        class_mode='binary')\n",
    "\n",
    "# get all the data in the directory split/train, and reshape them\n",
    "train_generator = train_datagen.flow_from_directory(\n",
    "        train_dir, \n",
    "        target_size=(64, 64), \n",
    "        batch_size = 32, \n",
    "        class_mode='binary')"
   ]
  },
  {
   "cell_type": "code",
   "execution_count": null,
   "metadata": {},
   "outputs": [],
   "source": [
    "model = models.Sequential()\n",
    "model.add(layers.Conv2D(32, (3, 3), activation='relu',\n",
    "                        input_shape=(150 , 150,  3)))\n",
    "model.add(layers.MaxPooling2D((2, 2)))\n",
    "\n",
    "model.add(layers.Conv2D(32, (4, 4), activation='relu'))\n",
    "model.add(layers.MaxPooling2D((2, 2)))\n",
    "\n",
    "model.add(layers.Conv2D(64, (3, 3), activation='relu'))\n",
    "model.add(layers.MaxPooling2D((2, 2)))\n",
    "\n",
    "model.add(layers.Flatten())\n",
    "model.add(layers.Dense(64, activation='relu'))\n",
    "model.add(layers.Dense(1, activation='sigmoid'))\n",
    "\n",
    "model.compile(loss='binary_crossentropy',\n",
    "              optimizer= 'sgd',\n",
    "              metrics=['acc'])"
   ]
  },
  {
   "cell_type": "code",
   "execution_count": null,
   "metadata": {},
   "outputs": [],
   "source": [
    "history_2 = model.fit(train_generator,\n",
    "                      epochs=30,\n",
    "                      validation_data=val_generator)"
   ]
  },
  {
   "cell_type": "code",
   "execution_count": null,
   "metadata": {},
   "outputs": [],
   "source": [
    "test_x, test_y = next(test_generator)"
   ]
  },
  {
   "cell_type": "code",
   "execution_count": null,
   "metadata": {},
   "outputs": [],
   "source": [
    "results_test = model.evaluate(test_x, test_y)\n",
    "results_test"
   ]
  },
  {
   "cell_type": "code",
   "execution_count": null,
   "metadata": {},
   "outputs": [],
   "source": []
  },
  {
   "cell_type": "code",
   "execution_count": null,
   "metadata": {},
   "outputs": [],
   "source": []
  }
 ],
 "metadata": {
  "kernelspec": {
   "display_name": "Python 3",
   "language": "python",
   "name": "python3"
  },
  "language_info": {
   "codemirror_mode": {
    "name": "ipython",
    "version": 3
   },
   "file_extension": ".py",
   "mimetype": "text/x-python",
   "name": "python",
   "nbconvert_exporter": "python",
   "pygments_lexer": "ipython3",
   "version": "3.8.5"
  }
 },
 "nbformat": 4,
 "nbformat_minor": 4
}
