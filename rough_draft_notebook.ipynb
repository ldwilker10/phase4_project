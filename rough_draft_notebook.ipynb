{
 "cells": [
  {
   "cell_type": "code",
   "execution_count": 1,
   "metadata": {},
   "outputs": [],
   "source": [
    "#import libraries\n",
    "\n",
    "\n",
    "import pandas as pd\n",
    "import numpy as np\n",
    "import os\n",
    "import matplotlib.pyplot as plt\n",
    "import random\n",
    "import tensorflow as tf\n",
    "import tensorflow.keras as keras\n",
    "\n",
    "from keras import models \n",
    "from keras import layers\n",
    "from keras import optimizers \n",
    "\n",
    "from keras.preprocessing import image\n",
    "from tensorflow.keras.preprocessing.image import ImageDataGenerator\n",
    "from sklearn.utils.class_weight import compute_class_weight\n",
    "from keras.models import Sequential\n",
    "from keras.layers import Dense\n",
    "from keras.datasets import mnist\n",
    "from tensorflow.keras.losses import SparseCategoricalCrossentropy\n",
    "\n",
    "from sklearn.model_selection import train_test_split\n",
    "from sklearn.preprocessing import LabelBinarizer\n",
    "\n",
    "\n",
    "import warnings\n",
    "warnings.filterwarnings(action='ignore', category=FutureWarning)\n",
    "\n",
    "import warnings\n",
    "warnings.filterwarnings(\"ignore\", message=\"`np.object`\")\n"
   ]
  },
  {
   "cell_type": "markdown",
   "metadata": {},
   "source": [
    "## EDA"
   ]
  },
  {
   "cell_type": "code",
   "execution_count": 2,
   "metadata": {},
   "outputs": [],
   "source": [
    "# Don't for get to check distribution, check for duplicates, nans\n",
    "# get statistics if needed/useful "
   ]
  },
  {
   "cell_type": "code",
   "execution_count": 3,
   "metadata": {},
   "outputs": [],
   "source": [
    "# Define paths\n",
    "train_dir = 'chest_xray/train/'\n",
    "val_dir = 'chest_xray/val/'\n",
    "test_dir = 'chest_xray/test/'"
   ]
  },
  {
   "cell_type": "code",
   "execution_count": 4,
   "metadata": {},
   "outputs": [
    {
     "name": "stdout",
     "output_type": "stream",
     "text": [
      "Train Data:\n",
      "Normal Images: 1341\n",
      "Pneumonia Images: 3875\n",
      "\n",
      "Validation Data:\n",
      "Normal Images: 8\n",
      "Pneumonia Images: 8\n",
      "\n",
      "Test Data:\n",
      "Normal Images: 234\n",
      "Pneumonia Images: 390\n"
     ]
    }
   ],
   "source": [
    "train_normal_count = len(os.listdir(os.path.join(train_dir, 'NORMAL')))\n",
    "train_pneumonia_count = len(os.listdir(os.path.join(train_dir, 'PNEUMONIA')))\n",
    "val_normal_count = len(os.listdir(os.path.join(val_dir, 'NORMAL')))\n",
    "val_pneumonia_count = len(os.listdir(os.path.join(val_dir, 'PNEUMONIA')))\n",
    "test_normal_count = len(os.listdir(os.path.join(test_dir, 'NORMAL')))\n",
    "test_pneumonia_count = len(os.listdir(os.path.join(test_dir, 'PNEUMONIA')))\n",
    "\n",
    "print(\"Train Data:\")\n",
    "print(f\"Normal Images: {train_normal_count}\")\n",
    "print(f\"Pneumonia Images: {train_pneumonia_count}\")\n",
    "\n",
    "print(\"\\nValidation Data:\")\n",
    "print(f\"Normal Images: {val_normal_count}\")\n",
    "print(f\"Pneumonia Images: {val_pneumonia_count}\")\n",
    "\n",
    "print(\"\\nTest Data:\")\n",
    "print(f\"Normal Images: {test_normal_count}\")\n",
    "print(f\"Pneumonia Images: {test_pneumonia_count}\")"
   ]
  },
  {
   "cell_type": "code",
   "execution_count": 5,
   "metadata": {},
   "outputs": [
    {
     "data": {
      "image/png": "[encoded data removed]",
      "text/plain": [
       "<Figure size 432x288 with 1 Axes>"
      ]
     },
     "metadata": {
      "needs_background": "light"
     },
     "output_type": "display_data"
    },
    {
     "data": {
      "image/png": "[encoded data removed]",
      "text/plain": [
       "<Figure size 432x288 with 1 Axes>"
      ]
     },
     "metadata": {
      "needs_background": "light"
     },
     "output_type": "display_data"
    },
    {
     "data": {
      "image/png": "[encoded data removed]",
      "text/plain": [
       "<Figure size 432x288 with 1 Axes>"
      ]
     },
     "metadata": {
      "needs_background": "light"
     },
     "output_type": "display_data"
    }
   ],
   "source": [
    "# Function to plot class distribution\n",
    "def plot_class_distribution(normal_count, pneumonia_count, set_name):\n",
    "    plt.bar(['Normal', 'Pneumonia'], [normal_count, pneumonia_count])\n",
    "    plt.xlabel('Class')\n",
    "    plt.ylabel('Number of Images')\n",
    "    plt.title(f'Class Distribution in {set_name} Set')\n",
    "    plt.show()\n",
    "\n",
    "# Plot class distribution for each set\n",
    "plot_class_distribution(train_normal_count, train_pneumonia_count, 'Train')\n",
    "plot_class_distribution(val_normal_count, val_pneumonia_count, 'Validation')\n",
    "plot_class_distribution(test_normal_count, test_pneumonia_count, 'Test')"
   ]
  },
  {
   "cell_type": "markdown",
   "metadata": {},
   "source": [
    "## Designing the Model "
   ]
  },
  {
   "cell_type": "code",
   "execution_count": 6,
   "metadata": {},
   "outputs": [
    {
     "name": "stdout",
     "output_type": "stream",
     "text": [
      "Found 5216 images belonging to 2 classes.\n",
      "Found 16 images belonging to 2 classes.\n",
      "Found 624 images belonging to 2 classes.\n"
     ]
    }
   ],
   "source": [
    "# Preprocess the images into tensors\n",
    "# Rescale the data by 1/.255 and use binary_crossentropy loss\n",
    "\n",
    "from keras.preprocessing.image import ImageDataGenerator\n",
    "\n",
    "# All images will be rescaled by 1./255\n",
    "train_datagen = ImageDataGenerator(rescale=1./255)\n",
    "val_datagen = ImageDataGenerator(rescale=1./255)\n",
    "test_datagen = ImageDataGenerator(rescale=1./255)\n",
    "\n",
    "train_generator = train_datagen.flow_from_directory(\n",
    "        # This is the target directory\n",
    "        train_dir,\n",
    "        # All images will be resized to 150x150\n",
    "        target_size=(150, 150),\n",
    "        batch_size=5216,\n",
    "        # Since we use binary_crossentropy loss, we need binary labels\n",
    "        class_mode='binary')\n",
    "\n",
    "val_generator = val_datagen.flow_from_directory(val_dir,\n",
    "                                                        target_size=(150, 150),\n",
    "                                                        batch_size=16,\n",
    "                                                        class_mode='binary')\n",
    "\n",
    "test_generator = test_datagen.flow_from_directory(test_dir,\n",
    "                                                        target_size=(150, 150),\n",
    "                                                        batch_size=624,\n",
    "                                                        class_mode='binary')"
   ]
  },
  {
   "cell_type": "code",
   "execution_count": 7,
   "metadata": {},
   "outputs": [],
   "source": [
    "# create the data sets\n",
    "train_images, train_labels = next(train_generator)\n",
    "test_images, test_labels = next(test_generator)\n",
    "val_images, val_labels = next(val_generator)"
   ]
  },
  {
   "cell_type": "code",
   "execution_count": 8,
   "metadata": {},
   "outputs": [
    {
     "data": {
      "text/plain": [
       "<matplotlib.image.AxesImage at 0x7f84e7a5cee0>"
      ]
     },
     "metadata": {},
     "output_type": "display_data"
    },
    {
     "name": "stdout",
     "output_type": "stream",
     "text": [
      "Label: 0.0\n"
     ]
    },
    {
     "data": {
      "image/png": "[encoded data removed]",
      "text/plain": [
       "<Figure size 432x288 with 1 Axes>"
      ]
     },
     "metadata": {
      "needs_background": "light"
     },
     "output_type": "display_data"
    }
   ],
   "source": [
    "sample_image = train_images[1]\n",
    "sample_label = train_labels[1]\n",
    "display(plt.imshow(sample_image))\n",
    "print('Label: {}'.format(sample_label))"
   ]
  },
  {
   "cell_type": "code",
   "execution_count": 9,
   "metadata": {},
   "outputs": [
    {
     "name": "stdout",
     "output_type": "stream",
     "text": [
      "{0.0: 1341, 1.0: 3875}\n"
     ]
    }
   ],
   "source": [
    "# Get value counts\n",
    "unique_elements, counts = np.unique(train_labels, return_counts=True)\n",
    "\n",
    "# Combine the unique elements and their counts into a dictionary\n",
    "value_counts_dict = dict(zip(unique_elements, counts))\n",
    "\n",
    "# Print the result\n",
    "print(value_counts_dict)"
   ]
  },
  {
   "cell_type": "code",
   "execution_count": 10,
   "metadata": {},
   "outputs": [
    {
     "name": "stdout",
     "output_type": "stream",
     "text": [
      "Number of training samples: 5216\n",
      "Number of testing samples: 624\n",
      "Number of validation samples: 16\n",
      "train_images shape: (5216, 150, 150, 3)\n",
      "train_labels shape: (5216,)\n",
      "test_images shape: (624, 150, 150, 3)\n",
      "test_labels shape: (624,)\n",
      "val_images shape: (16, 150, 150, 3)\n",
      "val_labels shape: (16,)\n"
     ]
    }
   ],
   "source": [
    "# Explore your dataset again\n",
    "m_train = train_images.shape[0]\n",
    "num_px = train_images.shape[1]\n",
    "m_test = test_images.shape[0]\n",
    "m_val = val_images.shape[0]\n",
    "\n",
    "print (\"Number of training samples: \" + str(m_train))\n",
    "print (\"Number of testing samples: \" + str(m_test))\n",
    "print (\"Number of validation samples: \" + str(m_val))\n",
    "print (\"train_images shape: \" + str(train_images.shape))\n",
    "print (\"train_labels shape: \" + str(train_labels.shape))\n",
    "print (\"test_images shape: \" + str(test_images.shape))\n",
    "print (\"test_labels shape: \" + str(test_labels.shape))\n",
    "print (\"val_images shape: \" + str(val_images.shape))\n",
    "print (\"val_labels shape: \" + str(val_labels.shape))"
   ]
  },
  {
   "cell_type": "code",
   "execution_count": 11,
   "metadata": {},
   "outputs": [
    {
     "name": "stdout",
     "output_type": "stream",
     "text": [
      "(5216, 67500)\n",
      "(624, 67500)\n",
      "(16, 67500)\n"
     ]
    }
   ],
   "source": [
    "train_img = train_images.reshape(train_images.shape[0], -1)\n",
    "test_img = test_images.reshape(test_images.shape[0], -1)\n",
    "val_img = val_images.reshape(val_images.shape[0], -1)\n",
    "\n",
    "print(train_img.shape)\n",
    "print(test_img.shape)\n",
    "print(val_img.shape)"
   ]
  },
  {
   "cell_type": "code",
   "execution_count": 12,
   "metadata": {},
   "outputs": [],
   "source": [
    "train_y = np.reshape(train_labels, (5216,1))\n",
    "test_y = np.reshape(test_labels, (624,1))\n",
    "val_y = np.reshape(val_labels, (16,1))"
   ]
  },
  {
   "cell_type": "code",
   "execution_count": 13,
   "metadata": {},
   "outputs": [],
   "source": [
    "# Build a baseline fully connected model\n",
    "from keras import models\n",
    "from keras import layers\n",
    "\n",
    "model = models.Sequential()\n",
    "model.add(layers.Dense(20, activation='relu', input_shape=(67500,))) # 2 hidden layers\n",
    "model.add(layers.Dense(7, activation='relu'))\n",
    "model.add(layers.Dense(5, activation='relu'))\n",
    "model.add(layers.Dense(1, activation='sigmoid'))"
   ]
  },
  {
   "cell_type": "code",
   "execution_count": 14,
   "metadata": {},
   "outputs": [
    {
     "name": "stdout",
     "output_type": "stream",
     "text": [
      "Epoch 1/50\n",
      "163/163 [==============================] - 3s 14ms/step - loss: 0.5131 - accuracy: 0.7558 - val_loss: 2.3998 - val_accuracy: 0.5000\n",
      "Epoch 2/50\n",
      "163/163 [==============================] - 2s 13ms/step - loss: 0.3845 - accuracy: 0.8487 - val_loss: 0.4745 - val_accuracy: 0.8750\n",
      "Epoch 3/50\n",
      "163/163 [==============================] - 2s 13ms/step - loss: 0.3004 - accuracy: 0.8815 - val_loss: 0.5260 - val_accuracy: 0.8125\n",
      "Epoch 4/50\n",
      "163/163 [==============================] - 3s 17ms/step - loss: 0.2552 - accuracy: 0.9059 - val_loss: 0.4236 - val_accuracy: 0.8750\n",
      "Epoch 5/50\n",
      "163/163 [==============================] - 2s 12ms/step - loss: 0.2199 - accuracy: 0.9155 - val_loss: 0.7803 - val_accuracy: 0.6250\n",
      "Epoch 6/50\n",
      "163/163 [==============================] - 2s 12ms/step - loss: 0.1979 - accuracy: 0.9235 - val_loss: 0.3828 - val_accuracy: 0.8125\n",
      "Epoch 7/50\n",
      "163/163 [==============================] - 2s 11ms/step - loss: 0.1799 - accuracy: 0.9316 - val_loss: 0.8798 - val_accuracy: 0.6875\n",
      "Epoch 8/50\n",
      "163/163 [==============================] - 2s 12ms/step - loss: 0.1859 - accuracy: 0.9258 - val_loss: 0.5654 - val_accuracy: 0.7500\n",
      "Epoch 9/50\n",
      "163/163 [==============================] - 2s 12ms/step - loss: 0.1774 - accuracy: 0.9325 - val_loss: 0.4919 - val_accuracy: 0.8125\n",
      "Epoch 10/50\n",
      "163/163 [==============================] - 2s 12ms/step - loss: 0.1537 - accuracy: 0.9427 - val_loss: 0.6544 - val_accuracy: 0.7500\n",
      "Epoch 11/50\n",
      "163/163 [==============================] - 2s 12ms/step - loss: 0.1588 - accuracy: 0.9410 - val_loss: 0.3942 - val_accuracy: 0.8125\n",
      "Epoch 12/50\n",
      "163/163 [==============================] - 2s 12ms/step - loss: 0.1414 - accuracy: 0.9477 - val_loss: 0.3399 - val_accuracy: 0.8750\n",
      "Epoch 13/50\n",
      "163/163 [==============================] - 2s 12ms/step - loss: 0.1383 - accuracy: 0.9486 - val_loss: 0.9527 - val_accuracy: 0.6250\n",
      "Epoch 14/50\n",
      "163/163 [==============================] - 2s 13ms/step - loss: 0.1446 - accuracy: 0.9475 - val_loss: 0.4803 - val_accuracy: 0.8125\n",
      "Epoch 15/50\n",
      "163/163 [==============================] - 2s 14ms/step - loss: 0.1392 - accuracy: 0.9475 - val_loss: 0.4611 - val_accuracy: 0.8125\n",
      "Epoch 16/50\n",
      "163/163 [==============================] - 2s 13ms/step - loss: 0.1261 - accuracy: 0.9538 - val_loss: 0.5091 - val_accuracy: 0.8125\n",
      "Epoch 17/50\n",
      "163/163 [==============================] - 2s 14ms/step - loss: 0.1300 - accuracy: 0.9517 - val_loss: 0.5183 - val_accuracy: 0.8125\n",
      "Epoch 18/50\n",
      "163/163 [==============================] - 2s 12ms/step - loss: 0.1183 - accuracy: 0.9536 - val_loss: 0.1665 - val_accuracy: 0.9375\n",
      "Epoch 19/50\n",
      "163/163 [==============================] - 2s 12ms/step - loss: 0.1363 - accuracy: 0.9479 - val_loss: 0.5389 - val_accuracy: 0.7500\n",
      "Epoch 20/50\n",
      "163/163 [==============================] - 2s 13ms/step - loss: 0.1276 - accuracy: 0.9494 - val_loss: 0.5135 - val_accuracy: 0.8125\n",
      "Epoch 21/50\n",
      "163/163 [==============================] - 2s 13ms/step - loss: 0.1178 - accuracy: 0.9571 - val_loss: 0.7922 - val_accuracy: 0.6875\n",
      "Epoch 22/50\n",
      "163/163 [==============================] - 2s 11ms/step - loss: 0.1208 - accuracy: 0.9540 - val_loss: 0.1774 - val_accuracy: 0.9375\n",
      "Epoch 23/50\n",
      "163/163 [==============================] - 2s 11ms/step - loss: 0.1213 - accuracy: 0.9567 - val_loss: 0.3111 - val_accuracy: 0.9375\n",
      "Epoch 24/50\n",
      "163/163 [==============================] - 2s 12ms/step - loss: 0.1167 - accuracy: 0.9557 - val_loss: 0.1941 - val_accuracy: 0.9375\n",
      "Epoch 25/50\n",
      "163/163 [==============================] - 2s 13ms/step - loss: 0.1137 - accuracy: 0.9574 - val_loss: 0.9870 - val_accuracy: 0.6250\n",
      "Epoch 26/50\n",
      "163/163 [==============================] - 2s 12ms/step - loss: 0.1129 - accuracy: 0.9594 - val_loss: 0.4053 - val_accuracy: 0.8125\n",
      "Epoch 27/50\n",
      "163/163 [==============================] - 2s 12ms/step - loss: 0.1077 - accuracy: 0.9584 - val_loss: 0.2365 - val_accuracy: 0.9375\n",
      "Epoch 28/50\n",
      "163/163 [==============================] - 2s 13ms/step - loss: 0.1097 - accuracy: 0.9595 - val_loss: 0.2099 - val_accuracy: 0.9375\n",
      "Epoch 29/50\n",
      "163/163 [==============================] - 2s 14ms/step - loss: 0.1077 - accuracy: 0.9586 - val_loss: 0.6207 - val_accuracy: 0.6875\n",
      "Epoch 30/50\n",
      "163/163 [==============================] - 2s 13ms/step - loss: 0.1205 - accuracy: 0.9565 - val_loss: 0.6574 - val_accuracy: 0.6875\n",
      "Epoch 31/50\n",
      "163/163 [==============================] - 2s 15ms/step - loss: 0.1072 - accuracy: 0.9611 - val_loss: 0.3700 - val_accuracy: 0.8125\n",
      "Epoch 32/50\n",
      "163/163 [==============================] - 2s 13ms/step - loss: 0.1005 - accuracy: 0.9632 - val_loss: 0.3201 - val_accuracy: 0.9375\n",
      "Epoch 33/50\n",
      "163/163 [==============================] - 2s 15ms/step - loss: 0.1031 - accuracy: 0.9628 - val_loss: 0.1527 - val_accuracy: 0.9375\n",
      "Epoch 34/50\n",
      "163/163 [==============================] - 2s 15ms/step - loss: 0.1058 - accuracy: 0.9601 - val_loss: 0.5672 - val_accuracy: 0.7500\n",
      "Epoch 35/50\n",
      "163/163 [==============================] - 2s 14ms/step - loss: 0.0983 - accuracy: 0.9634 - val_loss: 0.4241 - val_accuracy: 0.8125\n",
      "Epoch 36/50\n",
      "163/163 [==============================] - 2s 13ms/step - loss: 0.1002 - accuracy: 0.9647 - val_loss: 0.2168 - val_accuracy: 0.9375\n",
      "Epoch 37/50\n",
      "163/163 [==============================] - 2s 14ms/step - loss: 0.1029 - accuracy: 0.9617 - val_loss: 0.4975 - val_accuracy: 0.7500\n",
      "Epoch 38/50\n",
      "163/163 [==============================] - 2s 14ms/step - loss: 0.1104 - accuracy: 0.9584 - val_loss: 0.7027 - val_accuracy: 0.6875\n",
      "Epoch 39/50\n",
      "163/163 [==============================] - 2s 14ms/step - loss: 0.0956 - accuracy: 0.9630 - val_loss: 0.4734 - val_accuracy: 0.7500\n",
      "Epoch 40/50\n",
      "163/163 [==============================] - 2s 14ms/step - loss: 0.0950 - accuracy: 0.9651 - val_loss: 0.3810 - val_accuracy: 0.8125\n",
      "Epoch 41/50\n",
      "163/163 [==============================] - 2s 14ms/step - loss: 0.0957 - accuracy: 0.9632 - val_loss: 0.2878 - val_accuracy: 0.8750\n",
      "Epoch 42/50\n",
      "163/163 [==============================] - 2s 14ms/step - loss: 0.0962 - accuracy: 0.9601 - val_loss: 0.2380 - val_accuracy: 0.9375\n",
      "Epoch 43/50\n",
      "163/163 [==============================] - 2s 14ms/step - loss: 0.1006 - accuracy: 0.9632 - val_loss: 0.8494 - val_accuracy: 0.6875\n",
      "Epoch 44/50\n",
      "163/163 [==============================] - 2s 14ms/step - loss: 0.0960 - accuracy: 0.9653 - val_loss: 0.3472 - val_accuracy: 0.8125\n",
      "Epoch 45/50\n",
      "163/163 [==============================] - 2s 14ms/step - loss: 0.0870 - accuracy: 0.9678 - val_loss: 0.5979 - val_accuracy: 0.7500\n",
      "Epoch 46/50\n",
      "163/163 [==============================] - 2s 14ms/step - loss: 0.0986 - accuracy: 0.9645 - val_loss: 0.1604 - val_accuracy: 0.9375\n",
      "Epoch 47/50\n",
      "163/163 [==============================] - 3s 16ms/step - loss: 0.0972 - accuracy: 0.9649 - val_loss: 0.6770 - val_accuracy: 0.6875\n",
      "Epoch 48/50\n",
      "163/163 [==============================] - 2s 14ms/step - loss: 0.0884 - accuracy: 0.9682 - val_loss: 0.5358 - val_accuracy: 0.8125\n",
      "Epoch 49/50\n",
      "163/163 [==============================] - 3s 17ms/step - loss: 0.0886 - accuracy: 0.9676 - val_loss: 0.3425 - val_accuracy: 0.8750\n",
      "Epoch 50/50\n",
      "163/163 [==============================] - 3s 15ms/step - loss: 0.0872 - accuracy: 0.9678 - val_loss: 0.2416 - val_accuracy: 0.9375\n"
     ]
    }
   ],
   "source": [
    "model.compile(optimizer='sgd',\n",
    "              loss='binary_crossentropy',\n",
    "              metrics=['accuracy'])\n",
    "\n",
    "history = model.fit(train_img,\n",
    "                    train_y,\n",
    "                    epochs=50,\n",
    "                    batch_size=32,\n",
    "                    validation_data=(val_img, val_y))"
   ]
  },
  {
   "cell_type": "code",
   "execution_count": 15,
   "metadata": {},
   "outputs": [
    {
     "name": "stdout",
     "output_type": "stream",
     "text": [
      "163/163 [==============================] - 1s 7ms/step - loss: 0.0745 - accuracy: 0.9739\n"
     ]
    }
   ],
   "source": [
    "results_train = model.evaluate(train_img, train_y)"
   ]
  },
  {
   "cell_type": "code",
   "execution_count": 16,
   "metadata": {},
   "outputs": [
    {
     "name": "stdout",
     "output_type": "stream",
     "text": [
      "20/20 [==============================] - 1s 17ms/step - loss: 0.8845 - accuracy: 0.7692\n"
     ]
    }
   ],
   "source": [
    "results_test = model.evaluate(test_img, test_y)"
   ]
  },
  {
   "cell_type": "code",
   "execution_count": 17,
   "metadata": {},
   "outputs": [
    {
     "name": "stdout",
     "output_type": "stream",
     "text": [
      "Train Results: [0.07452423125505447, 0.9739263653755188]\n",
      "Test Results: [0.8845446705818176, 0.7692307829856873]\n"
     ]
    }
   ],
   "source": [
    "print('Train Results:', results_train)\n",
    "print('Test Results:', results_test)"
   ]
  },
  {
   "cell_type": "code",
   "execution_count": null,
   "metadata": {},
   "outputs": [],
   "source": []
  },
  {
   "cell_type": "code",
   "execution_count": 18,
   "metadata": {},
   "outputs": [
    {
     "data": {
      "image/png": "[encoded data removed]",
      "text/plain": [
       "<Figure size 432x288 with 1 Axes>"
      ]
     },
     "metadata": {
      "needs_background": "light"
     },
     "output_type": "display_data"
    },
    {
     "data": {
      "image/png": "[encoded data removed]",
      "text/plain": [
       "<Figure size 432x288 with 1 Axes>"
      ]
     },
     "metadata": {
      "needs_background": "light"
     },
     "output_type": "display_data"
    }
   ],
   "source": [
    "# Plot history\n",
    "\n",
    "import matplotlib.pyplot as plt\n",
    "%matplotlib inline \n",
    "\n",
    "acc = history.history['accuracy']\n",
    "val_acc = history.history['val_accuracy']\n",
    "loss = history.history['loss']\n",
    "val_loss = history.history['val_loss']\n",
    "epochs = range(len(acc))\n",
    "plt.plot(epochs, acc, 'bo', label='Training acc')\n",
    "plt.plot(epochs, val_acc, 'b', label='Validation acc')\n",
    "plt.title('Training and validation accuracy')\n",
    "plt.legend()\n",
    "plt.figure()\n",
    "plt.plot(epochs, loss, 'bo', label='Training loss')\n",
    "plt.plot(epochs, val_loss, 'b', label='Validation loss')\n",
    "plt.title('Training and validation loss')\n",
    "plt.legend()\n",
    "plt.show()"
   ]
  },
  {
   "cell_type": "markdown",
   "metadata": {},
   "source": [
    "Baseline model seemed to show some degree of overfitting. \n",
    "- Train Accuracy: 0.97\n",
    "- Test Accuracy: 0.77"
   ]
  },
  {
   "cell_type": "markdown",
   "metadata": {},
   "source": [
    "## Building a CNN"
   ]
  },
  {
   "cell_type": "code",
   "execution_count": 19,
   "metadata": {},
   "outputs": [],
   "source": [
    "# Design the CNN model\n",
    "model = models.Sequential()\n",
    "model.add(layers.Conv2D(32, (3, 3), activation='relu',\n",
    "                        input_shape=(150, 150, 3)))\n",
    "model.add(layers.MaxPooling2D((2, 2)))\n",
    "\n",
    "model.add(layers.Conv2D(32, (4, 4), activation='relu'))\n",
    "model.add(layers.MaxPooling2D((2, 2)))\n",
    "\n",
    "model.add(layers.Conv2D(64, (3, 3), activation='relu'))\n",
    "model.add(layers.MaxPooling2D((2, 2)))\n",
    "\n",
    "model.add(layers.Flatten())\n",
    "model.add(layers.Dense(64, activation='relu'))\n",
    "model.add(layers.Dense(1, activation='sigmoid'))\n",
    "\n",
    "model.compile(loss='binary_crossentropy',\n",
    "              optimizer=\"sgd\",\n",
    "              metrics=['acc'])"
   ]
  },
  {
   "cell_type": "code",
   "execution_count": 20,
   "metadata": {},
   "outputs": [
    {
     "name": "stdout",
     "output_type": "stream",
     "text": [
      "Epoch 1/30\n",
      "163/163 [==============================] - 120s 729ms/step - loss: 0.5378 - acc: 0.7527 - val_loss: 1.0624 - val_acc: 0.5000\n",
      "Epoch 2/30\n",
      "163/163 [==============================] - 113s 691ms/step - loss: 0.3594 - acc: 0.8489 - val_loss: 0.7824 - val_acc: 0.6250\n",
      "Epoch 3/30\n",
      "163/163 [==============================] - 112s 688ms/step - loss: 0.2610 - acc: 0.9005 - val_loss: 0.8556 - val_acc: 0.6250\n",
      "Epoch 4/30\n",
      "163/163 [==============================] - 114s 696ms/step - loss: 0.1931 - acc: 0.9247 - val_loss: 0.3835 - val_acc: 0.8125\n",
      "Epoch 5/30\n",
      "163/163 [==============================] - 226s 1s/step - loss: 0.1657 - acc: 0.9348 - val_loss: 0.4407 - val_acc: 0.8125\n",
      "Epoch 6/30\n",
      "163/163 [==============================] - 234s 1s/step - loss: 0.1476 - acc: 0.9438 - val_loss: 0.4088 - val_acc: 0.8125\n",
      "Epoch 7/30\n",
      "163/163 [==============================] - 243s 1s/step - loss: 0.1406 - acc: 0.9456 - val_loss: 1.0003 - val_acc: 0.5625\n",
      "Epoch 8/30\n",
      "163/163 [==============================] - 220s 1s/step - loss: 0.1297 - acc: 0.9517 - val_loss: 0.7388 - val_acc: 0.5625\n",
      "Epoch 9/30\n",
      "163/163 [==============================] - 220s 1s/step - loss: 0.1250 - acc: 0.9532 - val_loss: 0.5460 - val_acc: 0.7500\n",
      "Epoch 10/30\n",
      "163/163 [==============================] - 222s 1s/step - loss: 0.1177 - acc: 0.9578 - val_loss: 0.4857 - val_acc: 0.7500\n",
      "Epoch 11/30\n",
      "163/163 [==============================] - 202s 1s/step - loss: 0.1100 - acc: 0.9601 - val_loss: 0.4397 - val_acc: 0.8125\n",
      "Epoch 12/30\n",
      "163/163 [==============================] - 345s 2s/step - loss: 0.1009 - acc: 0.9634 - val_loss: 0.3301 - val_acc: 0.8125\n",
      "Epoch 13/30\n",
      "163/163 [==============================] - 289s 2s/step - loss: 0.0995 - acc: 0.9640 - val_loss: 0.3558 - val_acc: 0.8125\n",
      "Epoch 14/30\n",
      "163/163 [==============================] - 271s 2s/step - loss: 0.0980 - acc: 0.9634 - val_loss: 0.6292 - val_acc: 0.6875\n",
      "Epoch 15/30\n",
      "163/163 [==============================] - 271s 2s/step - loss: 0.0911 - acc: 0.9655 - val_loss: 0.4861 - val_acc: 0.6875\n",
      "Epoch 16/30\n",
      "163/163 [==============================] - 208s 1s/step - loss: 0.0835 - acc: 0.9678 - val_loss: 0.3301 - val_acc: 0.8125\n",
      "Epoch 17/30\n",
      "163/163 [==============================] - 233s 1s/step - loss: 0.0825 - acc: 0.9680 - val_loss: 0.2605 - val_acc: 0.9375\n",
      "Epoch 18/30\n",
      "163/163 [==============================] - 230s 1s/step - loss: 0.0800 - acc: 0.9701 - val_loss: 0.3577 - val_acc: 0.7500\n",
      "Epoch 19/30\n",
      "163/163 [==============================] - 234s 1s/step - loss: 0.0756 - acc: 0.9716 - val_loss: 0.1944 - val_acc: 0.9375\n",
      "Epoch 20/30\n",
      "163/163 [==============================] - 201s 1s/step - loss: 0.0723 - acc: 0.9743 - val_loss: 0.2050 - val_acc: 0.9375\n",
      "Epoch 21/30\n",
      "163/163 [==============================] - 220s 1s/step - loss: 0.0691 - acc: 0.9732 - val_loss: 0.4262 - val_acc: 0.6875\n",
      "Epoch 22/30\n",
      "163/163 [==============================] - 231s 1s/step - loss: 0.0674 - acc: 0.9743 - val_loss: 0.6804 - val_acc: 0.6875\n",
      "Epoch 23/30\n",
      "163/163 [==============================] - 202s 1s/step - loss: 0.0645 - acc: 0.9776 - val_loss: 0.1868 - val_acc: 1.0000\n",
      "Epoch 24/30\n",
      "163/163 [==============================] - 227s 1s/step - loss: 0.0612 - acc: 0.9768 - val_loss: 0.3955 - val_acc: 0.7500\n",
      "Epoch 25/30\n",
      "163/163 [==============================] - 225s 1s/step - loss: 0.0592 - acc: 0.9791 - val_loss: 0.5550 - val_acc: 0.6875\n",
      "Epoch 26/30\n",
      "163/163 [==============================] - 234s 1s/step - loss: 0.0568 - acc: 0.9806 - val_loss: 0.4312 - val_acc: 0.6875\n",
      "Epoch 27/30\n",
      "163/163 [==============================] - 223s 1s/step - loss: 0.0564 - acc: 0.9776 - val_loss: 0.2211 - val_acc: 0.8750\n",
      "Epoch 28/30\n",
      "163/163 [==============================] - 220s 1s/step - loss: 0.0524 - acc: 0.9803 - val_loss: 0.2523 - val_acc: 0.8750\n",
      "Epoch 29/30\n",
      "163/163 [==============================] - 226s 1s/step - loss: 0.0517 - acc: 0.9810 - val_loss: 0.2424 - val_acc: 0.8750\n",
      "Epoch 30/30\n",
      "163/163 [==============================] - 228s 1s/step - loss: 0.0477 - acc: 0.9835 - val_loss: 0.2769 - val_acc: 0.8125\n"
     ]
    }
   ],
   "source": [
    "# Model will take a good amount of time to run ~1-2 minutes per epoch\n",
    "history = model.fit(train_images,\n",
    "                    train_y,\n",
    "                    epochs=30,\n",
    "                    batch_size=32,\n",
    "                    validation_data=(val_images, val_y))"
   ]
  },
  {
   "cell_type": "code",
   "execution_count": 21,
   "metadata": {},
   "outputs": [
    {
     "name": "stdout",
     "output_type": "stream",
     "text": [
      "163/163 [==============================] - 47s 285ms/step - loss: 0.0401 - acc: 0.9864\n"
     ]
    }
   ],
   "source": [
    "cnn_results_train = model.evaluate(train_images, train_y)"
   ]
  },
  {
   "cell_type": "code",
   "execution_count": 22,
   "metadata": {},
   "outputs": [
    {
     "name": "stdout",
     "output_type": "stream",
     "text": [
      "20/20 [==============================] - 7s 321ms/step - loss: 0.9931 - acc: 0.7660\n"
     ]
    }
   ],
   "source": [
    "cnn_results_test = model.evaluate(test_images, test_y)"
   ]
  },
  {
   "cell_type": "code",
   "execution_count": 23,
   "metadata": {},
   "outputs": [
    {
     "name": "stdout",
     "output_type": "stream",
     "text": [
      "Train Results: [0.04006126523017883, 0.9863880276679993]\n",
      "Test Results: [0.993138313293457, 0.7660256624221802]\n"
     ]
    }
   ],
   "source": [
    "print('Train Results:', cnn_results_train)\n",
    "print('Test Results:', cnn_results_test)"
   ]
  },
  {
   "cell_type": "markdown",
   "metadata": {},
   "source": [
    "## Using Data Augmentation \n",
    "\n",
    "ImageDataGenerator() becomes really useful when we actually want to generate more data. \n"
   ]
  },
  {
   "cell_type": "code",
   "execution_count": 24,
   "metadata": {},
   "outputs": [],
   "source": [
    "train_datagen = ImageDataGenerator(rescale=1./255, \n",
    "                                   rotation_range=40, \n",
    "                                   width_shift_range=0.2, \n",
    "                                   height_shift_range=0.2, \n",
    "                                   shear_range=0.3, \n",
    "                                   zoom_range=0.1, \n",
    "                                   horizontal_flip=False)"
   ]
  },
  {
   "cell_type": "code",
   "execution_count": 25,
   "metadata": {},
   "outputs": [
    {
     "name": "stdout",
     "output_type": "stream",
     "text": [
      "Found 624 images belonging to 2 classes.\n",
      "Found 16 images belonging to 2 classes.\n",
      "Found 5216 images belonging to 2 classes.\n"
     ]
    }
   ],
   "source": [
    "# get all the data in the directory split/test , and reshape them\n",
    "test_generator = ImageDataGenerator(rescale=1./255).flow_from_directory(\n",
    "        test_dir, \n",
    "        target_size=(64, 64), \n",
    "        batch_size = 624,\n",
    "        class_mode='binary') \n",
    "\n",
    "# get all the data in the directory split/validation , and reshape them\n",
    "val_generator = ImageDataGenerator(rescale=1./255).flow_from_directory(\n",
    "        val_dir, \n",
    "        target_size=(64, 64),\n",
    "        batch_size = 32,\n",
    "        class_mode='binary')\n",
    "\n",
    "# get all the data in the directory split/train, and reshape them\n",
    "train_generator = train_datagen.flow_from_directory(\n",
    "        train_dir, \n",
    "        target_size=(64, 64), \n",
    "        batch_size = 32, \n",
    "        class_mode='binary')"
   ]
  },
  {
   "cell_type": "code",
   "execution_count": null,
   "metadata": {},
   "outputs": [],
   "source": []
  },
  {
   "cell_type": "code",
   "execution_count": 26,
   "metadata": {},
   "outputs": [],
   "source": [
    "model = models.Sequential()\n",
    "model.add(layers.Conv2D(32, (3, 3), activation='relu',\n",
    "                        input_shape=(64 , 64,  3)))\n",
    "model.add(layers.MaxPooling2D((2, 2)))\n",
    "\n",
    "model.add(layers.Conv2D(32, (4, 4), activation='relu'))\n",
    "model.add(layers.MaxPooling2D((2, 2)))\n",
    "\n",
    "model.add(layers.Conv2D(64, (3, 3), activation='relu'))\n",
    "model.add(layers.MaxPooling2D((2, 2)))\n",
    "\n",
    "model.add(layers.Flatten())\n",
    "model.add(layers.Dense(64, activation='relu'))\n",
    "model.add(layers.Dense(1, activation='sigmoid'))\n",
    "\n",
    "model.compile(loss='binary_crossentropy',\n",
    "              optimizer= 'sgd',\n",
    "              metrics=['acc'])"
   ]
  },
  {
   "cell_type": "code",
   "execution_count": 27,
   "metadata": {},
   "outputs": [
    {
     "name": "stdout",
     "output_type": "stream",
     "text": [
      "Epoch 1/30\n",
      "163/163 [==============================] - 158s 959ms/step - loss: 0.5894 - acc: 0.7276 - val_loss: 0.8496 - val_acc: 0.5000\n",
      "Epoch 2/30\n",
      "163/163 [==============================] - 154s 948ms/step - loss: 0.5679 - acc: 0.7429 - val_loss: 0.8267 - val_acc: 0.5000\n",
      "Epoch 3/30\n",
      "163/163 [==============================] - 153s 939ms/step - loss: 0.5594 - acc: 0.7431 - val_loss: 0.7812 - val_acc: 0.5000\n",
      "Epoch 4/30\n",
      "163/163 [==============================] - 142s 868ms/step - loss: 0.5494 - acc: 0.7433 - val_loss: 0.9601 - val_acc: 0.5000\n",
      "Epoch 5/30\n",
      "163/163 [==============================] - 123s 753ms/step - loss: 0.5378 - acc: 0.7515 - val_loss: 0.7628 - val_acc: 0.5000\n",
      "Epoch 6/30\n",
      "163/163 [==============================] - 142s 871ms/step - loss: 0.5247 - acc: 0.7494 - val_loss: 0.8263 - val_acc: 0.5000\n",
      "Epoch 7/30\n",
      "163/163 [==============================] - 148s 906ms/step - loss: 0.5103 - acc: 0.7638 - val_loss: 0.6659 - val_acc: 0.5625\n",
      "Epoch 8/30\n",
      "163/163 [==============================] - 146s 897ms/step - loss: 0.5172 - acc: 0.7596 - val_loss: 0.5936 - val_acc: 0.6250\n",
      "Epoch 9/30\n",
      "163/163 [==============================] - 147s 902ms/step - loss: 0.4831 - acc: 0.7701 - val_loss: 0.8141 - val_acc: 0.5625\n",
      "Epoch 10/30\n",
      "163/163 [==============================] - 130s 797ms/step - loss: 0.4649 - acc: 0.7793 - val_loss: 0.8060 - val_acc: 0.5625\n",
      "Epoch 11/30\n",
      "163/163 [==============================] - 146s 897ms/step - loss: 0.4313 - acc: 0.8113 - val_loss: 0.5703 - val_acc: 0.6250\n",
      "Epoch 12/30\n",
      "163/163 [==============================] - 171s 1s/step - loss: 0.4073 - acc: 0.8200 - val_loss: 0.5934 - val_acc: 0.6250\n",
      "Epoch 13/30\n",
      "163/163 [==============================] - 166s 1s/step - loss: 0.4050 - acc: 0.8169 - val_loss: 0.8343 - val_acc: 0.5625\n",
      "Epoch 14/30\n",
      "163/163 [==============================] - 168s 1s/step - loss: 0.3892 - acc: 0.8263 - val_loss: 0.5930 - val_acc: 0.6250\n",
      "Epoch 15/30\n",
      "163/163 [==============================] - 138s 848ms/step - loss: 0.3740 - acc: 0.8363 - val_loss: 0.6498 - val_acc: 0.5625\n",
      "Epoch 16/30\n",
      "163/163 [==============================] - 167s 1s/step - loss: 0.3704 - acc: 0.8342 - val_loss: 0.7046 - val_acc: 0.5625\n",
      "Epoch 17/30\n",
      "163/163 [==============================] - 169s 1s/step - loss: 0.3611 - acc: 0.8395 - val_loss: 0.4801 - val_acc: 0.7500\n",
      "Epoch 18/30\n",
      "163/163 [==============================] - 174s 1s/step - loss: 0.3469 - acc: 0.8461 - val_loss: 1.1831 - val_acc: 0.5625\n",
      "Epoch 19/30\n",
      "163/163 [==============================] - 176s 1s/step - loss: 0.3336 - acc: 0.8518 - val_loss: 0.4258 - val_acc: 0.9375\n",
      "Epoch 20/30\n",
      "163/163 [==============================] - 166s 1s/step - loss: 0.3331 - acc: 0.8556 - val_loss: 0.6079 - val_acc: 0.6250\n",
      "Epoch 21/30\n",
      "163/163 [==============================] - 164s 1s/step - loss: 0.3184 - acc: 0.8656 - val_loss: 0.6588 - val_acc: 0.5625\n",
      "Epoch 22/30\n",
      "163/163 [==============================] - 168s 1s/step - loss: 0.3098 - acc: 0.8677 - val_loss: 1.0156 - val_acc: 0.5625\n",
      "Epoch 23/30\n",
      "163/163 [==============================] - 175s 1s/step - loss: 0.3009 - acc: 0.8715 - val_loss: 0.9187 - val_acc: 0.5625\n",
      "Epoch 24/30\n",
      "163/163 [==============================] - 102s 627ms/step - loss: 0.2951 - acc: 0.8758 - val_loss: 0.6350 - val_acc: 0.6875\n",
      "Epoch 25/30\n",
      "163/163 [==============================] - 98s 603ms/step - loss: 0.2825 - acc: 0.8819 - val_loss: 0.8539 - val_acc: 0.5625\n",
      "Epoch 26/30\n",
      "163/163 [==============================] - 91s 560ms/step - loss: 0.2857 - acc: 0.8769 - val_loss: 0.5039 - val_acc: 0.6875\n",
      "Epoch 27/30\n",
      "163/163 [==============================] - 89s 543ms/step - loss: 0.2740 - acc: 0.8825 - val_loss: 1.5372 - val_acc: 0.5625\n",
      "Epoch 28/30\n",
      "163/163 [==============================] - 86s 528ms/step - loss: 0.2680 - acc: 0.8852 - val_loss: 0.5942 - val_acc: 0.6875\n",
      "Epoch 29/30\n",
      "163/163 [==============================] - 86s 529ms/step - loss: 0.2732 - acc: 0.8857 - val_loss: 0.7986 - val_acc: 0.5625\n",
      "Epoch 30/30\n",
      "163/163 [==============================] - 87s 534ms/step - loss: 0.2665 - acc: 0.8865 - val_loss: 0.8663 - val_acc: 0.5625\n"
     ]
    }
   ],
   "source": [
    "history_2 = model.fit(train_generator,\n",
    "                      epochs=30, \n",
    "                      validation_data=val_generator)"
   ]
  },
  {
   "cell_type": "code",
   "execution_count": 28,
   "metadata": {},
   "outputs": [],
   "source": [
    "# changed input shape from 150, 150, 3 to 64, 64, 3"
   ]
  },
  {
   "cell_type": "code",
   "execution_count": 29,
   "metadata": {},
   "outputs": [],
   "source": [
    "test_x, test_y = next(test_generator)"
   ]
  },
  {
   "cell_type": "code",
   "execution_count": 30,
   "metadata": {},
   "outputs": [],
   "source": [
    "train_x, train_y = next(train_generator)"
   ]
  },
  {
   "cell_type": "code",
   "execution_count": 31,
   "metadata": {},
   "outputs": [
    {
     "name": "stdout",
     "output_type": "stream",
     "text": [
      "1/1 [==============================] - 0s 61ms/step - loss: 0.3231 - acc: 0.9062\n"
     ]
    },
    {
     "data": {
      "text/plain": [
       "[0.3230828046798706, 0.90625]"
      ]
     },
     "execution_count": 31,
     "metadata": {},
     "output_type": "execute_result"
    }
   ],
   "source": [
    "results2_train = model.evaluate(train_x, train_y)\n",
    "results2_train"
   ]
  },
  {
   "cell_type": "code",
   "execution_count": 32,
   "metadata": {},
   "outputs": [
    {
     "name": "stdout",
     "output_type": "stream",
     "text": [
      "20/20 [==============================] - 1s 28ms/step - loss: 0.4542 - acc: 0.8077\n"
     ]
    },
    {
     "data": {
      "text/plain": [
       "[0.45415887236595154, 0.807692289352417]"
      ]
     },
     "execution_count": 32,
     "metadata": {},
     "output_type": "execute_result"
    }
   ],
   "source": [
    "results2_test = model.evaluate(test_x, test_y)\n",
    "results2_test"
   ]
  },
  {
   "cell_type": "code",
   "execution_count": 33,
   "metadata": {},
   "outputs": [
    {
     "name": "stdout",
     "output_type": "stream",
     "text": [
      "Keras weights file (<HDF5 file \"variables.h5\" (mode r+)>) saving:\n",
      "...layers\n",
      "......conv2d\n",
      ".........vars\n",
      "............0\n",
      "............1\n",
      "......conv2d_1\n",
      ".........vars\n",
      "............0\n",
      "............1\n",
      "......conv2d_2\n",
      ".........vars\n",
      "............0\n",
      "............1\n",
      "......dense\n",
      ".........vars\n",
      "............0\n",
      "............1\n",
      "......dense_1\n",
      ".........vars\n",
      "............0\n",
      "............1\n",
      "......flatten\n",
      ".........vars\n",
      "......max_pooling2d\n",
      ".........vars\n",
      "......max_pooling2d_1\n",
      ".........vars\n",
      "......max_pooling2d_2\n",
      ".........vars\n",
      "...metrics\n",
      "......mean\n",
      ".........vars\n",
      "............0\n",
      "............1\n",
      "......mean_metric_wrapper\n",
      ".........vars\n",
      "............0\n",
      "............1\n",
      "...optimizer\n",
      "......vars\n",
      ".........0\n",
      ".........1\n",
      ".........10\n",
      ".........2\n",
      ".........3\n",
      ".........4\n",
      ".........5\n",
      ".........6\n",
      ".........7\n",
      ".........8\n",
      ".........9\n",
      "...vars\n",
      "Keras model archive saving:\n",
      "File Name                                             Modified             Size\n",
      "config.json                                    2023-12-27 22:46:03         3839\n",
      "metadata.json                                  2023-12-27 22:46:03           64\n",
      "variables.h5                                   2023-12-27 22:46:03      1503616\n"
     ]
    },
    {
     "data": {
      "text/plain": [
       "['cnn_model.joblib']"
      ]
     },
     "execution_count": 33,
     "metadata": {},
     "output_type": "execute_result"
    }
   ],
   "source": [
    "import joblib\n",
    "\n",
    "# Save the model\n",
    "joblib.dump(model, 'cnn_model.joblib')\n"
   ]
  },
  {
   "cell_type": "code",
   "execution_count": 34,
   "metadata": {},
   "outputs": [
    {
     "name": "stdout",
     "output_type": "stream",
     "text": [
      "Keras model archive loading:\n",
      "File Name                                             Modified             Size\n",
      "config.json                                    2023-12-27 22:46:02         3839\n",
      "metadata.json                                  2023-12-27 22:46:02           64\n",
      "variables.h5                                   2023-12-27 22:46:02      1503616\n",
      "Keras weights file (<HDF5 file \"variables.h5\" (mode r)>) loading:\n",
      "...layers\n",
      "......conv2d\n",
      ".........vars\n",
      "............0\n",
      "............1\n",
      "......conv2d_1\n",
      ".........vars\n",
      "............0\n",
      "............1\n",
      "......conv2d_2\n",
      ".........vars\n",
      "............0\n",
      "............1\n",
      "......dense\n",
      ".........vars\n",
      "............0\n",
      "............1\n",
      "......dense_1\n",
      ".........vars\n",
      "............0\n",
      "............1\n",
      "......flatten\n",
      ".........vars\n",
      "......max_pooling2d\n",
      ".........vars\n",
      "......max_pooling2d_1\n",
      ".........vars\n",
      "......max_pooling2d_2\n",
      ".........vars\n",
      "...metrics\n",
      "......mean\n",
      ".........vars\n",
      "............0\n",
      "............1\n",
      "......mean_metric_wrapper\n",
      ".........vars\n",
      "............0\n",
      "............1\n",
      "...optimizer\n",
      "......vars\n",
      ".........0\n",
      ".........1\n",
      ".........10\n",
      ".........2\n",
      ".........3\n",
      ".........4\n",
      ".........5\n",
      ".........6\n",
      ".........7\n",
      ".........8\n",
      ".........9\n",
      "...vars\n"
     ]
    }
   ],
   "source": [
    "# Load the model\n",
    "loaded_model = joblib.load('cnn_model.joblib')\n",
    "\n"
   ]
  },
  {
   "cell_type": "code",
   "execution_count": null,
   "metadata": {},
   "outputs": [],
   "source": [
    "# took rouhgly 4 hours to run"
   ]
  }
 ],
 "metadata": {
  "kernelspec": {
   "display_name": "Python (spark-env)",
   "language": "python",
   "name": "spark-env"
  },
  "language_info": {
   "codemirror_mode": {
    "name": "ipython",
    "version": 3
   },
   "file_extension": ".py",
   "mimetype": "text/x-python",
   "name": "python",
   "nbconvert_exporter": "python",
   "pygments_lexer": "ipython3",
   "version": "3.8.18"
  }
 },
 "nbformat": 4,
 "nbformat_minor": 4
}
