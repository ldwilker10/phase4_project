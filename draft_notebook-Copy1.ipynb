{
 "cells": [
  {
   "cell_type": "markdown",
   "metadata": {},
   "source": [
    "# Phase 4 Project Submission\n",
    "\n",
    "- Student name: Lucas Wilkerson\n",
    "- Student pace: Flex/part time\n",
    "- Scheduled project review date/time:\n",
    "- Instructor name: Morgan Jones\n"
   ]
  },
  {
   "cell_type": "markdown",
   "metadata": {},
   "source": [
    "# Pneumonia Detection and Classification"
   ]
  },
  {
   "cell_type": "markdown",
   "metadata": {},
   "source": [
    "## Project Overview\n",
    "\n",
    "\n"
   ]
  },
  {
   "cell_type": "markdown",
   "metadata": {},
   "source": [
    "## Business Problem and Stakeholder\n",
    "\n"
   ]
  },
  {
   "cell_type": "code",
   "execution_count": null,
   "metadata": {},
   "outputs": [],
   "source": [
    "#import libraries\n",
    "\n",
    "\n",
    "import pandas as pd\n",
    "import numpy as np\n",
    "import os\n",
    "import matplotlib.pyplot as plt\n",
    "import random\n",
    "import tensorflow as tf\n",
    "import tensorflow.keras as keras\n",
    "\n",
    "from keras import models \n",
    "from keras import layers\n",
    "from keras import optimizers \n",
    "\n",
    "from keras.preprocessing import image\n",
    "from tensorflow.keras.preprocessing.image import ImageDataGenerator\n",
    "from sklearn.utils.class_weight import compute_class_weight\n",
    "from keras.models import Sequential\n",
    "from keras.layers import Dense\n",
    "from keras.datasets import mnist\n",
    "from tensorflow.keras.losses import SparseCategoricalCrossentropy\n",
    "\n",
    "from sklearn.model_selection import train_test_split\n",
    "from sklearn.preprocessing import LabelBinarizer\n",
    "\n",
    "\n",
    "import warnings\n",
    "warnings.filterwarnings(action='ignore', category=FutureWarning)\n",
    "\n",
    "import warnings\n",
    "warnings.filterwarnings(\"ignore\", message=\"`np.object`\")\n"
   ]
  },
  {
   "cell_type": "markdown",
   "metadata": {},
   "source": [
    "## Data Understanding"
   ]
  },
  {
   "cell_type": "code",
   "execution_count": null,
   "metadata": {},
   "outputs": [],
   "source": [
    "# Don't for get to check distribution, check for duplicates, nans\n",
    "# get statistics if needed/useful \n",
    "\n",
    "\n",
    "# Define paths to import data\n",
    "train_dir = 'chest_xray/train/'\n",
    "val_dir = 'chest_xray/val/'\n",
    "test_dir = 'chest_xray/test/'"
   ]
  },
  {
   "cell_type": "code",
   "execution_count": null,
   "metadata": {},
   "outputs": [],
   "source": [
    "train_normal_count = len(os.listdir(os.path.join(train_dir, 'NORMAL')))\n",
    "train_pneumonia_count = len(os.listdir(os.path.join(train_dir, 'PNEUMONIA')))\n",
    "val_normal_count = len(os.listdir(os.path.join(val_dir, 'NORMAL')))\n",
    "val_pneumonia_count = len(os.listdir(os.path.join(val_dir, 'PNEUMONIA')))\n",
    "test_normal_count = len(os.listdir(os.path.join(test_dir, 'NORMAL')))\n",
    "test_pneumonia_count = len(os.listdir(os.path.join(test_dir, 'PNEUMONIA')))\n",
    "\n",
    "print(\"Train Data:\")\n",
    "print(f\"Normal Images: {train_normal_count}\")\n",
    "print(f\"Pneumonia Images: {train_pneumonia_count}\")\n",
    "\n",
    "print(\"\\nValidation Data:\")\n",
    "print(f\"Normal Images: {val_normal_count}\")\n",
    "print(f\"Pneumonia Images: {val_pneumonia_count}\")\n",
    "\n",
    "print(\"\\nTest Data:\")\n",
    "print(f\"Normal Images: {test_normal_count}\")\n",
    "print(f\"Pneumonia Images: {test_pneumonia_count}\")"
   ]
  },
  {
   "cell_type": "markdown",
   "metadata": {},
   "source": [
    "## Data Preparation/ Preprocessing"
   ]
  },
  {
   "cell_type": "markdown",
   "metadata": {},
   "source": [
    "## Data Analysis/ Data Visualization"
   ]
  },
  {
   "cell_type": "markdown",
   "metadata": {},
   "source": [
    "## Modeling"
   ]
  },
  {
   "cell_type": "markdown",
   "metadata": {},
   "source": [
    "## Hyperparamater Tuning "
   ]
  },
  {
   "cell_type": "markdown",
   "metadata": {},
   "source": [
    "## Model Evaluation"
   ]
  },
  {
   "cell_type": "markdown",
   "metadata": {},
   "source": [
    "## Conclusion and Recommendations"
   ]
  },
  {
   "cell_type": "markdown",
   "metadata": {},
   "source": [
    "## Limitations"
   ]
  },
  {
   "cell_type": "markdown",
   "metadata": {},
   "source": []
  },
  {
   "cell_type": "markdown",
   "metadata": {},
   "source": []
  },
  {
   "cell_type": "markdown",
   "metadata": {},
   "source": []
  },
  {
   "cell_type": "markdown",
   "metadata": {},
   "source": []
  }
 ],
 "metadata": {
  "kernelspec": {
   "display_name": "Python (spark-env)",
   "language": "python",
   "name": "spark-env"
  },
  "language_info": {
   "codemirror_mode": {
    "name": "ipython",
    "version": 3
   },
   "file_extension": ".py",
   "mimetype": "text/x-python",
   "name": "python",
   "nbconvert_exporter": "python",
   "pygments_lexer": "ipython3",
   "version": "3.8.18"
  }
 },
 "nbformat": 4,
 "nbformat_minor": 4
}
