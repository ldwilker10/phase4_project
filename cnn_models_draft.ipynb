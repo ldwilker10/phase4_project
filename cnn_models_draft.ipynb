{
 "cells": [
  {
   "cell_type": "code",
   "execution_count": 1,
   "id": "95b9afef-2545-4a3d-96d5-422521c7fc45",
   "metadata": {},
   "outputs": [],
   "source": [
    "#importing necessary packages\n",
    "\n",
    "from tensorflow.keras.utils import array_to_img, img_to_array, load_img\n",
    "\n",
    "from sklearn.utils import class_weight , compute_class_weight\n",
    "\n",
    "\n",
    "import pandas as pd\n",
    "import numpy as np\n",
    "import matplotlib.pyplot as plt\n",
    "import matplotlib.image as mpimg\n",
    "%matplotlib inline\n",
    "import tensorflow as tf\n",
    "from keras import datasets, layers, models\n",
    "from keras.preprocessing.image import ImageDataGenerator\n",
    "from keras.models import Sequential\n",
    "from keras.layers import Dense, Conv2D , MaxPool2D , Flatten , Dropout , BatchNormalization, Activation\n",
    "from keras.optimizers import Adam , SGD, RMSprop\n",
    "from keras.utils import array_to_img, img_to_array, load_img\n",
    "from keras.regularizers import l1 , l2 \n",
    "from keras.wrappers import scikit_learn\n",
    "from keras.callbacks import EarlyStopping\n",
    "import os\n",
    "os.environ['KMP_DUPLICATE_LIB_OK']='True' # This prevents kernel shut down due to xgboost conflict\n",
    "os.environ['TF_CPP_MIN_LOG_LEVEL'] = '2' # This line prevents tf's comments about the optimizing your machine"
   ]
  },
  {
   "cell_type": "markdown",
   "id": "bee30e59-595b-4b92-b3eb-f34045eb5b8d",
   "metadata": {},
   "source": [
    "# Directory path\n",
    "train_dir = 'chest_xray/train/'\n",
    "test_dir = 'chest_xray/test/'\n",
    "val_dir = 'chest_xray/val/'\n",
    "\n",
    "# All images will be rescaled by 1./255\n",
    "train_datagen = ImageDataGenerator(rescale=1./255)\n",
    "val_datagen = ImageDataGenerator(rescale=1./255)\n",
    "test_datagen = ImageDataGenerator(rescale=1./255)\n",
    "\n",
    "\n",
    "\n",
    "# Get all the data in the directory chest_xray/train (5216 images) and reshape them\n",
    "train_generator = train_datagen.flow_from_directory(\n",
    "        train_dir,\n",
    "        target_size = (200, 200),\n",
    "        batch_size=5216, class_mode='binary')\n",
    "\n",
    "# Get all the data in the directory chest_xray/test (624 images) , and reshape them\n",
    "test_generator = test_datagen.flow_from_directory(\n",
    "        test_dir,\n",
    "        target_size = (200, 200),\n",
    "        batch_size=624, class_mode='binary')\n",
    "\n",
    "\n",
    "# Get all the data in the directory chest_xray/val (16 images), and reshape them\n",
    "val_generator = val_datagen.flow_from_directory(\n",
    "        val_dir,\n",
    "        target_size = (200, 200),\n",
    "        batch_size=16, class_mode='binary')\n"
   ]
  },
  {
   "cell_type": "code",
   "execution_count": null,
   "id": "fd8f80e6-a5eb-4613-abb4-f1cbc1e589e2",
   "metadata": {},
   "outputs": [],
   "source": [
    "# may try data augmentation if needed \n",
    "\n",
    "# Data Augmentation will be performed only on the training set\n",
    "# All image sets will be rescaled by 1./255\n",
    "#train_datagen = ImageDataGenerator(rescale=1./255, \n",
    "#                                   rotation_range=20, \n",
    "#                                   width_shift_range=0.2, \n",
    "#                                   height_shift_range=0.2, \n",
    "#                                   shear_range=0.2, \n",
    "#                                   zoom_range=0.2, \n",
    "#                                   horizontal_flip=True)\n",
    "#val_datagen = ImageDataGenerator(rescale=1./255)\n",
    "#test_datagen = ImageDataGenerator(rescale=1./255)\n",
    "\n"
   ]
  },
  {
   "cell_type": "markdown",
   "id": "2b69e1a2-9317-4f74-b463-90bed4395fca",
   "metadata": {},
   "source": [
    "# Directory path\n",
    "train_dir = 'chest_xray/train/'\n",
    "test_dir = 'chest_xray/test/'\n",
    "val_dir = 'chest_xray/val/'\n",
    "\n",
    "# All images will be rescaled by 1./255\n",
    "train_datagen = ImageDataGenerator(rescale=1./255)\n",
    "val_datagen = ImageDataGenerator(rescale=1./255)\n",
    "test_datagen = ImageDataGenerator(rescale=1./255)\n",
    "\n",
    "\n",
    "\n",
    "# Get all the data in the directory chest_xray/train (5216 images) and reshape them\n",
    "train_generator = train_datagen.flow_from_directory(\n",
    "        train_dir,\n",
    "        batch_size=5216, class_mode='binary')\n",
    "\n",
    "# Get all the data in the directory chest_xray/test (624 images) , and reshape them\n",
    "test_generator = test_datagen.flow_from_directory(\n",
    "        test_dir,\n",
    "        batch_size=624, class_mode='binary')\n",
    "\n",
    "\n",
    "# Get all the data in the directory chest_xray/val (16 images), and reshape them\n",
    "val_generator = val_datagen.flow_from_directory(\n",
    "        val_dir,\n",
    "        batch_size=16, class_mode='binary')"
   ]
  },
  {
   "cell_type": "markdown",
   "id": "e50c1a2b-d09c-4756-ac0b-3c8f56f428e8",
   "metadata": {},
   "source": [
    "# Directory path\n",
    "train_dir = 'chest_xray/train/'\n",
    "test_dir = 'chest_xray/test/'\n",
    "val_dir = 'chest_xray/val/'\n",
    "\n",
    "# All images will be rescaled by 1./255\n",
    "train_datagen = ImageDataGenerator(rescale=1./255)\n",
    "val_datagen = ImageDataGenerator(rescale=1./255)\n",
    "test_datagen = ImageDataGenerator(rescale=1./255)\n",
    "\n",
    "train_datagen = ImageDataGenerator(\n",
    "    rescale=1./255,\n",
    "    rotation_range=20,\n",
    "    width_shift_range=0.2,\n",
    "    height_shift_range=0.2,\n",
    "    shear_range=0.2,\n",
    "    zoom_range=0.2,\n",
    "    horizontal_flip=True\n",
    "\n",
    "\n",
    "# Get all the data in the directory chest_xray/train (5216 images) and reshape them\n",
    "train_generator = train_datagen.flow_from_directory(\n",
    "        train_dir,\n",
    "        batch_size=5216,\n",
    "        target_size=(100, 100), \n",
    "        class_mode='binary')\n",
    "\n",
    "# Get all the data in the directory chest_xray/test (624 images) , and reshape them\n",
    "test_generator = test_datagen.flow_from_directory(\n",
    "        test_dir,\n",
    "        batch_size=624,\n",
    "        target_size=(100, 100),\n",
    "        class_mode='binary')\n",
    "\n",
    "\n",
    "# Get all the data in the directory chest_xray/val (16 images), and reshape them\n",
    "val_generator = val_datagen.flow_from_directory(\n",
    "        val_dir,\n",
    "        batch_size=16,\n",
    "        target_size=(100, 100), \n",
    "        class_mode='binary')"
   ]
  },
  {
   "cell_type": "code",
   "execution_count": null,
   "id": "21930113-ff51-4b60-a525-ce386372f5e7",
   "metadata": {},
   "outputs": [],
   "source": [
    "# Directory path\n",
    "train_dir = 'chest_xray/train/'\n",
    "test_dir = 'chest_xray/test/'\n",
    "val_dir = 'chest_xray/val/'"
   ]
  },
  {
   "cell_type": "code",
   "execution_count": 23,
   "id": "84bf575c-9c76-404a-a4ae-a9439b00e145",
   "metadata": {},
   "outputs": [
    {
     "name": "stdout",
     "output_type": "stream",
     "text": [
      "Found 5216 images belonging to 2 classes.\n",
      "Found 624 images belonging to 2 classes.\n",
      "Found 16 images belonging to 2 classes.\n"
     ]
    }
   ],
   "source": [
    "# Directory path\n",
    "train_dir = 'chest_xray/train/'\n",
    "test_dir = 'chest_xray/test/'\n",
    "val_dir = 'chest_xray/val/'\n",
    "\n",
    "# All images will be rescaled by 1./255\n",
    "train_datagen = ImageDataGenerator(\n",
    "    rescale=1./255,\n",
    "    rotation_range=20,\n",
    "    width_shift_range=0.2,\n",
    "    height_shift_range=0.2,\n",
    "    shear_range=0.2,\n",
    "    zoom_range=0.2,\n",
    "    horizontal_flip=True)\n",
    "\n",
    "val_datagen = ImageDataGenerator(rescale=1./255)\n",
    "test_datagen = ImageDataGenerator(rescale=1./255)\n",
    "\n",
    "\n",
    "# Get all the data in the directory chest_xray/train (5216 images) and reshape them\n",
    "train_generator = train_datagen.flow_from_directory(\n",
    "        train_dir,\n",
    "        batch_size=5216,\n",
    "        target_size=(100, 100), \n",
    "        class_mode='binary')\n",
    "\n",
    "# Get all the data in the directory chest_xray/test (624 images) , and reshape them\n",
    "test_generator = test_datagen.flow_from_directory(\n",
    "        test_dir,\n",
    "        batch_size=624,\n",
    "        target_size=(100, 100),\n",
    "        class_mode='binary')\n",
    "\n",
    "\n",
    "# Get all the data in the directory chest_xray/val (16 images), and reshape them\n",
    "val_generator = val_datagen.flow_from_directory(\n",
    "        val_dir,\n",
    "        batch_size=16,\n",
    "        target_size=(100, 100), \n",
    "        class_mode='binary')"
   ]
  },
  {
   "cell_type": "code",
   "execution_count": 24,
   "id": "85c83c4e-5b15-4c24-a29c-f96829fa6f20",
   "metadata": {},
   "outputs": [],
   "source": [
    "# Create the datasets\n",
    "train_images, train_labels = next(train_generator)\n",
    "test_images, test_labels = next(test_generator)\n",
    "val_images, val_labels = next(val_generator)"
   ]
  },
  {
   "cell_type": "code",
   "execution_count": 25,
   "id": "a3c670a5-f558-4e4c-af2a-081df74d2f69",
   "metadata": {},
   "outputs": [
    {
     "name": "stdout",
     "output_type": "stream",
     "text": [
      "Image Dataset Shape\n",
      "(5216, 100, 100, 3)\n",
      "(624, 100, 100, 3)\n",
      "(16, 100, 100, 3)\n",
      "Label Dataset Shape\n",
      "(5216,)\n",
      "(624,)\n",
      "(16,)\n"
     ]
    }
   ],
   "source": [
    "# Previewing shape of each dataset\n",
    "\n",
    "print(\"Image Dataset Shape\")\n",
    "print(train_images.shape)\n",
    "print(test_images.shape)\n",
    "print(val_images.shape)\n",
    "\n",
    "print(\"Label Dataset Shape\")\n",
    "print(train_labels.shape)\n",
    "print(test_labels.shape)\n",
    "print(val_labels.shape)\n",
    "\n"
   ]
  },
  {
   "cell_type": "code",
   "execution_count": 26,
   "id": "091869f1-635b-4b99-b401-86ac66f36211",
   "metadata": {},
   "outputs": [],
   "source": [
    "example_img = train_images[10]"
   ]
  },
  {
   "cell_type": "code",
   "execution_count": 27,
   "id": "f69ff46b-9d53-4760-9b24-8894fc00b950",
   "metadata": {},
   "outputs": [
    {
     "data": {
      "text/plain": [
       "<matplotlib.image.AxesImage at 0x7f8382adb3a0>"
      ]
     },
     "execution_count": 27,
     "metadata": {},
     "output_type": "execute_result"
    },
    {
     "data": {
      "image/png": "[encoded data removed]",
      "text/plain": [
       "<Figure size 640x480 with 1 Axes>"
      ]
     },
     "metadata": {},
     "output_type": "display_data"
    }
   ],
   "source": [
    "plt.imshow(example_img)"
   ]
  },
  {
   "cell_type": "code",
   "execution_count": 28,
   "id": "9491baac-3ab0-40b9-846c-c98f1b8c72b7",
   "metadata": {
    "scrolled": true
   },
   "outputs": [
    {
     "name": "stdout",
     "output_type": "stream",
     "text": [
      "(5216, 30000)\n",
      "(624, 30000)\n",
      "(16, 30000)\n"
     ]
    }
   ],
   "source": [
    "# Reshaping image datasets\n",
    "train_img = train_images.reshape(train_images.shape[0], -1)\n",
    "test_img = test_images.reshape(test_images.shape[0], -1)\n",
    "val_img = val_images.reshape(val_images.shape[0], -1)\n",
    "\n",
    "print(train_img.shape)\n",
    "print(test_img.shape)\n",
    "print(val_img.shape)"
   ]
  },
  {
   "cell_type": "code",
   "execution_count": 29,
   "id": "1a17fba6-c645-46d9-b05d-24c1849fc758",
   "metadata": {},
   "outputs": [
    {
     "data": {
      "text/plain": [
       "array([[0.34948418, 0.34948418, 0.34948418, ..., 0.02352941, 0.02352941,\n",
       "        0.02352941],\n",
       "       [0.1528227 , 0.1528227 , 0.1528227 , ..., 0.00177291, 0.00177291,\n",
       "        0.00177291],\n",
       "       [0.1419635 , 0.1419635 , 0.1419635 , ..., 0.47154975, 0.47154975,\n",
       "        0.47154975],\n",
       "       ...,\n",
       "       [0.19161478, 0.19161478, 0.19161478, ..., 0.        , 0.        ,\n",
       "        0.        ],\n",
       "       [0.29122114, 0.29122114, 0.29122114, ..., 0.08235294, 0.08235294,\n",
       "        0.08235294],\n",
       "       [0.        , 0.        , 0.        , ..., 0.03137255, 0.03137255,\n",
       "        0.03137255]], dtype=float32)"
      ]
     },
     "execution_count": 29,
     "metadata": {},
     "output_type": "execute_result"
    }
   ],
   "source": [
    "train_img[:10]"
   ]
  },
  {
   "cell_type": "code",
   "execution_count": 30,
   "id": "ab183f9b-886a-4e62-af82-0290a9d89595",
   "metadata": {},
   "outputs": [
    {
     "name": "stdout",
     "output_type": "stream",
     "text": [
      "(5216, 1)\n",
      "(624, 1)\n",
      "(16, 1)\n"
     ]
    }
   ],
   "source": [
    "# Reshaping labels\n",
    "train_y = np.reshape(train_labels, (5216,1))\n",
    "test_y = np.reshape(test_labels, (624,1))\n",
    "val_y = np.reshape(val_labels, (16,1))\n",
    "\n",
    "print(train_y.shape)\n",
    "print(test_y.shape)\n",
    "print(val_y.shape)"
   ]
  },
  {
   "cell_type": "code",
   "execution_count": 31,
   "id": "1491a6ab-6a47-41e8-8e58-0e0e02401cc8",
   "metadata": {},
   "outputs": [
    {
     "data": {
      "text/plain": [
       "array([[1.],\n",
       "       [1.],\n",
       "       [0.],\n",
       "       [1.],\n",
       "       [0.],\n",
       "       [1.],\n",
       "       [1.],\n",
       "       [1.],\n",
       "       [1.],\n",
       "       [1.]], dtype=float32)"
      ]
     },
     "execution_count": 31,
     "metadata": {},
     "output_type": "execute_result"
    }
   ],
   "source": [
    "# Viewing first 10 labels\n",
    "train_y[:10]"
   ]
  },
  {
   "cell_type": "code",
   "execution_count": 32,
   "id": "b4b79d95-10b9-4dfa-96ed-715e97e06238",
   "metadata": {
    "scrolled": true
   },
   "outputs": [
    {
     "data": {
      "text/plain": [
       "{'NORMAL': 0, 'PNEUMONIA': 1}"
      ]
     },
     "execution_count": 32,
     "metadata": {},
     "output_type": "execute_result"
    }
   ],
   "source": [
    "# Viewing class indices\n",
    "train_generator.class_indices"
   ]
  },
  {
   "cell_type": "markdown",
   "id": "171b684f-d9e8-43d7-a76a-973d094407a8",
   "metadata": {},
   "source": [
    "## Baseline CNN Model "
   ]
  },
  {
   "cell_type": "code",
   "execution_count": null,
   "id": "ba74ee56-844c-4072-bda1-4690a7d9e755",
   "metadata": {},
   "outputs": [],
   "source": [
    "# cnn baseline model\n",
    "\n",
    "cnn_model = models.Sequential()\n",
    "cnn_model.add(layers.Conv2D(filters= 8, \n",
    "                        kernel_size=(3,3), \n",
    "                        activation='relu', \n",
    "                        input_shape=(100, 100, 3)))\n",
    "cnn_model.add(layers.MaxPooling2D(pool_size=(2, 2)))\n",
    "cnn_model.add(layers.Conv2D(16, (3, 3), activation='relu'))\n",
    "cnn_model.add(layers.MaxPooling2D((2, 2)))\n",
    "cnn_model.add(layers.Conv2D(16, (3, 3), activation='relu'))\n",
    "\n",
    "# Adding dense layers on top\n",
    "\n",
    "cnn_model.add(layers.Flatten())\n",
    "cnn_model.add(layers.Dense(16, activation='relu'))\n",
    "cnn_model.add(layers.Dense(1, activation='sigmoid'))\n",
    "\n",
    "# Compiling model with following parameters\n",
    "cnn_model.compile(optimizer='adam',\n",
    "                loss='binary_crossentropy', \n",
    "                metrics=['accuracy'])\n",
    "\n",
    "# Inspecting model summary\n",
    "cnn_model.summary()\n",
    "\n",
    "# Fit and train the model \n",
    "cnn_model.fit(train_images, train_labels, epochs=10, batch_size=128)\n",
    "\n",
    "# Evaluate the model \n",
    "test_loss, test_acc = cnn_model.evaluate(test_images, test_labels)\n",
    "print(test_acc)\n"
   ]
  },
  {
   "cell_type": "markdown",
   "id": "f2017bae-dff9-448c-a2be-00232343dce7",
   "metadata": {},
   "source": [
    "Baseline CNN model (before data augmentation):\n",
    "- Train Accuracy: 0.98\n",
    "- Test Accuracy: 0.78\n",
    "\n",
    "Model shows signs of overfitting. "
   ]
  },
  {
   "cell_type": "code",
   "execution_count": 33,
   "id": "5cfba483-6e7f-46b8-a333-5395ac0cc5e4",
   "metadata": {},
   "outputs": [],
   "source": [
    "# cnn baseline model\n",
    "\n",
    "cnn_model = models.Sequential()\n",
    "cnn_model.add(layers.Conv2D(filters= 8, \n",
    "                        kernel_size=(3,3), \n",
    "                        activation='relu', \n",
    "                        input_shape=(100, 100, 3)))\n",
    "cnn_model.add(layers.MaxPooling2D(pool_size=(2, 2)))\n",
    "cnn_model.add(layers.Conv2D(16, (3, 3), activation='relu'))\n",
    "cnn_model.add(layers.MaxPooling2D((2, 2)))\n",
    "cnn_model.add(layers.Conv2D(16, (3, 3), activation='relu'))"
   ]
  },
  {
   "cell_type": "code",
   "execution_count": 34,
   "id": "5d66243d-4437-45bb-9704-204f36cf70bf",
   "metadata": {},
   "outputs": [
    {
     "name": "stdout",
     "output_type": "stream",
     "text": [
      "Model: \"sequential_2\"\n",
      "_________________________________________________________________\n",
      " Layer (type)                Output Shape              Param #   \n",
      "=================================================================\n",
      " conv2d_6 (Conv2D)           (None, 98, 98, 8)         224       \n",
      "                                                                 \n",
      " max_pooling2d_4 (MaxPooling  (None, 49, 49, 8)        0         \n",
      " 2D)                                                             \n",
      "                                                                 \n",
      " conv2d_7 (Conv2D)           (None, 47, 47, 16)        1168      \n",
      "                                                                 \n",
      " max_pooling2d_5 (MaxPooling  (None, 23, 23, 16)       0         \n",
      " 2D)                                                             \n",
      "                                                                 \n",
      " conv2d_8 (Conv2D)           (None, 21, 21, 16)        2320      \n",
      "                                                                 \n",
      "=================================================================\n",
      "Total params: 3,712\n",
      "Trainable params: 3,712\n",
      "Non-trainable params: 0\n",
      "_________________________________________________________________\n"
     ]
    }
   ],
   "source": [
    "# Inspecting model summary\n",
    "\n",
    "cnn_model.summary()\n"
   ]
  },
  {
   "cell_type": "code",
   "execution_count": 35,
   "id": "a4f70d54-7fea-4774-a4c6-fb254a88e89d",
   "metadata": {},
   "outputs": [],
   "source": [
    "# Adding dense layers on top\n",
    "\n",
    "cnn_model.add(layers.Flatten())\n",
    "cnn_model.add(layers.Dense(16, activation='relu'))\n",
    "cnn_model.add(layers.Dense(1, activation='sigmoid'))"
   ]
  },
  {
   "cell_type": "code",
   "execution_count": 36,
   "id": "38d89daa-bd0e-466e-8ae0-5f0392b2b9fd",
   "metadata": {},
   "outputs": [
    {
     "name": "stdout",
     "output_type": "stream",
     "text": [
      "Model: \"sequential_2\"\n",
      "_________________________________________________________________\n",
      " Layer (type)                Output Shape              Param #   \n",
      "=================================================================\n",
      " conv2d_6 (Conv2D)           (None, 98, 98, 8)         224       \n",
      "                                                                 \n",
      " max_pooling2d_4 (MaxPooling  (None, 49, 49, 8)        0         \n",
      " 2D)                                                             \n",
      "                                                                 \n",
      " conv2d_7 (Conv2D)           (None, 47, 47, 16)        1168      \n",
      "                                                                 \n",
      " max_pooling2d_5 (MaxPooling  (None, 23, 23, 16)       0         \n",
      " 2D)                                                             \n",
      "                                                                 \n",
      " conv2d_8 (Conv2D)           (None, 21, 21, 16)        2320      \n",
      "                                                                 \n",
      " flatten_2 (Flatten)         (None, 7056)              0         \n",
      "                                                                 \n",
      " dense_4 (Dense)             (None, 16)                112912    \n",
      "                                                                 \n",
      " dense_5 (Dense)             (None, 1)                 17        \n",
      "                                                                 \n",
      "=================================================================\n",
      "Total params: 116,641\n",
      "Trainable params: 116,641\n",
      "Non-trainable params: 0\n",
      "_________________________________________________________________\n"
     ]
    }
   ],
   "source": [
    "# Inspecting model summary\n",
    "\n",
    "cnn_model.summary()\n"
   ]
  },
  {
   "cell_type": "code",
   "execution_count": 37,
   "id": "2da43024-e8cf-4fbd-a4a7-1efc42a4ac13",
   "metadata": {},
   "outputs": [],
   "source": [
    "# Compiling model with following parameters\n",
    "cnn_model.compile(optimizer='adam',\n",
    "                  loss='binary_crossentropy', \n",
    "                  metrics=['accuracy'])"
   ]
  },
  {
   "cell_type": "code",
   "execution_count": 38,
   "id": "49f4dedf-a133-41db-aecc-842e30638bd6",
   "metadata": {},
   "outputs": [
    {
     "name": "stdout",
     "output_type": "stream",
     "text": [
      "Epoch 1/10\n",
      "41/41 [==============================] - 20s 451ms/step - loss: 0.5426 - accuracy: 0.7318\n",
      "Epoch 2/10\n",
      "41/41 [==============================] - 15s 368ms/step - loss: 0.4148 - accuracy: 0.7483\n",
      "Epoch 3/10\n",
      "41/41 [==============================] - 16s 381ms/step - loss: 0.3765 - accuracy: 0.8353\n",
      "Epoch 4/10\n",
      "41/41 [==============================] - 17s 406ms/step - loss: 0.3632 - accuracy: 0.8405\n",
      "Epoch 5/10\n",
      "41/41 [==============================] - 17s 404ms/step - loss: 0.3322 - accuracy: 0.8645\n",
      "Epoch 6/10\n",
      "41/41 [==============================] - 16s 393ms/step - loss: 0.3343 - accuracy: 0.8643\n",
      "Epoch 7/10\n",
      "41/41 [==============================] - 18s 437ms/step - loss: 0.3232 - accuracy: 0.8702\n",
      "Epoch 8/10\n",
      "41/41 [==============================] - 16s 394ms/step - loss: 0.3137 - accuracy: 0.8763\n",
      "Epoch 9/10\n",
      "41/41 [==============================] - 16s 379ms/step - loss: 0.3039 - accuracy: 0.8809\n",
      "Epoch 10/10\n",
      "41/41 [==============================] - 16s 392ms/step - loss: 0.3192 - accuracy: 0.8694\n"
     ]
    },
    {
     "data": {
      "text/plain": [
       "<keras.callbacks.History at 0x7f8381cb6070>"
      ]
     },
     "execution_count": 38,
     "metadata": {},
     "output_type": "execute_result"
    }
   ],
   "source": [
    "# Fit and train the model \n",
    "cnn_model.fit(train_images, train_labels, epochs=10, batch_size= 128)"
   ]
  },
  {
   "cell_type": "code",
   "execution_count": 39,
   "id": "260f0597-e93e-40f3-a866-8db07dc4467f",
   "metadata": {},
   "outputs": [
    {
     "name": "stdout",
     "output_type": "stream",
     "text": [
      "20/20 [==============================] - 1s 42ms/step - loss: 0.4935 - accuracy: 0.7740\n",
      "0.7740384340286255\n"
     ]
    }
   ],
   "source": [
    "# Evaluate the model \n",
    "test_loss, test_acc = cnn_model.evaluate(test_images, test_labels)\n",
    "print(test_acc)"
   ]
  },
  {
   "cell_type": "code",
   "execution_count": 40,
   "id": "c1d4f76c-a863-4aac-bbf9-7275f343307a",
   "metadata": {},
   "outputs": [
    {
     "name": "stdout",
     "output_type": "stream",
     "text": [
      "163/163 [==============================] - 6s 37ms/step - loss: 0.3845 - accuracy: 0.8409\n",
      "0.8408742547035217\n"
     ]
    }
   ],
   "source": [
    "train_loss, train_acc = cnn_model.evaluate(train_images, train_labels)\n",
    "print(train_acc)"
   ]
  },
  {
   "cell_type": "markdown",
   "id": "93967e87-a7f5-4eaa-87a0-994d39564527",
   "metadata": {},
   "source": [
    "CNN model (after data augmentation):\n",
    "- Train Accuracy: 0.84\n",
    "- Test Accuracy: 0.77\n",
    "\n",
    "Model's overfitting is improving. Will continue to adjust to work to improve perfromance. "
   ]
  },
  {
   "cell_type": "code",
   "execution_count": null,
   "id": "07288c0f-e516-4e89-acc1-2f068ac6ccd4",
   "metadata": {},
   "outputs": [],
   "source": []
  },
  {
   "cell_type": "markdown",
   "id": "b2bd4eb6-f1da-4c2e-a88d-db08f3fc2d24",
   "metadata": {},
   "source": [
    "## CNN Model 3"
   ]
  },
  {
   "cell_type": "code",
   "execution_count": 41,
   "id": "b5c438bb-2af2-4dd4-b85d-ae376bd73c7e",
   "metadata": {},
   "outputs": [
    {
     "name": "stdout",
     "output_type": "stream",
     "text": [
      "Model: \"sequential_3\"\n",
      "_________________________________________________________________\n",
      " Layer (type)                Output Shape              Param #   \n",
      "=================================================================\n",
      " conv2d_9 (Conv2D)           (None, 98, 98, 16)        448       \n",
      "                                                                 \n",
      " max_pooling2d_6 (MaxPooling  (None, 49, 49, 16)       0         \n",
      " 2D)                                                             \n",
      "                                                                 \n",
      " conv2d_10 (Conv2D)          (None, 47, 47, 32)        4640      \n",
      "                                                                 \n",
      " max_pooling2d_7 (MaxPooling  (None, 23, 23, 32)       0         \n",
      " 2D)                                                             \n",
      "                                                                 \n",
      " conv2d_11 (Conv2D)          (None, 21, 21, 32)        9248      \n",
      "                                                                 \n",
      " flatten_3 (Flatten)         (None, 14112)             0         \n",
      "                                                                 \n",
      " dense_6 (Dense)             (None, 16)                225808    \n",
      "                                                                 \n",
      " dense_7 (Dense)             (None, 1)                 17        \n",
      "                                                                 \n",
      "=================================================================\n",
      "Total params: 240,161\n",
      "Trainable params: 240,161\n",
      "Non-trainable params: 0\n",
      "_________________________________________________________________\n",
      "Epoch 1/10\n",
      "41/41 [==============================] - 27s 594ms/step - loss: 0.5468 - accuracy: 0.7385\n",
      "Epoch 2/10\n",
      "41/41 [==============================] - 25s 621ms/step - loss: 0.4020 - accuracy: 0.7859\n",
      "Epoch 3/10\n",
      "41/41 [==============================] - 25s 605ms/step - loss: 0.2965 - accuracy: 0.8702\n",
      "Epoch 4/10\n",
      "41/41 [==============================] - 25s 621ms/step - loss: 0.2927 - accuracy: 0.8683\n",
      "Epoch 5/10\n",
      "41/41 [==============================] - 25s 613ms/step - loss: 0.2615 - accuracy: 0.8877\n",
      "Epoch 6/10\n",
      "41/41 [==============================] - 25s 605ms/step - loss: 0.2637 - accuracy: 0.8850\n",
      "Epoch 7/10\n",
      "41/41 [==============================] - 24s 583ms/step - loss: 0.2418 - accuracy: 0.8949\n",
      "Epoch 8/10\n",
      "41/41 [==============================] - 23s 565ms/step - loss: 0.2313 - accuracy: 0.9038\n",
      "Epoch 9/10\n",
      "41/41 [==============================] - 25s 597ms/step - loss: 0.2192 - accuracy: 0.9076\n",
      "Epoch 10/10\n",
      "41/41 [==============================] - 23s 566ms/step - loss: 0.2038 - accuracy: 0.9172\n",
      "20/20 [==============================] - 1s 59ms/step - loss: 0.3363 - accuracy: 0.8766\n",
      "0.8766025900840759\n"
     ]
    }
   ],
   "source": [
    "# cnn model #3\n",
    "# data augmentation\n",
    "# increases number of filters to add complexity, only increased the conv2d layers\n",
    "\n",
    "cnn_model = models.Sequential()\n",
    "cnn_model.add(layers.Conv2D(filters= 16, \n",
    "                        kernel_size=(3,3), \n",
    "                        activation='relu', \n",
    "                        input_shape=(100, 100, 3)))\n",
    "cnn_model.add(layers.MaxPooling2D(pool_size=(2, 2)))\n",
    "cnn_model.add(layers.Conv2D(32, (3, 3), activation='relu'))\n",
    "cnn_model.add(layers.MaxPooling2D((2, 2)))\n",
    "cnn_model.add(layers.Conv2D(32, (3, 3), activation='relu'))\n",
    "\n",
    "# Adding dense layers on top\n",
    "\n",
    "cnn_model.add(layers.Flatten())\n",
    "cnn_model.add(layers.Dense(16, activation='relu'))\n",
    "cnn_model.add(layers.Dense(1, activation='sigmoid'))\n",
    "\n",
    "# Compiling model with following parameters\n",
    "cnn_model.compile(optimizer='adam',\n",
    "                loss='binary_crossentropy', \n",
    "                metrics=['accuracy'])\n",
    "\n",
    "# Inspecting model summary\n",
    "cnn_model.summary()\n",
    "\n",
    "# Fit and train the model \n",
    "cnn_model.fit(train_images, train_labels, epochs=10, batch_size=128)\n",
    "\n",
    "# Evaluate the model \n",
    "test_loss, test_acc = cnn_model.evaluate(test_images, test_labels)\n",
    "print(test_acc)\n"
   ]
  },
  {
   "cell_type": "code",
   "execution_count": 42,
   "id": "5114e3d2-8b63-48ea-b1fd-637658a161d7",
   "metadata": {},
   "outputs": [
    {
     "name": "stdout",
     "output_type": "stream",
     "text": [
      "163/163 [==============================] - 8s 49ms/step - loss: 0.1852 - accuracy: 0.9258\n",
      "0.9258052110671997\n"
     ]
    }
   ],
   "source": [
    "train_loss, train_acc = cnn_model.evaluate(train_images, train_labels)\n",
    "print(train_acc)"
   ]
  },
  {
   "cell_type": "code",
   "execution_count": 43,
   "id": "0371bb9a-cecb-416d-8651-dbcbde31ad93",
   "metadata": {},
   "outputs": [
    {
     "name": "stdout",
     "output_type": "stream",
     "text": [
      "20/20 [==============================] - 1s 48ms/step - loss: 0.3363 - accuracy: 0.8766\n",
      "0.8766025900840759\n"
     ]
    }
   ],
   "source": [
    "test_loss, test_acc = cnn_model.evaluate(test_images, test_labels)\n",
    "print(test_acc)"
   ]
  },
  {
   "cell_type": "markdown",
   "id": "ed9c384f-6337-42a5-9ce7-8eb6f3d37f20",
   "metadata": {},
   "source": [
    "CNN model (after data augmentation and conv2d filter count doubled from previous model ):\n",
    "\n",
    "- Train Accuracy: 0.9258\n",
    "- Test Accuracy: 0.8766\n",
    "- \n",
    "Model's overfitting is improving. Will continue to adjust to work to improve performance."
   ]
  },
  {
   "cell_type": "code",
   "execution_count": 44,
   "id": "32a3543f-8369-4b6c-b921-00196747fb89",
   "metadata": {},
   "outputs": [
    {
     "name": "stdout",
     "output_type": "stream",
     "text": [
      "Epoch 1/10\n",
      "41/41 [==============================] - 38s 910ms/step - loss: 0.1850 - accuracy: 0.9264 - val_loss: 1.2482 - val_accuracy: 0.5625\n",
      "Epoch 2/10\n",
      "41/41 [==============================] - 25s 606ms/step - loss: 0.1663 - accuracy: 0.9319 - val_loss: 0.6894 - val_accuracy: 0.6875\n",
      "Epoch 3/10\n",
      "41/41 [==============================] - 24s 595ms/step - loss: 0.1712 - accuracy: 0.9335 - val_loss: 1.5360 - val_accuracy: 0.6250\n",
      "Epoch 4/10\n",
      "41/41 [==============================] - 25s 604ms/step - loss: 0.1774 - accuracy: 0.9291 - val_loss: 0.7537 - val_accuracy: 0.6875\n",
      "Epoch 5/10\n",
      "41/41 [==============================] - 26s 625ms/step - loss: 0.1596 - accuracy: 0.9360 - val_loss: 1.9074 - val_accuracy: 0.5625\n",
      "Epoch 6/10\n",
      "41/41 [==============================] - 77s 2s/step - loss: 0.1828 - accuracy: 0.9283 - val_loss: 0.8858 - val_accuracy: 0.6875\n",
      "Epoch 7/10\n",
      "41/41 [==============================] - 59s 1s/step - loss: 0.1401 - accuracy: 0.9434 - val_loss: 0.6431 - val_accuracy: 0.6875\n",
      "Epoch 8/10\n",
      "41/41 [==============================] - 38s 925ms/step - loss: 0.1500 - accuracy: 0.9408 - val_loss: 0.5842 - val_accuracy: 0.7500\n",
      "Epoch 9/10\n",
      "41/41 [==============================] - 32s 771ms/step - loss: 0.1360 - accuracy: 0.9484 - val_loss: 0.8778 - val_accuracy: 0.6250\n",
      "Epoch 10/10\n",
      "41/41 [==============================] - 26s 634ms/step - loss: 0.1138 - accuracy: 0.9582 - val_loss: 0.9659 - val_accuracy: 0.6250\n"
     ]
    },
    {
     "data": {
      "image/png": "[encoded data removed]",
      "text/plain": [
       "<Figure size 640x480 with 1 Axes>"
      ]
     },
     "metadata": {},
     "output_type": "display_data"
    },
    {
     "data": {
      "image/png": "[encoded data removed]",
      "text/plain": [
       "<Figure size 640x480 with 1 Axes>"
      ]
     },
     "metadata": {},
     "output_type": "display_data"
    },
    {
     "name": "stdout",
     "output_type": "stream",
     "text": [
      "20/20 [==============================] - 1s 60ms/step - loss: 0.4731 - accuracy: 0.8478\n",
      "Test Accuracy: 0.8477563858032227\n"
     ]
    }
   ],
   "source": [
    "import matplotlib.pyplot as plt\n",
    "import keras\n",
    "\n",
    "# Define a function to plot training and validation curves\n",
    "def plot_curves(history):\n",
    "    # Plot training & validation accuracy values\n",
    "    plt.plot(history.history['accuracy'])\n",
    "    plt.plot(history.history['val_accuracy'])\n",
    "    plt.title('Model accuracy')\n",
    "    plt.xlabel('Epoch')\n",
    "    plt.ylabel('Accuracy')\n",
    "    plt.legend(['Train', 'Validation'], loc='upper left')\n",
    "    plt.show()\n",
    "\n",
    "    # Plot training & validation loss values\n",
    "    plt.plot(history.history['loss'])\n",
    "    plt.plot(history.history['val_loss'])\n",
    "    plt.title('Model loss')\n",
    "    plt.xlabel('Epoch')\n",
    "    plt.ylabel('Loss')\n",
    "    plt.legend(['Train', 'Validation'], loc='upper left')\n",
    "    plt.show()\n",
    "\n",
    "\n",
    "# Train the model and store the history\n",
    "history = cnn_model.fit(train_images, train_labels, epochs=10, batch_size=128, validation_data=(val_images, val_labels))\n",
    "\n",
    "# Plot the curves\n",
    "plot_curves(history)\n",
    "\n",
    "# Evaluate on the test set\n",
    "test_loss, test_acc = cnn_model.evaluate(test_images, test_labels)\n",
    "print(\"Test Accuracy:\", test_acc)\n"
   ]
  },
  {
   "cell_type": "code",
   "execution_count": null,
   "id": "b491e543-8539-455d-8ad7-b4135cc973ef",
   "metadata": {},
   "outputs": [],
   "source": []
  },
  {
   "cell_type": "markdown",
   "id": "f5f95166-f127-44c4-a288-66b5b95a5dd6",
   "metadata": {},
   "source": [
    "## CNN Model 4"
   ]
  },
  {
   "cell_type": "code",
   "execution_count": 46,
   "id": "2ab36457-1483-4d76-9234-2b11bdc27172",
   "metadata": {},
   "outputs": [
    {
     "name": "stdout",
     "output_type": "stream",
     "text": [
      "Model: \"sequential_5\"\n",
      "_________________________________________________________________\n",
      " Layer (type)                Output Shape              Param #   \n",
      "=================================================================\n",
      " conv2d_15 (Conv2D)          (None, 98, 98, 16)        448       \n",
      "                                                                 \n",
      " batch_normalization_6 (Batc  (None, 98, 98, 16)       64        \n",
      " hNormalization)                                                 \n",
      "                                                                 \n",
      " max_pooling2d_10 (MaxPoolin  (None, 49, 49, 16)       0         \n",
      " g2D)                                                            \n",
      "                                                                 \n",
      " conv2d_16 (Conv2D)          (None, 47, 47, 32)        4640      \n",
      "                                                                 \n",
      " batch_normalization_7 (Batc  (None, 47, 47, 32)       128       \n",
      " hNormalization)                                                 \n",
      "                                                                 \n",
      " max_pooling2d_11 (MaxPoolin  (None, 23, 23, 32)       0         \n",
      " g2D)                                                            \n",
      "                                                                 \n",
      " conv2d_17 (Conv2D)          (None, 21, 21, 32)        9248      \n",
      "                                                                 \n",
      " batch_normalization_8 (Batc  (None, 21, 21, 32)       128       \n",
      " hNormalization)                                                 \n",
      "                                                                 \n",
      " flatten_5 (Flatten)         (None, 14112)             0         \n",
      "                                                                 \n",
      " dense_10 (Dense)            (None, 16)                225808    \n",
      "                                                                 \n",
      " dense_11 (Dense)            (None, 1)                 17        \n",
      "                                                                 \n",
      "=================================================================\n",
      "Total params: 240,481\n",
      "Trainable params: 240,321\n",
      "Non-trainable params: 160\n",
      "_________________________________________________________________\n",
      "Epoch 1/10\n",
      "41/41 [==============================] - 40s 919ms/step - loss: 0.3620 - accuracy: 0.8261 - val_loss: 3.2112 - val_accuracy: 0.5000\n",
      "Epoch 2/10\n",
      "41/41 [==============================] - 37s 908ms/step - loss: 0.1894 - accuracy: 0.9183 - val_loss: 6.6178 - val_accuracy: 0.5000\n",
      "Epoch 3/10\n",
      "41/41 [==============================] - 36s 868ms/step - loss: 0.1173 - accuracy: 0.9549 - val_loss: 10.9375 - val_accuracy: 0.5000\n",
      "Epoch 4/10\n",
      "41/41 [==============================] - 34s 840ms/step - loss: 0.0660 - accuracy: 0.9791 - val_loss: 11.8489 - val_accuracy: 0.5000\n",
      "Epoch 5/10\n",
      "41/41 [==============================] - 35s 851ms/step - loss: 0.0342 - accuracy: 0.9927 - val_loss: 14.2309 - val_accuracy: 0.5000\n",
      "Epoch 6/10\n",
      "41/41 [==============================] - 34s 815ms/step - loss: 0.0149 - accuracy: 0.9987 - val_loss: 14.6646 - val_accuracy: 0.5000\n",
      "Epoch 7/10\n",
      "41/41 [==============================] - 33s 798ms/step - loss: 0.0082 - accuracy: 0.9990 - val_loss: 14.8426 - val_accuracy: 0.5000\n",
      "Epoch 8/10\n",
      "41/41 [==============================] - 32s 782ms/step - loss: 0.0049 - accuracy: 0.9994 - val_loss: 15.9920 - val_accuracy: 0.5000\n",
      "Epoch 9/10\n",
      "41/41 [==============================] - 33s 799ms/step - loss: 0.0030 - accuracy: 0.9994 - val_loss: 16.2576 - val_accuracy: 0.5000\n",
      "Epoch 10/10\n",
      "41/41 [==============================] - 33s 795ms/step - loss: 0.0021 - accuracy: 0.9994 - val_loss: 15.0758 - val_accuracy: 0.5000\n",
      "163/163 [==============================] - 14s 83ms/step - loss: 6.2026 - accuracy: 0.7429\n",
      "Train Accuracy: 0.7429064512252808\n",
      "20/20 [==============================] - 2s 92ms/step - loss: 10.4178 - accuracy: 0.6250\n",
      "Test Accuracy: 0.625\n"
     ]
    },
    {
     "data": {
      "image/png": "[encoded data removed]",
      "text/plain": [
       "<Figure size 640x480 with 1 Axes>"
      ]
     },
     "metadata": {},
     "output_type": "display_data"
    },
    {
     "data": {
      "image/png": "[encoded data removed]",
      "text/plain": [
       "<Figure size 640x480 with 1 Axes>"
      ]
     },
     "metadata": {},
     "output_type": "display_data"
    }
   ],
   "source": [
    "# cnn model 4 \n",
    "# data augmentation\n",
    "# increases number of filters to add complexity, only increased the conv2d layers\n",
    "# adding batch normalization\n",
    "\n",
    "cnn_model2 = models.Sequential()\n",
    "cnn_model2.add(layers.Conv2D(filters=16, kernel_size=(3,3), activation='relu', input_shape=(100, 100, 3)))\n",
    "cnn_model2.add(layers.BatchNormalization())\n",
    "cnn_model2.add(layers.MaxPooling2D(pool_size=(2, 2)))\n",
    "cnn_model2.add(layers.Conv2D(32, (3, 3), activation='relu'))\n",
    "cnn_model2.add(layers.BatchNormalization())\n",
    "cnn_model2.add(layers.MaxPooling2D((2, 2)))\n",
    "cnn_model2.add(layers.Conv2D(32, (3, 3), activation='relu'))\n",
    "cnn_model2.add(layers.BatchNormalization())\n",
    "\n",
    "\n",
    "# Adding dense layers on top\n",
    "\n",
    "cnn_model2.add(layers.Flatten())\n",
    "cnn_model2.add(layers.Dense(16, activation='relu'))\n",
    "cnn_model2.add(layers.Dense(1, activation='sigmoid'))\n",
    "\n",
    "# Compiling model with following parameters\n",
    "cnn_model2.compile(optimizer='adam',\n",
    "                loss='binary_crossentropy', \n",
    "                metrics=['accuracy'])\n",
    "\n",
    "# Inspecting model summary\n",
    "cnn_model2.summary()\n",
    "\n",
    "# Train the model and store the history\n",
    "history = cnn_model2.fit(train_images, train_labels, epochs=10, batch_size=128, validation_data=(val_images, val_labels))\n",
    "\n",
    "# Evaluate the model \n",
    "train_loss, train_acc = cnn_model2.evaluate(train_images, train_labels)\n",
    "print(\"Train Accuracy:\", train_acc)\n",
    "test_loss, test_acc = cnn_model2.evaluate(test_images, test_labels)\n",
    "print(\"Test Accuracy:\", test_acc)\n",
    "\n",
    "# Plot the curves\n",
    "plot_curves(history)"
   ]
  },
  {
   "cell_type": "code",
   "execution_count": 47,
   "id": "b8b963ed-0630-45db-9e2a-fc947a1e00cd",
   "metadata": {},
   "outputs": [
    {
     "ename": "NameError",
     "evalue": "name 'results' is not defined",
     "output_type": "error",
     "traceback": [
      "\u001b[0;31m---------------------------------------------------------------------------\u001b[0m",
      "\u001b[0;31mNameError\u001b[0m                                 Traceback (most recent call last)",
      "Cell \u001b[0;32mIn[47], line 1\u001b[0m\n\u001b[0;32m----> 1\u001b[0m \u001b[43mresults\u001b[49m\u001b[38;5;241m.\u001b[39m_dict_\n",
      "\u001b[0;31mNameError\u001b[0m: name 'results' is not defined"
     ]
    }
   ],
   "source": [
    "\n"
   ]
  },
  {
   "cell_type": "markdown",
   "id": "b29a404e-cba4-4845-b8aa-2fdb4c05f72e",
   "metadata": {},
   "source": [
    "## CNN Model 5"
   ]
  },
  {
   "cell_type": "code",
   "execution_count": 48,
   "id": "8a52babb-d504-4ade-9877-e29d10913e41",
   "metadata": {},
   "outputs": [
    {
     "name": "stdout",
     "output_type": "stream",
     "text": [
      "Model: \"sequential_6\"\n",
      "_________________________________________________________________\n",
      " Layer (type)                Output Shape              Param #   \n",
      "=================================================================\n",
      " conv2d_18 (Conv2D)          (None, 98, 98, 16)        448       \n",
      "                                                                 \n",
      " batch_normalization_9 (Batc  (None, 98, 98, 16)       64        \n",
      " hNormalization)                                                 \n",
      "                                                                 \n",
      " max_pooling2d_12 (MaxPoolin  (None, 49, 49, 16)       0         \n",
      " g2D)                                                            \n",
      "                                                                 \n",
      " conv2d_19 (Conv2D)          (None, 47, 47, 32)        4640      \n",
      "                                                                 \n",
      " batch_normalization_10 (Bat  (None, 47, 47, 32)       128       \n",
      " chNormalization)                                                \n",
      "                                                                 \n",
      " max_pooling2d_13 (MaxPoolin  (None, 23, 23, 32)       0         \n",
      " g2D)                                                            \n",
      "                                                                 \n",
      " conv2d_20 (Conv2D)          (None, 21, 21, 32)        9248      \n",
      "                                                                 \n",
      " batch_normalization_11 (Bat  (None, 21, 21, 32)       128       \n",
      " chNormalization)                                                \n",
      "                                                                 \n",
      " flatten_6 (Flatten)         (None, 14112)             0         \n",
      "                                                                 \n",
      " dense_12 (Dense)            (None, 16)                225808    \n",
      "                                                                 \n",
      " dense_13 (Dense)            (None, 1)                 17        \n",
      "                                                                 \n",
      "=================================================================\n",
      "Total params: 240,481\n",
      "Trainable params: 240,321\n",
      "Non-trainable params: 160\n",
      "_________________________________________________________________\n",
      "Epoch 1/10\n",
      "41/41 [==============================] - 58s 1s/step - loss: 0.3800 - accuracy: 0.8221 - val_loss: 1.1208 - val_accuracy: 0.5000\n",
      "Epoch 2/10\n",
      "41/41 [==============================] - 46s 1s/step - loss: 0.2251 - accuracy: 0.9024 - val_loss: 1.8828 - val_accuracy: 0.5000\n",
      "Epoch 3/10\n",
      "41/41 [==============================] - 43s 1s/step - loss: 0.1748 - accuracy: 0.9287 - val_loss: 2.2260 - val_accuracy: 0.5000\n",
      "Epoch 4/10\n",
      "41/41 [==============================] - 41s 1s/step - loss: 0.1352 - accuracy: 0.9553 - val_loss: 2.8372 - val_accuracy: 0.5000\n",
      "Epoch 5/10\n",
      "41/41 [==============================] - 39s 955ms/step - loss: 0.1074 - accuracy: 0.9684 - val_loss: 2.9274 - val_accuracy: 0.5000\n",
      "Epoch 6/10\n",
      "41/41 [==============================] - 37s 902ms/step - loss: 0.0869 - accuracy: 0.9757 - val_loss: 3.2327 - val_accuracy: 0.5000\n",
      "Epoch 7/10\n",
      "41/41 [==============================] - 37s 902ms/step - loss: 0.0679 - accuracy: 0.9850 - val_loss: 3.5795 - val_accuracy: 0.5000\n",
      "Epoch 8/10\n",
      "41/41 [==============================] - 36s 886ms/step - loss: 0.0549 - accuracy: 0.9906 - val_loss: 3.5141 - val_accuracy: 0.5000\n",
      "Epoch 9/10\n",
      "41/41 [==============================] - 40s 969ms/step - loss: 0.0448 - accuracy: 0.9946 - val_loss: 3.6791 - val_accuracy: 0.5000\n",
      "Epoch 10/10\n",
      "41/41 [==============================] - 39s 957ms/step - loss: 0.0368 - accuracy: 0.9964 - val_loss: 3.9983 - val_accuracy: 0.5000\n",
      "163/163 [==============================] - 16s 98ms/step - loss: 1.5250 - accuracy: 0.7429\n",
      "Train Accuracy: 0.7429064512252808\n",
      "20/20 [==============================] - 3s 142ms/step - loss: 2.6694 - accuracy: 0.6250\n",
      "Test Accuracy: 0.625\n"
     ]
    },
    {
     "data": {
      "image/png": "[encoded data removed]",
      "text/plain": [
       "<Figure size 640x480 with 1 Axes>"
      ]
     },
     "metadata": {},
     "output_type": "display_data"
    },
    {
     "data": {
      "image/png": "[encoded data removed]",
      "text/plain": [
       "<Figure size 640x480 with 1 Axes>"
      ]
     },
     "metadata": {},
     "output_type": "display_data"
    }
   ],
   "source": [
    "# data augmentation\n",
    "# increases number of filters to add complexity, only increased the conv2d layers\n",
    "# adding batch normalization\n",
    "# adjusting learning rate\n",
    "\n",
    "cnn_model5 = models.Sequential()\n",
    "cnn_model5.add(layers.Conv2D(filters=16, kernel_size=(3,3), activation='relu', input_shape=(100, 100, 3)))\n",
    "cnn_model5.add(layers.BatchNormalization())\n",
    "cnn_model5.add(layers.MaxPooling2D(pool_size=(2, 2)))\n",
    "cnn_model5.add(layers.Conv2D(32, (3, 3), activation='relu'))\n",
    "cnn_model5.add(layers.BatchNormalization())\n",
    "cnn_model5.add(layers.MaxPooling2D((2, 2)))\n",
    "cnn_model5.add(layers.Conv2D(32, (3, 3), activation='relu'))\n",
    "cnn_model5.add(layers.BatchNormalization())\n",
    "\n",
    "\n",
    "# Adding dense layers on top\n",
    "\n",
    "cnn_model5.add(layers.Flatten())\n",
    "cnn_model5.add(layers.Dense(16, activation='relu'))\n",
    "cnn_model5.add(layers.Dense(1, activation='sigmoid'))\n",
    "\n",
    "optimizer = keras.optimizers.Adam(learning_rate=0.0001)\n",
    "cnn_model5.compile(optimizer=optimizer, loss='binary_crossentropy', metrics=['accuracy'])\n",
    "\n",
    "# Inspecting model summary\n",
    "cnn_model5.summary()\n",
    "\n",
    "# Train the model and store the history\n",
    "history5 = cnn_model5.fit(train_images, train_labels, epochs=10, batch_size=128, validation_data=(val_images, val_labels))\n",
    "\n",
    "# Evaluate the model \n",
    "train_loss, train_acc = cnn_model5.evaluate(train_images, train_labels)\n",
    "print(\"Train Accuracy:\", train_acc)\n",
    "test_loss, test_acc = cnn_model5.evaluate(test_images, test_labels)\n",
    "print(\"Test Accuracy:\", test_acc)\n",
    "\n",
    "# Plot the curves\n",
    "plot_curves(history5)"
   ]
  },
  {
   "cell_type": "code",
   "execution_count": null,
   "id": "fe5b41da-c29b-4390-b02e-53f32c22c939",
   "metadata": {},
   "outputs": [],
   "source": []
  },
  {
   "cell_type": "code",
   "execution_count": null,
   "id": "bab4786a-474e-4f7b-8fd6-56f2b98f3982",
   "metadata": {},
   "outputs": [],
   "source": []
  },
  {
   "cell_type": "code",
   "execution_count": null,
   "id": "bfd1d961-d191-450d-828d-1c192f07f18e",
   "metadata": {},
   "outputs": [],
   "source": []
  },
  {
   "cell_type": "markdown",
   "id": "30db9026-fa8d-4e78-9c51-784281b5dddf",
   "metadata": {},
   "source": [
    "## CNN Model 2"
   ]
  },
  {
   "cell_type": "code",
   "execution_count": 21,
   "id": "97f40477-420f-4250-9007-be6718bdab71",
   "metadata": {},
   "outputs": [
    {
     "name": "stdout",
     "output_type": "stream",
     "text": [
      "Model: \"sequential_1\"\n",
      "_________________________________________________________________\n",
      " Layer (type)                Output Shape              Param #   \n",
      "=================================================================\n",
      " conv2d_3 (Conv2D)           (None, 98, 98, 16)        448       \n",
      "                                                                 \n",
      " batch_normalization (BatchN  (None, 98, 98, 16)       64        \n",
      " ormalization)                                                   \n",
      "                                                                 \n",
      " max_pooling2d_2 (MaxPooling  (None, 49, 49, 16)       0         \n",
      " 2D)                                                             \n",
      "                                                                 \n",
      " conv2d_4 (Conv2D)           (None, 47, 47, 32)        4640      \n",
      "                                                                 \n",
      " batch_normalization_1 (Batc  (None, 47, 47, 32)       128       \n",
      " hNormalization)                                                 \n",
      "                                                                 \n",
      " max_pooling2d_3 (MaxPooling  (None, 23, 23, 32)       0         \n",
      " 2D)                                                             \n",
      "                                                                 \n",
      " conv2d_5 (Conv2D)           (None, 21, 21, 32)        9248      \n",
      "                                                                 \n",
      " batch_normalization_2 (Batc  (None, 21, 21, 32)       128       \n",
      " hNormalization)                                                 \n",
      "                                                                 \n",
      " flatten_1 (Flatten)         (None, 14112)             0         \n",
      "                                                                 \n",
      " dense_2 (Dense)             (None, 32)                451616    \n",
      "                                                                 \n",
      " dense_3 (Dense)             (None, 1)                 33        \n",
      "                                                                 \n",
      "=================================================================\n",
      "Total params: 466,305\n",
      "Trainable params: 466,145\n",
      "Non-trainable params: 160\n",
      "_________________________________________________________________\n",
      "Epoch 1/10\n",
      "41/41 [==============================] - 59s 1s/step - loss: 0.1285 - accuracy: 0.9513\n",
      "Epoch 2/10\n",
      "41/41 [==============================] - 51s 1s/step - loss: 0.0291 - accuracy: 0.9895\n",
      "Epoch 3/10\n",
      "41/41 [==============================] - 42s 1s/step - loss: 0.0077 - accuracy: 0.9987\n",
      "Epoch 4/10\n",
      "41/41 [==============================] - 42s 1s/step - loss: 0.0019 - accuracy: 1.0000\n",
      "Epoch 5/10\n",
      "41/41 [==============================] - 40s 970ms/step - loss: 8.3261e-04 - accuracy: 1.0000\n",
      "Epoch 6/10\n",
      "41/41 [==============================] - 42s 1s/step - loss: 5.5173e-04 - accuracy: 0.9998\n",
      "Epoch 7/10\n",
      "41/41 [==============================] - 38s 935ms/step - loss: 4.3828e-04 - accuracy: 1.0000\n",
      "Epoch 8/10\n",
      "41/41 [==============================] - 42s 1s/step - loss: 3.7932e-04 - accuracy: 0.9998\n",
      "Epoch 9/10\n",
      "41/41 [==============================] - 43s 1s/step - loss: 3.1853e-04 - accuracy: 1.0000\n",
      "Epoch 10/10\n",
      "41/41 [==============================] - 43s 1s/step - loss: 2.8531e-04 - accuracy: 0.9998\n",
      "20/20 [==============================] - 2s 89ms/step - loss: 6.9000 - accuracy: 0.6250\n",
      "Test Accuracy: 0.625\n",
      "163/163 [==============================] - 14s 89ms/step - loss: 2.5218 - accuracy: 0.7433\n",
      "Train Accuracy: 0.7432898879051208\n"
     ]
    }
   ],
   "source": [
    "# cnn model 2\n",
    "# adding batch normlaization \n",
    "\n",
    "cnn_model = models.Sequential()\n",
    "cnn_model.add(layers.Conv2D(filters= 16, \n",
    "                        kernel_size=(3,3), \n",
    "                        activation='relu', \n",
    "                        input_shape=(100, 100, 3)))\n",
    "cnn_model.add(BatchNormalization())\n",
    "cnn_model.add(layers.MaxPooling2D(pool_size=(2, 2)))\n",
    "cnn_model.add(layers.Conv2D(32, (3, 3), activation='relu'))\n",
    "cnn_model.add(BatchNormalization())\n",
    "cnn_model.add(layers.MaxPooling2D((2, 2)))\n",
    "cnn_model.add(layers.Conv2D(32, (3, 3), activation='relu'))\n",
    "cnn_model.add(BatchNormalization())\n",
    "\n",
    "# Adding dense layers on top\n",
    "\n",
    "cnn_model.add(layers.Flatten())\n",
    "cnn_model.add(layers.Dense(32, activation='relu'))\n",
    "cnn_model.add(layers.Dense(1, activation='sigmoid'))\n",
    "\n",
    "# Compiling model with following parameters\n",
    "cnn_model.compile(optimizer='adam',\n",
    "                loss='binary_crossentropy', \n",
    "                metrics=['accuracy'])\n",
    "\n",
    "# Inspecting model summary\n",
    "cnn_model.summary()\n",
    "\n",
    "# Fit and train the model \n",
    "cnn_model.fit(train_images, train_labels, epochs=10, batch_size=128)\n",
    "\n",
    "# Evaluate the model \n",
    "test_loss, test_acc = cnn_model.evaluate(test_images, test_labels)\n",
    "print(\"Test Accuracy:\", test_acc)\n",
    "\n",
    "train_loss, train_acc = cnn_model.evaluate(train_images, train_labels)\n",
    "print(\"Train Accuracy:\", train_acc)"
   ]
  },
  {
   "cell_type": "markdown",
   "id": "21bafc04-faa7-457e-90e1-8486b5f286c4",
   "metadata": {},
   "source": [
    "## CNN Model 3"
   ]
  },
  {
   "cell_type": "code",
   "execution_count": null,
   "id": "0181b4be-768d-470f-83a4-6872ae2132e0",
   "metadata": {},
   "outputs": [],
   "source": [
    "# cnn model 3\n",
    "# adding batch normlaization \n",
    "\n",
    "cnn_model = models.Sequential()\n",
    "cnn_model.add(layers.Conv2D(filters= 8, \n",
    "                        kernel_size=(3,3), \n",
    "                        activation='relu', \n",
    "                        input_shape=(100, 100, 3)))\n",
    "cnn_model.add(BatchNormalization())\n",
    "cnn_model.add(layers.MaxPooling2D(pool_size=(2, 2)))\n",
    "cnn_model.add(layers.Conv2D(16, (3, 3), activation='relu'))\n",
    "cnn_model.add(BatchNormalization())\n",
    "cnn_model.add(layers.MaxPooling2D((2, 2)))\n",
    "cnn_model.add(layers.Conv2D(16, (3, 3), activation='relu'))\n",
    "cnn_model.add(BatchNormalization())\n",
    "\n",
    "# Adding dense layers on top\n",
    "\n",
    "cnn_model.add(layers.Flatten())\n",
    "cnn_model.add(layers.Dense(16, activation='relu'))\n",
    "cnn_model.add(layers.Dense(1, activation='sigmoid'))\n",
    "\n",
    "# Compiling model with following parameters\n",
    "cnn_model.compile(optimizer='adam',\n",
    "                loss='binary_crossentropy', \n",
    "                metrics=['accuracy'])\n",
    "\n",
    "# Inspecting model summary\n",
    "cnn_model.summary()\n",
    "\n",
    "# Fit and train the model \n",
    "cnn_model.fit(train_images, train_labels, epochs=10, batch_size=128)\n",
    "\n",
    "# Evaluate the model \n",
    "test_loss, test_acc = cnn_model.evaluate(test_images, test_labels)\n",
    "print(\"Test Accuracy:\", test_acc)\n",
    "\n",
    "train_loss, train_acc = cnn_model.evaluate(train_images, train_labels)\n",
    "print(\"Train Accuracy:\", train_acc)"
   ]
  },
  {
   "cell_type": "code",
   "execution_count": null,
   "id": "62ca51a0-76b9-4683-b17a-5b188ee257cf",
   "metadata": {},
   "outputs": [],
   "source": []
  },
  {
   "cell_type": "code",
   "execution_count": null,
   "id": "1bcaf17a-fc5a-4f1b-a14c-8fa26eb7cbe8",
   "metadata": {},
   "outputs": [],
   "source": []
  },
  {
   "cell_type": "code",
   "execution_count": null,
   "id": "0e3880d8-0aee-45c7-bddb-53c3b844d2c7",
   "metadata": {},
   "outputs": [],
   "source": []
  },
  {
   "cell_type": "code",
   "execution_count": null,
   "id": "ee286105-8498-4267-b8cb-ee431b4765ed",
   "metadata": {},
   "outputs": [],
   "source": []
  },
  {
   "cell_type": "code",
   "execution_count": null,
   "id": "0c1b3bfe-605e-4610-9cba-8c372bcdaea0",
   "metadata": {},
   "outputs": [],
   "source": []
  },
  {
   "cell_type": "code",
   "execution_count": null,
   "id": "add4a7ce-025f-44cc-bc11-fe9c4921b771",
   "metadata": {},
   "outputs": [],
   "source": []
  },
  {
   "cell_type": "markdown",
   "id": "d9b35100-b4d4-4e88-90f3-e25835516ca4",
   "metadata": {},
   "source": [
    "## Baseline Model "
   ]
  },
  {
   "cell_type": "code",
   "execution_count": 12,
   "id": "3872ffee-cf53-4767-b2cf-797033d79493",
   "metadata": {},
   "outputs": [
    {
     "name": "stdout",
     "output_type": "stream",
     "text": [
      "Model: \"sequential\"\n",
      "_________________________________________________________________\n",
      " Layer (type)                Output Shape              Param #   \n",
      "=================================================================\n",
      " dense (Dense)               (None, 12)                2359308   \n",
      "                                                                 \n",
      " dense_1 (Dense)             (None, 8)                 104       \n",
      "                                                                 \n",
      " dense_2 (Dense)             (None, 1)                 9         \n",
      "                                                                 \n",
      "=================================================================\n",
      "Total params: 2,359,421\n",
      "Trainable params: 2,359,421\n",
      "Non-trainable params: 0\n",
      "_________________________________________________________________\n"
     ]
    }
   ],
   "source": [
    "# Baseline model\n",
    "\n",
    "model_1 = Sequential()\n",
    "model_1.add(Dense(12, activation='relu', input_shape=(196608,)))\n",
    "model_1.add(Dense(8, activation='relu'))\n",
    "model_1.add(Dense(1, activation='sigmoid'))\n",
    "\n",
    "# Compiling model with following parameters\n",
    "model_1.compile(optimizer='adam', loss='binary_crossentropy', metrics=['accuracy'])\n",
    "\n",
    "# Inspecting model summary\n",
    "\n",
    "model_1.summary()\n",
    "\n"
   ]
  },
  {
   "cell_type": "code",
   "execution_count": null,
   "id": "1b0b71ed-5eee-41d9-a30a-ed0b81cd4366",
   "metadata": {},
   "outputs": [
    {
     "name": "stdout",
     "output_type": "stream",
     "text": [
      "Epoch 1/10\n",
      "163/163 [==============================] - 30s 169ms/step - loss: 0.6825 - accuracy: 0.7398 - val_loss: 0.7026 - val_accuracy: 0.5000\n",
      "Epoch 2/10\n",
      "163/163 [==============================] - 22s 136ms/step - loss: 0.6093 - accuracy: 0.7429 - val_loss: 0.7431 - val_accuracy: 0.5000\n",
      "Epoch 3/10\n",
      "163/163 [==============================] - 14s 86ms/step - loss: 0.5788 - accuracy: 0.7429 - val_loss: 0.7895 - val_accuracy: 0.5000\n",
      "Epoch 4/10\n",
      "163/163 [==============================] - 17s 102ms/step - loss: 0.5714 - accuracy: 0.7429 - val_loss: 0.8126 - val_accuracy: 0.5000\n",
      "Epoch 5/10\n",
      "163/163 [==============================] - 13s 79ms/step - loss: 0.5702 - accuracy: 0.7429 - val_loss: 0.8231 - val_accuracy: 0.5000\n",
      "Epoch 6/10\n",
      "163/163 [==============================] - 15s 94ms/step - loss: 0.5701 - accuracy: 0.7429 - val_loss: 0.8256 - val_accuracy: 0.5000\n",
      "Epoch 7/10\n",
      "163/163 [==============================] - 11s 66ms/step - loss: 0.5700 - accuracy: 0.7429 - val_loss: 0.8270 - val_accuracy: 0.5000\n",
      "Epoch 8/10\n",
      "163/163 [==============================] - 12s 74ms/step - loss: 0.5701 - accuracy: 0.7429 - val_loss: 0.8271 - val_accuracy: 0.5000\n",
      "Epoch 9/10\n",
      "163/163 [==============================] - 14s 87ms/step - loss: 0.5701 - accuracy: 0.7429 - val_loss: 0.8246 - val_accuracy: 0.5000\n",
      "Epoch 10/10\n",
      " 84/163 [==============>...............] - ETA: 6s - loss: 0.5729 - accuracy: 0.7403"
     ]
    }
   ],
   "source": [
    "# Fitting the model to the training data\n",
    "results_1 = model_1.fit(train_img, train_y, \n",
    "                        epochs=10, \n",
    "                        batch_size=32, \n",
    "                        validation_data=(val_img, val_y))"
   ]
  },
  {
   "cell_type": "code",
   "execution_count": 14,
   "id": "f4ae8707-692b-4f1a-a789-9c757bf967ae",
   "metadata": {},
   "outputs": [
    {
     "name": "stdout",
     "output_type": "stream",
     "text": [
      "163/163 [==============================] - 14s 82ms/step - loss: 0.5700 - accuracy: 0.7429\n",
      "20/20 [==============================] - 3s 108ms/step - loss: 0.6930 - accuracy: 0.6250\n"
     ]
    }
   ],
   "source": [
    "# Training Results \n",
    "results_train = model_1.evaluate(train_img, train_y)\n",
    "\n",
    "# Test Results \n",
    "\n",
    "results_test = model_1.evaluate(test_img, test_y)"
   ]
  },
  {
   "cell_type": "code",
   "execution_count": 15,
   "id": "6b9899d8-202f-4fd9-b789-fe45bf9e839b",
   "metadata": {},
   "outputs": [
    {
     "name": "stdout",
     "output_type": "stream",
     "text": [
      "Train Results: [0.5700258016586304, 0.7429064512252808]\n",
      "Test Results: [0.6930213570594788, 0.625]\n"
     ]
    }
   ],
   "source": [
    "print('Train Results:', results_train)\n",
    "print('Test Results:', results_test)"
   ]
  },
  {
   "cell_type": "code",
   "execution_count": 16,
   "id": "858c59b6-335a-415f-9737-5054558fd884",
   "metadata": {},
   "outputs": [
    {
     "data": {
      "image/png": "[encoded data removed]",
      "text/plain": [
       "<Figure size 640x480 with 1 Axes>"
      ]
     },
     "metadata": {},
     "output_type": "display_data"
    },
    {
     "data": {
      "image/png": "[encoded data removed]",
      "text/plain": [
       "<Figure size 640x480 with 1 Axes>"
      ]
     },
     "metadata": {},
     "output_type": "display_data"
    }
   ],
   "source": [
    "# Creating function to plot loss and accuracy curves\n",
    "\n",
    "def visualize_training_results(results):\n",
    "    history = results.history\n",
    "    plt.figure()\n",
    "    plt.plot(history['val_loss'])\n",
    "    plt.plot(history['loss'])\n",
    "    plt.legend(['val_loss', 'loss'])\n",
    "    plt.title('Loss')\n",
    "    plt.xlabel('Epochs')\n",
    "    plt.ylabel('Loss')\n",
    "    plt.show()\n",
    "    \n",
    "    plt.figure()\n",
    "    plt.plot(history['val_accuracy'])\n",
    "    plt.plot(history['accuracy'])\n",
    "    plt.legend(['val_accuracy', 'accuracy'])\n",
    "    plt.title('Accuracy')\n",
    "    plt.xlabel('Epochs')\n",
    "    plt.ylabel('Accuracy')\n",
    "    plt.show()\n",
    "\n",
    "# Viewing results \n",
    "visualize_training_results(results_1)"
   ]
  },
  {
   "cell_type": "markdown",
   "id": "141dae37-469e-4ffe-ac16-83f8edba2b7c",
   "metadata": {},
   "source": [
    "## Example Model "
   ]
  },
  {
   "cell_type": "code",
   "execution_count": null,
   "id": "625913b5-444f-460a-8e0d-8de9018b824e",
   "metadata": {},
   "outputs": [],
   "source": [
    "import matplotlib.pyplot as plt\n",
    "\n",
    "# Define the model architecture and compile it\n",
    "cnn_model = models.Sequential()\n",
    "cnn_model.add(layers.Conv2D(filters=16, kernel_size=(3,3), activation='relu', input_shape=(100, 100, 3)))\n",
    "cnn_model.add(layers.BatchNormalization())\n",
    "cnn_model.add(layers.MaxPooling2D(pool_size=(2, 2)))\n",
    "cnn_model.add(layers.Conv2D(32, (3, 3), activation='relu'))\n",
    "cnn_model.add(layers.BatchNormalization())\n",
    "cnn_model.add(layers.MaxPooling2D((2, 2)))\n",
    "cnn_model.add(layers.Conv2D(32, (3, 3), activation='relu'))\n",
    "cnn_model.add(layers.BatchNormalization())\n",
    "cnn_model.add(layers.Flatten())\n",
    "cnn_model.add(layers.Dense(16, activation='relu'))\n",
    "cnn_model.add(layers.Dense(1, activation='sigmoid'))\n",
    "\n",
    "# Compile the model\n",
    "optimizer = keras.optimizers.Adam(learning_rate=0.0001)\n",
    "cnn_model.compile(optimizer=optimizer, loss='binary_crossentropy', metrics=['accuracy'])\n",
    "\n",
    "# Train the model and monitor the training and validation curves\n",
    "history = cnn_model.fit(train_images, train_labels, epochs=10, batch_size=128, validation_data=(val_images, val_labels))\n",
    "\n",
    "# Plot training and validation curves\n",
    "plt.plot(history.history['accuracy'], label='Training Accuracy')\n",
    "plt.plot(history.history['val_accuracy'], label='Validation Accuracy')\n",
    "plt.title('Training and Validation Accuracy')\n",
    "plt.xlabel('Epoch')\n",
    "plt.ylabel('Accuracy')\n",
    "plt.legend()\n",
    "plt.show()\n",
    "\n",
    "plt.plot(history.history['loss'], label='Training Loss')\n",
    "plt.plot(history.history['val_loss'], label='Validation Loss')\n",
    "plt.title('Training and Validation Loss')\n",
    "plt.xlabel('Epoch')\n",
    "plt.ylabel('Loss')\n",
    "plt.legend()\n",
    "plt.show()\n",
    "\n",
    "# Evaluate the model on the test set\n",
    "test_loss, test_acc = cnn_model.evaluate(test_images, test_labels)\n",
    "print(\"Test Accuracy:\", test_acc)\n",
    "print(\"Test Loss:\", test_loss)\n"
   ]
  },
  {
   "cell_type": "code",
   "execution_count": null,
   "id": "93d7ce34-e05f-4fc1-8406-f73ab8216f5b",
   "metadata": {},
   "outputs": [],
   "source": []
  },
  {
   "cell_type": "code",
   "execution_count": null,
   "id": "2fd625e4-a7b0-4dda-bf80-8d1ad8e465fe",
   "metadata": {},
   "outputs": [],
   "source": []
  },
  {
   "cell_type": "code",
   "execution_count": null,
   "id": "4736cf10-517a-41ae-9fd4-8228fce83581",
   "metadata": {},
   "outputs": [],
   "source": []
  },
  {
   "cell_type": "code",
   "execution_count": null,
   "id": "2cfc1b02-cb8d-4f7c-b398-724dc92998fd",
   "metadata": {},
   "outputs": [],
   "source": []
  },
  {
   "cell_type": "code",
   "execution_count": null,
   "id": "91989444-49cd-4e6a-9e64-4bf5e6a43b2a",
   "metadata": {},
   "outputs": [],
   "source": []
  },
  {
   "cell_type": "code",
   "execution_count": null,
   "id": "40341fe6-8d9e-4b27-aaa0-f2af1d4b8f77",
   "metadata": {},
   "outputs": [],
   "source": []
  }
 ],
 "metadata": {
  "kernelspec": {
   "display_name": "Python (spark-env)",
   "language": "python",
   "name": "spark-env"
  },
  "language_info": {
   "codemirror_mode": {
    "name": "ipython",
    "version": 3
   },
   "file_extension": ".py",
   "mimetype": "text/x-python",
   "name": "python",
   "nbconvert_exporter": "python",
   "pygments_lexer": "ipython3",
   "version": "3.8.18"
  }
 },
 "nbformat": 4,
 "nbformat_minor": 5
}
