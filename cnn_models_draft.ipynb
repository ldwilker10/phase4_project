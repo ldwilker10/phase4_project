{
 "cells": [
  {
   "cell_type": "code",
   "execution_count": 1,
   "id": "95b9afef-2545-4a3d-96d5-422521c7fc45",
   "metadata": {},
   "outputs": [],
   "source": [
    "#importing necessary packages\n",
    "\n",
    "from tensorflow.keras.utils import array_to_img, img_to_array, load_img\n",
    "\n",
    "from sklearn.utils import class_weight , compute_class_weight\n",
    "\n",
    "\n",
    "import pandas as pd\n",
    "import numpy as np\n",
    "import matplotlib.pyplot as plt\n",
    "import matplotlib.image as mpimg\n",
    "%matplotlib inline\n",
    "import tensorflow as tf\n",
    "from keras import datasets, layers, models\n",
    "from keras.preprocessing.image import ImageDataGenerator\n",
    "from keras.models import Sequential\n",
    "from keras.layers import Dense, Conv2D , MaxPool2D , Flatten , Dropout , BatchNormalization, Activation\n",
    "from keras.models import Sequential\n",
    "from keras.optimizers import Adam , SGD, RMSprop\n",
    "from keras.utils import array_to_img, img_to_array, load_img\n",
    "from keras.regularizers import l1 , l2 \n",
    "from keras.wrappers import scikit_learn\n",
    "from keras.callbacks import EarlyStopping\n",
    "import os\n",
    "os.environ['KMP_DUPLICATE_LIB_OK']='True' # This prevents kernel shut down due to xgboost conflict\n",
    "os.environ['TF_CPP_MIN_LOG_LEVEL'] = '2' # This line prevents tf's comments about the optimizing your machine"
   ]
  },
  {
   "cell_type": "markdown",
   "id": "bee30e59-595b-4b92-b3eb-f34045eb5b8d",
   "metadata": {},
   "source": [
    "# Directory path\n",
    "train_dir = 'chest_xray/train/'\n",
    "test_dir = 'chest_xray/test/'\n",
    "val_dir = 'chest_xray/val/'\n",
    "\n",
    "# All images will be rescaled by 1./255\n",
    "train_datagen = ImageDataGenerator(rescale=1./255)\n",
    "val_datagen = ImageDataGenerator(rescale=1./255)\n",
    "test_datagen = ImageDataGenerator(rescale=1./255)\n",
    "\n",
    "\n",
    "\n",
    "# Get all the data in the directory chest_xray/train (5216 images) and reshape them\n",
    "train_generator = train_datagen.flow_from_directory(\n",
    "        train_dir,\n",
    "        target_size = (200, 200),\n",
    "        batch_size=5216, class_mode='binary')\n",
    "\n",
    "# Get all the data in the directory chest_xray/test (624 images) , and reshape them\n",
    "test_generator = test_datagen.flow_from_directory(\n",
    "        test_dir,\n",
    "        target_size = (200, 200),\n",
    "        batch_size=624, class_mode='binary')\n",
    "\n",
    "\n",
    "# Get all the data in the directory chest_xray/val (16 images), and reshape them\n",
    "val_generator = val_datagen.flow_from_directory(\n",
    "        val_dir,\n",
    "        target_size = (200, 200),\n",
    "        batch_size=16, class_mode='binary')\n"
   ]
  },
  {
   "cell_type": "code",
   "execution_count": null,
   "id": "fd8f80e6-a5eb-4613-abb4-f1cbc1e589e2",
   "metadata": {},
   "outputs": [],
   "source": [
    "# may try data augmentation if needed \n",
    "\n",
    "# Data Augmentation will be performed only on the training set\n",
    "# All image sets will be rescaled by 1./255\n",
    "#train_datagen = ImageDataGenerator(rescale=1./255, \n",
    "#                                   rotation_range=20, \n",
    "#                                   width_shift_range=0.2, \n",
    "#                                   height_shift_range=0.2, \n",
    "#                                   shear_range=0.2, \n",
    "#                                   zoom_range=0.2, \n",
    "#                                   horizontal_flip=True)\n",
    "#val_datagen = ImageDataGenerator(rescale=1./255)\n",
    "#test_datagen = ImageDataGenerator(rescale=1./255)"
   ]
  },
  {
   "cell_type": "code",
   "execution_count": 31,
   "id": "74e5476c-bb33-48bb-8e83-217aabaee649",
   "metadata": {},
   "outputs": [
    {
     "name": "stdout",
     "output_type": "stream",
     "text": [
      "Found 5216 images belonging to 2 classes.\n",
      "Found 624 images belonging to 2 classes.\n",
      "Found 16 images belonging to 2 classes.\n"
     ]
    }
   ],
   "source": [
    "# Directory path\n",
    "train_dir = 'chest_xray/train/'\n",
    "test_dir = 'chest_xray/test/'\n",
    "val_dir = 'chest_xray/val/'\n",
    "\n",
    "# All images will be rescaled by 1./255\n",
    "train_datagen = ImageDataGenerator(rescale=1./255)\n",
    "val_datagen = ImageDataGenerator(rescale=1./255)\n",
    "test_datagen = ImageDataGenerator(rescale=1./255)\n",
    "\n",
    "\n",
    "\n",
    "# Get all the data in the directory chest_xray/train (5216 images) and reshape them\n",
    "train_generator = train_datagen.flow_from_directory(\n",
    "        train_dir,\n",
    "        batch_size=5216, class_mode='binary')\n",
    "\n",
    "# Get all the data in the directory chest_xray/test (624 images) , and reshape them\n",
    "test_generator = test_datagen.flow_from_directory(\n",
    "        test_dir,\n",
    "        batch_size=624, class_mode='binary')\n",
    "\n",
    "\n",
    "# Get all the data in the directory chest_xray/val (16 images), and reshape them\n",
    "val_generator = val_datagen.flow_from_directory(\n",
    "        val_dir,\n",
    "        batch_size=16, class_mode='binary')"
   ]
  },
  {
   "cell_type": "markdown",
   "id": "37075378-36de-4bda-998c-155261680970",
   "metadata": {},
   "source": [
    "# Directory path\n",
    "train_dir = 'chest_xray/train/'\n",
    "test_dir = 'chest_xray/test/'\n",
    "val_dir = 'chest_xray/val/'\n",
    "\n",
    "# All images will be rescaled by 1./255\n",
    "train_datagen = ImageDataGenerator(rescale=1./255)\n",
    "val_datagen = ImageDataGenerator(rescale=1./255)\n",
    "test_datagen = ImageDataGenerator(rescale=1./255)\n",
    "\n",
    "\n",
    "\n",
    "# Get all the data in the directory chest_xray/train (5216 images) and reshape them\n",
    "train_generator = train_datagen.flow_from_directory(\n",
    "        train_dir,\n",
    "        batch_size=5216,\n",
    "        target_size=(100, 100), \n",
    "        class_mode='binary')\n",
    "\n",
    "# Get all the data in the directory chest_xray/test (624 images) , and reshape them\n",
    "test_generator = test_datagen.flow_from_directory(\n",
    "        test_dir,\n",
    "        batch_size=624,\n",
    "        target_size=(100, 100),\n",
    "        class_mode='binary')\n",
    "\n",
    "\n",
    "# Get all the data in the directory chest_xray/val (16 images), and reshape them\n",
    "val_generator = val_datagen.flow_from_directory(\n",
    "        val_dir,\n",
    "        batch_size=16,\n",
    "        target_size=(100, 100), \n",
    "        class_mode='binary')"
   ]
  },
  {
   "cell_type": "code",
   "execution_count": 32,
   "id": "85c83c4e-5b15-4c24-a29c-f96829fa6f20",
   "metadata": {},
   "outputs": [],
   "source": [
    "# Create the datasets\n",
    "train_images, train_labels = next(train_generator)\n",
    "test_images, test_labels = next(test_generator)\n",
    "val_images, val_labels = next(val_generator)"
   ]
  },
  {
   "cell_type": "code",
   "execution_count": 33,
   "id": "a3c670a5-f558-4e4c-af2a-081df74d2f69",
   "metadata": {},
   "outputs": [
    {
     "name": "stdout",
     "output_type": "stream",
     "text": [
      "Image Dataset Shape\n",
      "(5216, 256, 256, 3)\n",
      "(624, 256, 256, 3)\n",
      "(16, 256, 256, 3)\n",
      "Label Dataset Shape\n",
      "(5216,)\n",
      "(624,)\n",
      "(16,)\n"
     ]
    }
   ],
   "source": [
    "# Previewing shape of each dataset\n",
    "\n",
    "print(\"Image Dataset Shape\")\n",
    "print(train_images.shape)\n",
    "print(test_images.shape)\n",
    "print(val_images.shape)\n",
    "\n",
    "print(\"Label Dataset Shape\")\n",
    "print(train_labels.shape)\n",
    "print(test_labels.shape)\n",
    "print(val_labels.shape)\n",
    "\n"
   ]
  },
  {
   "cell_type": "code",
   "execution_count": 34,
   "id": "091869f1-635b-4b99-b401-86ac66f36211",
   "metadata": {},
   "outputs": [],
   "source": [
    "example_img = train_images[10]"
   ]
  },
  {
   "cell_type": "code",
   "execution_count": 35,
   "id": "f69ff46b-9d53-4760-9b24-8894fc00b950",
   "metadata": {},
   "outputs": [
    {
     "data": {
      "text/plain": [
       "<matplotlib.image.AxesImage at 0x7f820ce98460>"
      ]
     },
     "execution_count": 35,
     "metadata": {},
     "output_type": "execute_result"
    },
    {
     "data": {
      "image/png": "[encoded data removed]",
      "text/plain": [
       "<Figure size 640x480 with 1 Axes>"
      ]
     },
     "metadata": {},
     "output_type": "display_data"
    }
   ],
   "source": [
    "plt.imshow(example_img)"
   ]
  },
  {
   "cell_type": "code",
   "execution_count": 36,
   "id": "9491baac-3ab0-40b9-846c-c98f1b8c72b7",
   "metadata": {
    "scrolled": true
   },
   "outputs": [
    {
     "name": "stdout",
     "output_type": "stream",
     "text": [
      "(5216, 196608)\n",
      "(624, 196608)\n",
      "(16, 196608)\n"
     ]
    }
   ],
   "source": [
    "# Reshaping image datasets\n",
    "train_img = train_images.reshape(train_images.shape[0], -1)\n",
    "test_img = test_images.reshape(test_images.shape[0], -1)\n",
    "val_img = val_images.reshape(val_images.shape[0], -1)\n",
    "\n",
    "print(train_img.shape)\n",
    "print(test_img.shape)\n",
    "print(val_img.shape)"
   ]
  },
  {
   "cell_type": "code",
   "execution_count": 37,
   "id": "1a17fba6-c645-46d9-b05d-24c1849fc758",
   "metadata": {},
   "outputs": [
    {
     "data": {
      "text/plain": [
       "array([[0.6313726 , 0.6313726 , 0.6313726 , ..., 0.16470589, 0.16470589,\n",
       "        0.16470589],\n",
       "       [0.19215688, 0.19215688, 0.19215688, ..., 0.        , 0.        ,\n",
       "        0.        ],\n",
       "       [0.8078432 , 0.8078432 , 0.8078432 , ..., 0.10980393, 0.10980393,\n",
       "        0.10980393],\n",
       "       ...,\n",
       "       [0.16470589, 0.16470589, 0.16470589, ..., 0.15294118, 0.15294118,\n",
       "        0.15294118],\n",
       "       [0.15686275, 0.15686275, 0.15686275, ..., 0.02745098, 0.02745098,\n",
       "        0.02745098],\n",
       "       [0.07450981, 0.07450981, 0.07450981, ..., 0.        , 0.        ,\n",
       "        0.        ]], dtype=float32)"
      ]
     },
     "execution_count": 37,
     "metadata": {},
     "output_type": "execute_result"
    }
   ],
   "source": [
    "train_img[:10]"
   ]
  },
  {
   "cell_type": "code",
   "execution_count": 38,
   "id": "ab183f9b-886a-4e62-af82-0290a9d89595",
   "metadata": {},
   "outputs": [
    {
     "name": "stdout",
     "output_type": "stream",
     "text": [
      "(5216, 1)\n",
      "(624, 1)\n",
      "(16, 1)\n"
     ]
    }
   ],
   "source": [
    "# Reshaping labels\n",
    "train_y = np.reshape(train_labels, (5216,1))\n",
    "test_y = np.reshape(test_labels, (624,1))\n",
    "val_y = np.reshape(val_labels, (16,1))\n",
    "\n",
    "print(train_y.shape)\n",
    "print(test_y.shape)\n",
    "print(val_y.shape)"
   ]
  },
  {
   "cell_type": "code",
   "execution_count": 39,
   "id": "1491a6ab-6a47-41e8-8e58-0e0e02401cc8",
   "metadata": {},
   "outputs": [
    {
     "data": {
      "text/plain": [
       "array([[1.],\n",
       "       [1.],\n",
       "       [1.],\n",
       "       [1.],\n",
       "       [1.],\n",
       "       [1.],\n",
       "       [1.],\n",
       "       [1.],\n",
       "       [1.],\n",
       "       [0.]], dtype=float32)"
      ]
     },
     "execution_count": 39,
     "metadata": {},
     "output_type": "execute_result"
    }
   ],
   "source": [
    "# Viewing first 10 labels\n",
    "train_y[:10]"
   ]
  },
  {
   "cell_type": "code",
   "execution_count": 12,
   "id": "b4b79d95-10b9-4dfa-96ed-715e97e06238",
   "metadata": {
    "scrolled": true
   },
   "outputs": [
    {
     "data": {
      "text/plain": [
       "{'NORMAL': 0, 'PNEUMONIA': 1}"
      ]
     },
     "execution_count": 12,
     "metadata": {},
     "output_type": "execute_result"
    }
   ],
   "source": [
    "# Viewing class indices\n",
    "train_generator.class_indices"
   ]
  },
  {
   "cell_type": "markdown",
   "id": "171b684f-d9e8-43d7-a76a-973d094407a8",
   "metadata": {},
   "source": [
    "## Baseline CNN Model "
   ]
  },
  {
   "cell_type": "code",
   "execution_count": null,
   "id": "ba74ee56-844c-4072-bda1-4690a7d9e755",
   "metadata": {},
   "outputs": [],
   "source": [
    "# cnn baseline model\n",
    "\n",
    "cnn_model = models.Sequential()\n",
    "cnn_model.add(layers.Conv2D(filters= 16, \n",
    "                        kernel_size=(3,3), \n",
    "                        activation='relu', \n",
    "                        input_shape=(256, 256, 3)))\n",
    "cnn_model.add(layers.MaxPooling2D(pool_size=(2, 2)))\n",
    "cnn_model.add(layers.Conv2D(32, (3, 3), activation='relu'))\n",
    "cnn_model.add(layers.MaxPooling2D((2, 2)))\n",
    "cnn_model.add(layers.Conv2D(32, (3, 3), activation='relu'))\n",
    "\n",
    "# Adding dense layers on top\n",
    "\n",
    "cnn_model.add(layers.Flatten())\n",
    "cnn_model.add(layers.Dense(32, activation='relu'))\n",
    "cnn_model.add(layers.Dense(1, activation='sigmoid'))\n",
    "\n",
    "# Compiling model with following parameters\n",
    "cnn_model.compile(optimizer='adam',\n",
    "                loss='binary_crossentropy', \n",
    "                metrics=['accuracy'])\n",
    "\n",
    "# Inspecting model summary\n",
    "cnn_model.summary()\n",
    "\n",
    "# Fit and train the model \n",
    "cnn_model.fit(train_images, train_labels, epochs=10, batch_size=128)\n",
    "\n",
    "# Evaluate the model \n",
    "test_loss, test_acc = cnn_model.evaluate(test_images, test_labels)\n",
    "print(test_acc)\n"
   ]
  },
  {
   "cell_type": "code",
   "execution_count": 44,
   "id": "5cfba483-6e7f-46b8-a333-5395ac0cc5e4",
   "metadata": {},
   "outputs": [],
   "source": [
    "# cnn baseline model\n",
    "\n",
    "cnn_model = models.Sequential()\n",
    "cnn_model.add(layers.Conv2D(filters= 8, \n",
    "                        kernel_size=(3,3), \n",
    "                        activation='relu', \n",
    "                        input_shape=(256, 256, 3)))\n",
    "cnn_model.add(layers.MaxPooling2D(pool_size=(2, 2)))\n",
    "cnn_model.add(layers.Conv2D(16, (3, 3), activation='relu'))\n",
    "cnn_model.add(layers.MaxPooling2D((2, 2)))\n",
    "cnn_model.add(layers.Conv2D(16, (3, 3), activation='relu'))"
   ]
  },
  {
   "cell_type": "code",
   "execution_count": 45,
   "id": "5d66243d-4437-45bb-9704-204f36cf70bf",
   "metadata": {},
   "outputs": [
    {
     "name": "stdout",
     "output_type": "stream",
     "text": [
      "Model: \"sequential_3\"\n",
      "_________________________________________________________________\n",
      " Layer (type)                Output Shape              Param #   \n",
      "=================================================================\n",
      " conv2d_9 (Conv2D)           (None, 254, 254, 8)       224       \n",
      "                                                                 \n",
      " max_pooling2d_6 (MaxPooling  (None, 127, 127, 8)      0         \n",
      " 2D)                                                             \n",
      "                                                                 \n",
      " conv2d_10 (Conv2D)          (None, 125, 125, 16)      1168      \n",
      "                                                                 \n",
      " max_pooling2d_7 (MaxPooling  (None, 62, 62, 16)       0         \n",
      " 2D)                                                             \n",
      "                                                                 \n",
      " conv2d_11 (Conv2D)          (None, 60, 60, 16)        2320      \n",
      "                                                                 \n",
      "=================================================================\n",
      "Total params: 3,712\n",
      "Trainable params: 3,712\n",
      "Non-trainable params: 0\n",
      "_________________________________________________________________\n"
     ]
    }
   ],
   "source": [
    "# Inspecting model summary\n",
    "\n",
    "cnn_model.summary()\n"
   ]
  },
  {
   "cell_type": "code",
   "execution_count": 46,
   "id": "a4f70d54-7fea-4774-a4c6-fb254a88e89d",
   "metadata": {},
   "outputs": [],
   "source": [
    "# Adding dense layers on top\n",
    "\n",
    "cnn_model.add(layers.Flatten())\n",
    "cnn_model.add(layers.Dense(16, activation='relu'))\n",
    "cnn_model.add(layers.Dense(1, activation='sigmoid'))"
   ]
  },
  {
   "cell_type": "code",
   "execution_count": 47,
   "id": "38d89daa-bd0e-466e-8ae0-5f0392b2b9fd",
   "metadata": {},
   "outputs": [
    {
     "name": "stdout",
     "output_type": "stream",
     "text": [
      "Model: \"sequential_3\"\n",
      "_________________________________________________________________\n",
      " Layer (type)                Output Shape              Param #   \n",
      "=================================================================\n",
      " conv2d_9 (Conv2D)           (None, 254, 254, 8)       224       \n",
      "                                                                 \n",
      " max_pooling2d_6 (MaxPooling  (None, 127, 127, 8)      0         \n",
      " 2D)                                                             \n",
      "                                                                 \n",
      " conv2d_10 (Conv2D)          (None, 125, 125, 16)      1168      \n",
      "                                                                 \n",
      " max_pooling2d_7 (MaxPooling  (None, 62, 62, 16)       0         \n",
      " 2D)                                                             \n",
      "                                                                 \n",
      " conv2d_11 (Conv2D)          (None, 60, 60, 16)        2320      \n",
      "                                                                 \n",
      " flatten_3 (Flatten)         (None, 57600)             0         \n",
      "                                                                 \n",
      " dense_6 (Dense)             (None, 16)                921616    \n",
      "                                                                 \n",
      " dense_7 (Dense)             (None, 1)                 17        \n",
      "                                                                 \n",
      "=================================================================\n",
      "Total params: 925,345\n",
      "Trainable params: 925,345\n",
      "Non-trainable params: 0\n",
      "_________________________________________________________________\n"
     ]
    }
   ],
   "source": [
    "# Inspecting model summary\n",
    "\n",
    "cnn_model.summary()\n"
   ]
  },
  {
   "cell_type": "code",
   "execution_count": 48,
   "id": "2da43024-e8cf-4fbd-a4a7-1efc42a4ac13",
   "metadata": {},
   "outputs": [],
   "source": [
    "# Compiling model with following parameters\n",
    "cnn_model.compile(optimizer='adam',\n",
    "                  loss='binary_crossentropy', \n",
    "                  metrics=['accuracy'])"
   ]
  },
  {
   "cell_type": "code",
   "execution_count": 49,
   "id": "49f4dedf-a133-41db-aecc-842e30638bd6",
   "metadata": {},
   "outputs": [
    {
     "name": "stdout",
     "output_type": "stream",
     "text": [
      "Epoch 1/10\n",
      "41/41 [==============================] - 146s 3s/step - loss: 0.5007 - accuracy: 0.8067\n",
      "Epoch 2/10\n",
      "41/41 [==============================] - 126s 3s/step - loss: 0.1261 - accuracy: 0.9509\n",
      "Epoch 3/10\n",
      "41/41 [==============================] - 123s 3s/step - loss: 0.0884 - accuracy: 0.9664\n",
      "Epoch 4/10\n",
      "41/41 [==============================] - 132s 3s/step - loss: 0.0726 - accuracy: 0.9739\n",
      "Epoch 5/10\n",
      "41/41 [==============================] - 144s 4s/step - loss: 0.0547 - accuracy: 0.9818\n",
      "Epoch 6/10\n",
      "41/41 [==============================] - 151s 4s/step - loss: 0.0462 - accuracy: 0.9866\n",
      "Epoch 7/10\n",
      "41/41 [==============================] - 130s 3s/step - loss: 0.0409 - accuracy: 0.9862\n",
      "Epoch 8/10\n",
      "41/41 [==============================] - 143s 3s/step - loss: 0.0302 - accuracy: 0.9893\n",
      "Epoch 9/10\n",
      "41/41 [==============================] - 157s 4s/step - loss: 0.0287 - accuracy: 0.9893\n",
      "Epoch 10/10\n",
      "41/41 [==============================] - 155s 4s/step - loss: 0.0259 - accuracy: 0.9916\n"
     ]
    },
    {
     "data": {
      "text/plain": [
       "<keras.callbacks.History at 0x7f820c968c10>"
      ]
     },
     "execution_count": 49,
     "metadata": {},
     "output_type": "execute_result"
    }
   ],
   "source": [
    "# Fit and train the model \n",
    "cnn_model.fit(train_images, train_labels, epochs=10, batch_size= 128)"
   ]
  },
  {
   "cell_type": "code",
   "execution_count": 50,
   "id": "260f0597-e93e-40f3-a866-8db07dc4467f",
   "metadata": {},
   "outputs": [
    {
     "name": "stdout",
     "output_type": "stream",
     "text": [
      "20/20 [==============================] - 7s 263ms/step - loss: 1.5803 - accuracy: 0.7356\n",
      "0.7355769276618958\n"
     ]
    }
   ],
   "source": [
    "# Evaluate the model \n",
    "test_loss, test_acc = cnn_model.evaluate(test_images, test_labels)\n",
    "print(test_acc)"
   ]
  },
  {
   "cell_type": "code",
   "execution_count": 51,
   "id": "c1d4f76c-a863-4aac-bbf9-7275f343307a",
   "metadata": {},
   "outputs": [
    {
     "name": "stdout",
     "output_type": "stream",
     "text": [
      "163/163 [==============================] - 134s 811ms/step - loss: 0.0122 - accuracy: 0.9973\n",
      "0.9973159432411194\n"
     ]
    }
   ],
   "source": [
    "train_loss, train_acc = cnn_model.evaluate(train_images, train_labels)\n",
    "print(train_acc)"
   ]
  },
  {
   "cell_type": "markdown",
   "id": "f2017bae-dff9-448c-a2be-00232343dce7",
   "metadata": {},
   "source": [
    "Baseline CNN model:\n",
    "- Train Accuracy: 0.9973\n",
    "- Test Accuracy: 0.7356\n",
    "\n",
    "Model shows signs of overfitting. "
   ]
  },
  {
   "cell_type": "markdown",
   "id": "30db9026-fa8d-4e78-9c51-784281b5dddf",
   "metadata": {},
   "source": [
    "## CNN Model 2"
   ]
  },
  {
   "cell_type": "code",
   "execution_count": 52,
   "id": "97f40477-420f-4250-9007-be6718bdab71",
   "metadata": {},
   "outputs": [
    {
     "name": "stdout",
     "output_type": "stream",
     "text": [
      "Model: \"sequential_4\"\n",
      "_________________________________________________________________\n",
      " Layer (type)                Output Shape              Param #   \n",
      "=================================================================\n",
      " conv2d_12 (Conv2D)          (None, 254, 254, 16)      448       \n",
      "                                                                 \n",
      " batch_normalization (BatchN  (None, 254, 254, 16)     64        \n",
      " ormalization)                                                   \n",
      "                                                                 \n",
      " max_pooling2d_8 (MaxPooling  (None, 127, 127, 16)     0         \n",
      " 2D)                                                             \n",
      "                                                                 \n",
      " conv2d_13 (Conv2D)          (None, 125, 125, 32)      4640      \n",
      "                                                                 \n",
      " batch_normalization_1 (Batc  (None, 125, 125, 32)     128       \n",
      " hNormalization)                                                 \n",
      "                                                                 \n",
      " max_pooling2d_9 (MaxPooling  (None, 62, 62, 32)       0         \n",
      " 2D)                                                             \n",
      "                                                                 \n",
      " conv2d_14 (Conv2D)          (None, 60, 60, 32)        9248      \n",
      "                                                                 \n",
      " batch_normalization_2 (Batc  (None, 60, 60, 32)       128       \n",
      " hNormalization)                                                 \n",
      "                                                                 \n",
      " flatten_4 (Flatten)         (None, 115200)            0         \n",
      "                                                                 \n",
      " dense_8 (Dense)             (None, 32)                3686432   \n",
      "                                                                 \n",
      " dense_9 (Dense)             (None, 1)                 33        \n",
      "                                                                 \n",
      "=================================================================\n",
      "Total params: 3,701,121\n",
      "Trainable params: 3,700,961\n",
      "Non-trainable params: 160\n",
      "_________________________________________________________________\n",
      "Epoch 1/10\n",
      "34/41 [=======================>......] - ETA: 1:45 - loss: 0.3801 - accuracy: 0.9352"
     ]
    },
    {
     "ename": "KeyboardInterrupt",
     "evalue": "",
     "output_type": "error",
     "traceback": [
      "\u001b[0;31m---------------------------------------------------------------------------\u001b[0m",
      "\u001b[0;31mKeyboardInterrupt\u001b[0m                         Traceback (most recent call last)",
      "Cell \u001b[0;32mIn[52], line 32\u001b[0m\n\u001b[1;32m     29\u001b[0m cnn_model\u001b[38;5;241m.\u001b[39msummary()\n\u001b[1;32m     31\u001b[0m \u001b[38;5;66;03m# Fit and train the model \u001b[39;00m\n\u001b[0;32m---> 32\u001b[0m \u001b[43mcnn_model\u001b[49m\u001b[38;5;241;43m.\u001b[39;49m\u001b[43mfit\u001b[49m\u001b[43m(\u001b[49m\u001b[43mtrain_images\u001b[49m\u001b[43m,\u001b[49m\u001b[43m \u001b[49m\u001b[43mtrain_labels\u001b[49m\u001b[43m,\u001b[49m\u001b[43m \u001b[49m\u001b[43mepochs\u001b[49m\u001b[38;5;241;43m=\u001b[39;49m\u001b[38;5;241;43m10\u001b[39;49m\u001b[43m,\u001b[49m\u001b[43m \u001b[49m\u001b[43mbatch_size\u001b[49m\u001b[38;5;241;43m=\u001b[39;49m\u001b[38;5;241;43m128\u001b[39;49m\u001b[43m)\u001b[49m\n\u001b[1;32m     34\u001b[0m \u001b[38;5;66;03m# Evaluate the model \u001b[39;00m\n\u001b[1;32m     35\u001b[0m test_loss, test_acc \u001b[38;5;241m=\u001b[39m cnn_model\u001b[38;5;241m.\u001b[39mevaluate(test_images, test_labels)\n",
      "File \u001b[0;32m~/anaconda3/envs/spark-env/lib/python3.8/site-packages/keras/utils/traceback_utils.py:65\u001b[0m, in \u001b[0;36mfilter_traceback.<locals>.error_handler\u001b[0;34m(*args, **kwargs)\u001b[0m\n\u001b[1;32m     63\u001b[0m filtered_tb \u001b[38;5;241m=\u001b[39m \u001b[38;5;28;01mNone\u001b[39;00m\n\u001b[1;32m     64\u001b[0m \u001b[38;5;28;01mtry\u001b[39;00m:\n\u001b[0;32m---> 65\u001b[0m     \u001b[38;5;28;01mreturn\u001b[39;00m \u001b[43mfn\u001b[49m\u001b[43m(\u001b[49m\u001b[38;5;241;43m*\u001b[39;49m\u001b[43margs\u001b[49m\u001b[43m,\u001b[49m\u001b[43m \u001b[49m\u001b[38;5;241;43m*\u001b[39;49m\u001b[38;5;241;43m*\u001b[39;49m\u001b[43mkwargs\u001b[49m\u001b[43m)\u001b[49m\n\u001b[1;32m     66\u001b[0m \u001b[38;5;28;01mexcept\u001b[39;00m \u001b[38;5;167;01mException\u001b[39;00m \u001b[38;5;28;01mas\u001b[39;00m e:\n\u001b[1;32m     67\u001b[0m     filtered_tb \u001b[38;5;241m=\u001b[39m _process_traceback_frames(e\u001b[38;5;241m.\u001b[39m__traceback__)\n",
      "File \u001b[0;32m~/anaconda3/envs/spark-env/lib/python3.8/site-packages/keras/engine/training.py:1650\u001b[0m, in \u001b[0;36mModel.fit\u001b[0;34m(self, x, y, batch_size, epochs, verbose, callbacks, validation_split, validation_data, shuffle, class_weight, sample_weight, initial_epoch, steps_per_epoch, validation_steps, validation_batch_size, validation_freq, max_queue_size, workers, use_multiprocessing)\u001b[0m\n\u001b[1;32m   1642\u001b[0m \u001b[38;5;28;01mwith\u001b[39;00m tf\u001b[38;5;241m.\u001b[39mprofiler\u001b[38;5;241m.\u001b[39mexperimental\u001b[38;5;241m.\u001b[39mTrace(\n\u001b[1;32m   1643\u001b[0m     \u001b[38;5;124m\"\u001b[39m\u001b[38;5;124mtrain\u001b[39m\u001b[38;5;124m\"\u001b[39m,\n\u001b[1;32m   1644\u001b[0m     epoch_num\u001b[38;5;241m=\u001b[39mepoch,\n\u001b[0;32m   (...)\u001b[0m\n\u001b[1;32m   1647\u001b[0m     _r\u001b[38;5;241m=\u001b[39m\u001b[38;5;241m1\u001b[39m,\n\u001b[1;32m   1648\u001b[0m ):\n\u001b[1;32m   1649\u001b[0m     callbacks\u001b[38;5;241m.\u001b[39mon_train_batch_begin(step)\n\u001b[0;32m-> 1650\u001b[0m     tmp_logs \u001b[38;5;241m=\u001b[39m \u001b[38;5;28;43mself\u001b[39;49m\u001b[38;5;241;43m.\u001b[39;49m\u001b[43mtrain_function\u001b[49m\u001b[43m(\u001b[49m\u001b[43miterator\u001b[49m\u001b[43m)\u001b[49m\n\u001b[1;32m   1651\u001b[0m     \u001b[38;5;28;01mif\u001b[39;00m data_handler\u001b[38;5;241m.\u001b[39mshould_sync:\n\u001b[1;32m   1652\u001b[0m         context\u001b[38;5;241m.\u001b[39masync_wait()\n",
      "File \u001b[0;32m~/anaconda3/envs/spark-env/lib/python3.8/site-packages/tensorflow/python/util/traceback_utils.py:150\u001b[0m, in \u001b[0;36mfilter_traceback.<locals>.error_handler\u001b[0;34m(*args, **kwargs)\u001b[0m\n\u001b[1;32m    148\u001b[0m filtered_tb \u001b[38;5;241m=\u001b[39m \u001b[38;5;28;01mNone\u001b[39;00m\n\u001b[1;32m    149\u001b[0m \u001b[38;5;28;01mtry\u001b[39;00m:\n\u001b[0;32m--> 150\u001b[0m   \u001b[38;5;28;01mreturn\u001b[39;00m \u001b[43mfn\u001b[49m\u001b[43m(\u001b[49m\u001b[38;5;241;43m*\u001b[39;49m\u001b[43margs\u001b[49m\u001b[43m,\u001b[49m\u001b[43m \u001b[49m\u001b[38;5;241;43m*\u001b[39;49m\u001b[38;5;241;43m*\u001b[39;49m\u001b[43mkwargs\u001b[49m\u001b[43m)\u001b[49m\n\u001b[1;32m    151\u001b[0m \u001b[38;5;28;01mexcept\u001b[39;00m \u001b[38;5;167;01mException\u001b[39;00m \u001b[38;5;28;01mas\u001b[39;00m e:\n\u001b[1;32m    152\u001b[0m   filtered_tb \u001b[38;5;241m=\u001b[39m _process_traceback_frames(e\u001b[38;5;241m.\u001b[39m__traceback__)\n",
      "File \u001b[0;32m~/anaconda3/envs/spark-env/lib/python3.8/site-packages/tensorflow/python/eager/polymorphic_function/polymorphic_function.py:880\u001b[0m, in \u001b[0;36mFunction.__call__\u001b[0;34m(self, *args, **kwds)\u001b[0m\n\u001b[1;32m    877\u001b[0m compiler \u001b[38;5;241m=\u001b[39m \u001b[38;5;124m\"\u001b[39m\u001b[38;5;124mxla\u001b[39m\u001b[38;5;124m\"\u001b[39m \u001b[38;5;28;01mif\u001b[39;00m \u001b[38;5;28mself\u001b[39m\u001b[38;5;241m.\u001b[39m_jit_compile \u001b[38;5;28;01melse\u001b[39;00m \u001b[38;5;124m\"\u001b[39m\u001b[38;5;124mnonXla\u001b[39m\u001b[38;5;124m\"\u001b[39m\n\u001b[1;32m    879\u001b[0m \u001b[38;5;28;01mwith\u001b[39;00m OptionalXlaContext(\u001b[38;5;28mself\u001b[39m\u001b[38;5;241m.\u001b[39m_jit_compile):\n\u001b[0;32m--> 880\u001b[0m   result \u001b[38;5;241m=\u001b[39m \u001b[38;5;28;43mself\u001b[39;49m\u001b[38;5;241;43m.\u001b[39;49m\u001b[43m_call\u001b[49m\u001b[43m(\u001b[49m\u001b[38;5;241;43m*\u001b[39;49m\u001b[43margs\u001b[49m\u001b[43m,\u001b[49m\u001b[43m \u001b[49m\u001b[38;5;241;43m*\u001b[39;49m\u001b[38;5;241;43m*\u001b[39;49m\u001b[43mkwds\u001b[49m\u001b[43m)\u001b[49m\n\u001b[1;32m    882\u001b[0m new_tracing_count \u001b[38;5;241m=\u001b[39m \u001b[38;5;28mself\u001b[39m\u001b[38;5;241m.\u001b[39mexperimental_get_tracing_count()\n\u001b[1;32m    883\u001b[0m without_tracing \u001b[38;5;241m=\u001b[39m (tracing_count \u001b[38;5;241m==\u001b[39m new_tracing_count)\n",
      "File \u001b[0;32m~/anaconda3/envs/spark-env/lib/python3.8/site-packages/tensorflow/python/eager/polymorphic_function/polymorphic_function.py:912\u001b[0m, in \u001b[0;36mFunction._call\u001b[0;34m(self, *args, **kwds)\u001b[0m\n\u001b[1;32m    909\u001b[0m   \u001b[38;5;28mself\u001b[39m\u001b[38;5;241m.\u001b[39m_lock\u001b[38;5;241m.\u001b[39mrelease()\n\u001b[1;32m    910\u001b[0m   \u001b[38;5;66;03m# In this case we have created variables on the first call, so we run the\u001b[39;00m\n\u001b[1;32m    911\u001b[0m   \u001b[38;5;66;03m# defunned version which is guaranteed to never create variables.\u001b[39;00m\n\u001b[0;32m--> 912\u001b[0m   \u001b[38;5;28;01mreturn\u001b[39;00m \u001b[38;5;28;43mself\u001b[39;49m\u001b[38;5;241;43m.\u001b[39;49m\u001b[43m_no_variable_creation_fn\u001b[49m\u001b[43m(\u001b[49m\u001b[38;5;241;43m*\u001b[39;49m\u001b[43margs\u001b[49m\u001b[43m,\u001b[49m\u001b[43m \u001b[49m\u001b[38;5;241;43m*\u001b[39;49m\u001b[38;5;241;43m*\u001b[39;49m\u001b[43mkwds\u001b[49m\u001b[43m)\u001b[49m  \u001b[38;5;66;03m# pylint: disable=not-callable\u001b[39;00m\n\u001b[1;32m    913\u001b[0m \u001b[38;5;28;01melif\u001b[39;00m \u001b[38;5;28mself\u001b[39m\u001b[38;5;241m.\u001b[39m_variable_creation_fn \u001b[38;5;129;01mis\u001b[39;00m \u001b[38;5;129;01mnot\u001b[39;00m \u001b[38;5;28;01mNone\u001b[39;00m:\n\u001b[1;32m    914\u001b[0m   \u001b[38;5;66;03m# Release the lock early so that multiple threads can perform the call\u001b[39;00m\n\u001b[1;32m    915\u001b[0m   \u001b[38;5;66;03m# in parallel.\u001b[39;00m\n\u001b[1;32m    916\u001b[0m   \u001b[38;5;28mself\u001b[39m\u001b[38;5;241m.\u001b[39m_lock\u001b[38;5;241m.\u001b[39mrelease()\n",
      "File \u001b[0;32m~/anaconda3/envs/spark-env/lib/python3.8/site-packages/tensorflow/python/eager/polymorphic_function/tracing_compiler.py:134\u001b[0m, in \u001b[0;36mTracingCompiler.__call__\u001b[0;34m(self, *args, **kwargs)\u001b[0m\n\u001b[1;32m    131\u001b[0m \u001b[38;5;28;01mwith\u001b[39;00m \u001b[38;5;28mself\u001b[39m\u001b[38;5;241m.\u001b[39m_lock:\n\u001b[1;32m    132\u001b[0m   (concrete_function,\n\u001b[1;32m    133\u001b[0m    filtered_flat_args) \u001b[38;5;241m=\u001b[39m \u001b[38;5;28mself\u001b[39m\u001b[38;5;241m.\u001b[39m_maybe_define_function(args, kwargs)\n\u001b[0;32m--> 134\u001b[0m \u001b[38;5;28;01mreturn\u001b[39;00m \u001b[43mconcrete_function\u001b[49m\u001b[38;5;241;43m.\u001b[39;49m\u001b[43m_call_flat\u001b[49m\u001b[43m(\u001b[49m\n\u001b[1;32m    135\u001b[0m \u001b[43m    \u001b[49m\u001b[43mfiltered_flat_args\u001b[49m\u001b[43m,\u001b[49m\u001b[43m \u001b[49m\u001b[43mcaptured_inputs\u001b[49m\u001b[38;5;241;43m=\u001b[39;49m\u001b[43mconcrete_function\u001b[49m\u001b[38;5;241;43m.\u001b[39;49m\u001b[43mcaptured_inputs\u001b[49m\u001b[43m)\u001b[49m\n",
      "File \u001b[0;32m~/anaconda3/envs/spark-env/lib/python3.8/site-packages/tensorflow/python/eager/polymorphic_function/monomorphic_function.py:1745\u001b[0m, in \u001b[0;36mConcreteFunction._call_flat\u001b[0;34m(self, args, captured_inputs, cancellation_manager)\u001b[0m\n\u001b[1;32m   1741\u001b[0m possible_gradient_type \u001b[38;5;241m=\u001b[39m gradients_util\u001b[38;5;241m.\u001b[39mPossibleTapeGradientTypes(args)\n\u001b[1;32m   1742\u001b[0m \u001b[38;5;28;01mif\u001b[39;00m (possible_gradient_type \u001b[38;5;241m==\u001b[39m gradients_util\u001b[38;5;241m.\u001b[39mPOSSIBLE_GRADIENT_TYPES_NONE\n\u001b[1;32m   1743\u001b[0m     \u001b[38;5;129;01mand\u001b[39;00m executing_eagerly):\n\u001b[1;32m   1744\u001b[0m   \u001b[38;5;66;03m# No tape is watching; skip to running the function.\u001b[39;00m\n\u001b[0;32m-> 1745\u001b[0m   \u001b[38;5;28;01mreturn\u001b[39;00m \u001b[38;5;28mself\u001b[39m\u001b[38;5;241m.\u001b[39m_build_call_outputs(\u001b[38;5;28;43mself\u001b[39;49m\u001b[38;5;241;43m.\u001b[39;49m\u001b[43m_inference_function\u001b[49m\u001b[38;5;241;43m.\u001b[39;49m\u001b[43mcall\u001b[49m\u001b[43m(\u001b[49m\n\u001b[1;32m   1746\u001b[0m \u001b[43m      \u001b[49m\u001b[43mctx\u001b[49m\u001b[43m,\u001b[49m\u001b[43m \u001b[49m\u001b[43margs\u001b[49m\u001b[43m,\u001b[49m\u001b[43m \u001b[49m\u001b[43mcancellation_manager\u001b[49m\u001b[38;5;241;43m=\u001b[39;49m\u001b[43mcancellation_manager\u001b[49m\u001b[43m)\u001b[49m)\n\u001b[1;32m   1747\u001b[0m forward_backward \u001b[38;5;241m=\u001b[39m \u001b[38;5;28mself\u001b[39m\u001b[38;5;241m.\u001b[39m_select_forward_and_backward_functions(\n\u001b[1;32m   1748\u001b[0m     args,\n\u001b[1;32m   1749\u001b[0m     possible_gradient_type,\n\u001b[1;32m   1750\u001b[0m     executing_eagerly)\n\u001b[1;32m   1751\u001b[0m forward_function, args_with_tangents \u001b[38;5;241m=\u001b[39m forward_backward\u001b[38;5;241m.\u001b[39mforward()\n",
      "File \u001b[0;32m~/anaconda3/envs/spark-env/lib/python3.8/site-packages/tensorflow/python/eager/polymorphic_function/monomorphic_function.py:378\u001b[0m, in \u001b[0;36m_EagerDefinedFunction.call\u001b[0;34m(self, ctx, args, cancellation_manager)\u001b[0m\n\u001b[1;32m    376\u001b[0m \u001b[38;5;28;01mwith\u001b[39;00m _InterpolateFunctionError(\u001b[38;5;28mself\u001b[39m):\n\u001b[1;32m    377\u001b[0m   \u001b[38;5;28;01mif\u001b[39;00m cancellation_manager \u001b[38;5;129;01mis\u001b[39;00m \u001b[38;5;28;01mNone\u001b[39;00m:\n\u001b[0;32m--> 378\u001b[0m     outputs \u001b[38;5;241m=\u001b[39m \u001b[43mexecute\u001b[49m\u001b[38;5;241;43m.\u001b[39;49m\u001b[43mexecute\u001b[49m\u001b[43m(\u001b[49m\n\u001b[1;32m    379\u001b[0m \u001b[43m        \u001b[49m\u001b[38;5;28;43mstr\u001b[39;49m\u001b[43m(\u001b[49m\u001b[38;5;28;43mself\u001b[39;49m\u001b[38;5;241;43m.\u001b[39;49m\u001b[43msignature\u001b[49m\u001b[38;5;241;43m.\u001b[39;49m\u001b[43mname\u001b[49m\u001b[43m)\u001b[49m\u001b[43m,\u001b[49m\n\u001b[1;32m    380\u001b[0m \u001b[43m        \u001b[49m\u001b[43mnum_outputs\u001b[49m\u001b[38;5;241;43m=\u001b[39;49m\u001b[38;5;28;43mself\u001b[39;49m\u001b[38;5;241;43m.\u001b[39;49m\u001b[43m_num_outputs\u001b[49m\u001b[43m,\u001b[49m\n\u001b[1;32m    381\u001b[0m \u001b[43m        \u001b[49m\u001b[43minputs\u001b[49m\u001b[38;5;241;43m=\u001b[39;49m\u001b[43margs\u001b[49m\u001b[43m,\u001b[49m\n\u001b[1;32m    382\u001b[0m \u001b[43m        \u001b[49m\u001b[43mattrs\u001b[49m\u001b[38;5;241;43m=\u001b[39;49m\u001b[43mattrs\u001b[49m\u001b[43m,\u001b[49m\n\u001b[1;32m    383\u001b[0m \u001b[43m        \u001b[49m\u001b[43mctx\u001b[49m\u001b[38;5;241;43m=\u001b[39;49m\u001b[43mctx\u001b[49m\u001b[43m)\u001b[49m\n\u001b[1;32m    384\u001b[0m   \u001b[38;5;28;01melse\u001b[39;00m:\n\u001b[1;32m    385\u001b[0m     outputs \u001b[38;5;241m=\u001b[39m execute\u001b[38;5;241m.\u001b[39mexecute_with_cancellation(\n\u001b[1;32m    386\u001b[0m         \u001b[38;5;28mstr\u001b[39m(\u001b[38;5;28mself\u001b[39m\u001b[38;5;241m.\u001b[39msignature\u001b[38;5;241m.\u001b[39mname),\n\u001b[1;32m    387\u001b[0m         num_outputs\u001b[38;5;241m=\u001b[39m\u001b[38;5;28mself\u001b[39m\u001b[38;5;241m.\u001b[39m_num_outputs,\n\u001b[0;32m   (...)\u001b[0m\n\u001b[1;32m    390\u001b[0m         ctx\u001b[38;5;241m=\u001b[39mctx,\n\u001b[1;32m    391\u001b[0m         cancellation_manager\u001b[38;5;241m=\u001b[39mcancellation_manager)\n",
      "File \u001b[0;32m~/anaconda3/envs/spark-env/lib/python3.8/site-packages/tensorflow/python/eager/execute.py:52\u001b[0m, in \u001b[0;36mquick_execute\u001b[0;34m(op_name, num_outputs, inputs, attrs, ctx, name)\u001b[0m\n\u001b[1;32m     50\u001b[0m \u001b[38;5;28;01mtry\u001b[39;00m:\n\u001b[1;32m     51\u001b[0m   ctx\u001b[38;5;241m.\u001b[39mensure_initialized()\n\u001b[0;32m---> 52\u001b[0m   tensors \u001b[38;5;241m=\u001b[39m \u001b[43mpywrap_tfe\u001b[49m\u001b[38;5;241;43m.\u001b[39;49m\u001b[43mTFE_Py_Execute\u001b[49m\u001b[43m(\u001b[49m\u001b[43mctx\u001b[49m\u001b[38;5;241;43m.\u001b[39;49m\u001b[43m_handle\u001b[49m\u001b[43m,\u001b[49m\u001b[43m \u001b[49m\u001b[43mdevice_name\u001b[49m\u001b[43m,\u001b[49m\u001b[43m \u001b[49m\u001b[43mop_name\u001b[49m\u001b[43m,\u001b[49m\n\u001b[1;32m     53\u001b[0m \u001b[43m                                      \u001b[49m\u001b[43minputs\u001b[49m\u001b[43m,\u001b[49m\u001b[43m \u001b[49m\u001b[43mattrs\u001b[49m\u001b[43m,\u001b[49m\u001b[43m \u001b[49m\u001b[43mnum_outputs\u001b[49m\u001b[43m)\u001b[49m\n\u001b[1;32m     54\u001b[0m \u001b[38;5;28;01mexcept\u001b[39;00m core\u001b[38;5;241m.\u001b[39m_NotOkStatusException \u001b[38;5;28;01mas\u001b[39;00m e:\n\u001b[1;32m     55\u001b[0m   \u001b[38;5;28;01mif\u001b[39;00m name \u001b[38;5;129;01mis\u001b[39;00m \u001b[38;5;129;01mnot\u001b[39;00m \u001b[38;5;28;01mNone\u001b[39;00m:\n",
      "\u001b[0;31mKeyboardInterrupt\u001b[0m: "
     ]
    }
   ],
   "source": [
    "# cnn model 2\n",
    "# adding batch normlaization \n",
    "\n",
    "cnn_model = models.Sequential()\n",
    "cnn_model.add(layers.Conv2D(filters= 16, \n",
    "                        kernel_size=(3,3), \n",
    "                        activation='relu', \n",
    "                        input_shape=(256, 256, 3)))\n",
    "cnn_model.add(BatchNormalization())\n",
    "cnn_model.add(layers.MaxPooling2D(pool_size=(2, 2)))\n",
    "cnn_model.add(layers.Conv2D(32, (3, 3), activation='relu'))\n",
    "cnn_model.add(BatchNormalization())\n",
    "cnn_model.add(layers.MaxPooling2D((2, 2)))\n",
    "cnn_model.add(layers.Conv2D(32, (3, 3), activation='relu'))\n",
    "cnn_model.add(BatchNormalization())\n",
    "\n",
    "# Adding dense layers on top\n",
    "\n",
    "cnn_model.add(layers.Flatten())\n",
    "cnn_model.add(layers.Dense(32, activation='relu'))\n",
    "cnn_model.add(layers.Dense(1, activation='sigmoid'))\n",
    "\n",
    "# Compiling model with following parameters\n",
    "cnn_model.compile(optimizer='adam',\n",
    "                loss='binary_crossentropy', \n",
    "                metrics=['accuracy'])\n",
    "\n",
    "# Inspecting model summary\n",
    "cnn_model.summary()\n",
    "\n",
    "# Fit and train the model \n",
    "cnn_model.fit(train_images, train_labels, epochs=10, batch_size=128)\n",
    "\n",
    "# Evaluate the model \n",
    "test_loss, test_acc = cnn_model.evaluate(test_images, test_labels)\n",
    "print(\"Test Accuracy:\", test_acc)\n",
    "\n",
    "train_loss, train_acc = cnn_model.evaluate(train_images, train_labels)\n",
    "print(\"Train Accuracy:\", train_acc)"
   ]
  },
  {
   "cell_type": "code",
   "execution_count": null,
   "id": "e83dd788-ec1b-48aa-ad34-96466075dbe5",
   "metadata": {},
   "outputs": [],
   "source": []
  },
  {
   "cell_type": "code",
   "execution_count": null,
   "id": "0e3880d8-0aee-45c7-bddb-53c3b844d2c7",
   "metadata": {},
   "outputs": [],
   "source": []
  },
  {
   "cell_type": "code",
   "execution_count": null,
   "id": "ee286105-8498-4267-b8cb-ee431b4765ed",
   "metadata": {},
   "outputs": [],
   "source": []
  },
  {
   "cell_type": "code",
   "execution_count": null,
   "id": "0c1b3bfe-605e-4610-9cba-8c372bcdaea0",
   "metadata": {},
   "outputs": [],
   "source": []
  },
  {
   "cell_type": "code",
   "execution_count": null,
   "id": "add4a7ce-025f-44cc-bc11-fe9c4921b771",
   "metadata": {},
   "outputs": [],
   "source": []
  },
  {
   "cell_type": "markdown",
   "id": "d9b35100-b4d4-4e88-90f3-e25835516ca4",
   "metadata": {},
   "source": [
    "## Baseline Model "
   ]
  },
  {
   "cell_type": "code",
   "execution_count": 12,
   "id": "3872ffee-cf53-4767-b2cf-797033d79493",
   "metadata": {},
   "outputs": [
    {
     "name": "stdout",
     "output_type": "stream",
     "text": [
      "Model: \"sequential\"\n",
      "_________________________________________________________________\n",
      " Layer (type)                Output Shape              Param #   \n",
      "=================================================================\n",
      " dense (Dense)               (None, 12)                2359308   \n",
      "                                                                 \n",
      " dense_1 (Dense)             (None, 8)                 104       \n",
      "                                                                 \n",
      " dense_2 (Dense)             (None, 1)                 9         \n",
      "                                                                 \n",
      "=================================================================\n",
      "Total params: 2,359,421\n",
      "Trainable params: 2,359,421\n",
      "Non-trainable params: 0\n",
      "_________________________________________________________________\n"
     ]
    }
   ],
   "source": [
    "# Baseline model\n",
    "\n",
    "model_1 = Sequential()\n",
    "model_1.add(Dense(12, activation='relu', input_shape=(196608,)))\n",
    "model_1.add(Dense(8, activation='relu'))\n",
    "model_1.add(Dense(1, activation='sigmoid'))\n",
    "\n",
    "# Compiling model with following parameters\n",
    "model_1.compile(optimizer='adam', loss='binary_crossentropy', metrics=['accuracy'])\n",
    "\n",
    "# Inspecting model summary\n",
    "\n",
    "model_1.summary()\n",
    "\n"
   ]
  },
  {
   "cell_type": "code",
   "execution_count": null,
   "id": "1b0b71ed-5eee-41d9-a30a-ed0b81cd4366",
   "metadata": {},
   "outputs": [
    {
     "name": "stdout",
     "output_type": "stream",
     "text": [
      "Epoch 1/10\n",
      "163/163 [==============================] - 30s 169ms/step - loss: 0.6825 - accuracy: 0.7398 - val_loss: 0.7026 - val_accuracy: 0.5000\n",
      "Epoch 2/10\n",
      "163/163 [==============================] - 22s 136ms/step - loss: 0.6093 - accuracy: 0.7429 - val_loss: 0.7431 - val_accuracy: 0.5000\n",
      "Epoch 3/10\n",
      "163/163 [==============================] - 14s 86ms/step - loss: 0.5788 - accuracy: 0.7429 - val_loss: 0.7895 - val_accuracy: 0.5000\n",
      "Epoch 4/10\n",
      "163/163 [==============================] - 17s 102ms/step - loss: 0.5714 - accuracy: 0.7429 - val_loss: 0.8126 - val_accuracy: 0.5000\n",
      "Epoch 5/10\n",
      "163/163 [==============================] - 13s 79ms/step - loss: 0.5702 - accuracy: 0.7429 - val_loss: 0.8231 - val_accuracy: 0.5000\n",
      "Epoch 6/10\n",
      "163/163 [==============================] - 15s 94ms/step - loss: 0.5701 - accuracy: 0.7429 - val_loss: 0.8256 - val_accuracy: 0.5000\n",
      "Epoch 7/10\n",
      "163/163 [==============================] - 11s 66ms/step - loss: 0.5700 - accuracy: 0.7429 - val_loss: 0.8270 - val_accuracy: 0.5000\n",
      "Epoch 8/10\n",
      "163/163 [==============================] - 12s 74ms/step - loss: 0.5701 - accuracy: 0.7429 - val_loss: 0.8271 - val_accuracy: 0.5000\n",
      "Epoch 9/10\n",
      "163/163 [==============================] - 14s 87ms/step - loss: 0.5701 - accuracy: 0.7429 - val_loss: 0.8246 - val_accuracy: 0.5000\n",
      "Epoch 10/10\n",
      " 84/163 [==============>...............] - ETA: 6s - loss: 0.5729 - accuracy: 0.7403"
     ]
    }
   ],
   "source": [
    "# Fitting the model to the training data\n",
    "results_1 = model_1.fit(train_img, train_y, \n",
    "                        epochs=10, \n",
    "                        batch_size=32, \n",
    "                        validation_data=(val_img, val_y))"
   ]
  },
  {
   "cell_type": "code",
   "execution_count": 14,
   "id": "f4ae8707-692b-4f1a-a789-9c757bf967ae",
   "metadata": {},
   "outputs": [
    {
     "name": "stdout",
     "output_type": "stream",
     "text": [
      "163/163 [==============================] - 14s 82ms/step - loss: 0.5700 - accuracy: 0.7429\n",
      "20/20 [==============================] - 3s 108ms/step - loss: 0.6930 - accuracy: 0.6250\n"
     ]
    }
   ],
   "source": [
    "# Training Results \n",
    "results_train = model_1.evaluate(train_img, train_y)\n",
    "\n",
    "# Test Results \n",
    "\n",
    "results_test = model_1.evaluate(test_img, test_y)"
   ]
  },
  {
   "cell_type": "code",
   "execution_count": 15,
   "id": "6b9899d8-202f-4fd9-b789-fe45bf9e839b",
   "metadata": {},
   "outputs": [
    {
     "name": "stdout",
     "output_type": "stream",
     "text": [
      "Train Results: [0.5700258016586304, 0.7429064512252808]\n",
      "Test Results: [0.6930213570594788, 0.625]\n"
     ]
    }
   ],
   "source": [
    "print('Train Results:', results_train)\n",
    "print('Test Results:', results_test)"
   ]
  },
  {
   "cell_type": "code",
   "execution_count": 16,
   "id": "858c59b6-335a-415f-9737-5054558fd884",
   "metadata": {},
   "outputs": [
    {
     "data": {
      "image/png": "[encoded data removed]",
      "text/plain": [
       "<Figure size 640x480 with 1 Axes>"
      ]
     },
     "metadata": {},
     "output_type": "display_data"
    },
    {
     "data": {
      "image/png": "[encoded data removed]",
      "text/plain": [
       "<Figure size 640x480 with 1 Axes>"
      ]
     },
     "metadata": {},
     "output_type": "display_data"
    }
   ],
   "source": [
    "# Creating function to plot loss and accuracy curves\n",
    "\n",
    "def visualize_training_results(results):\n",
    "    history = results.history\n",
    "    plt.figure()\n",
    "    plt.plot(history['val_loss'])\n",
    "    plt.plot(history['loss'])\n",
    "    plt.legend(['val_loss', 'loss'])\n",
    "    plt.title('Loss')\n",
    "    plt.xlabel('Epochs')\n",
    "    plt.ylabel('Loss')\n",
    "    plt.show()\n",
    "    \n",
    "    plt.figure()\n",
    "    plt.plot(history['val_accuracy'])\n",
    "    plt.plot(history['accuracy'])\n",
    "    plt.legend(['val_accuracy', 'accuracy'])\n",
    "    plt.title('Accuracy')\n",
    "    plt.xlabel('Epochs')\n",
    "    plt.ylabel('Accuracy')\n",
    "    plt.show()\n",
    "\n",
    "# Viewing results \n",
    "visualize_training_results(results_1)"
   ]
  },
  {
   "cell_type": "markdown",
   "id": "141dae37-469e-4ffe-ac16-83f8edba2b7c",
   "metadata": {},
   "source": [
    "## Model 2"
   ]
  },
  {
   "cell_type": "code",
   "execution_count": null,
   "id": "625913b5-444f-460a-8e0d-8de9018b824e",
   "metadata": {},
   "outputs": [],
   "source": []
  },
  {
   "cell_type": "code",
   "execution_count": null,
   "id": "93d7ce34-e05f-4fc1-8406-f73ab8216f5b",
   "metadata": {},
   "outputs": [],
   "source": []
  },
  {
   "cell_type": "code",
   "execution_count": null,
   "id": "2fd625e4-a7b0-4dda-bf80-8d1ad8e465fe",
   "metadata": {},
   "outputs": [],
   "source": []
  },
  {
   "cell_type": "code",
   "execution_count": null,
   "id": "4736cf10-517a-41ae-9fd4-8228fce83581",
   "metadata": {},
   "outputs": [],
   "source": []
  },
  {
   "cell_type": "code",
   "execution_count": null,
   "id": "2cfc1b02-cb8d-4f7c-b398-724dc92998fd",
   "metadata": {},
   "outputs": [],
   "source": []
  },
  {
   "cell_type": "code",
   "execution_count": null,
   "id": "91989444-49cd-4e6a-9e64-4bf5e6a43b2a",
   "metadata": {},
   "outputs": [],
   "source": []
  },
  {
   "cell_type": "code",
   "execution_count": null,
   "id": "40341fe6-8d9e-4b27-aaa0-f2af1d4b8f77",
   "metadata": {},
   "outputs": [],
   "source": []
  }
 ],
 "metadata": {
  "kernelspec": {
   "display_name": "Python (spark-env)",
   "language": "python",
   "name": "spark-env"
  },
  "language_info": {
   "codemirror_mode": {
    "name": "ipython",
    "version": 3
   },
   "file_extension": ".py",
   "mimetype": "text/x-python",
   "name": "python",
   "nbconvert_exporter": "python",
   "pygments_lexer": "ipython3",
   "version": "3.8.18"
  }
 },
 "nbformat": 4,
 "nbformat_minor": 5
}
