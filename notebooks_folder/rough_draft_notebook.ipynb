{
 "cells": [
  {
   "cell_type": "code",
   "execution_count": 1,
   "metadata": {},
   "outputs": [],
   "source": [
    "#import libraries\n",
    "\n",
    "\n",
    "import pandas as pd\n",
    "import numpy as np\n",
    "import os\n",
    "import matplotlib.pyplot as plt\n",
    "import random\n",
    "import tensorflow as tf\n",
    "import tensorflow.keras as keras\n",
    "\n",
    "from keras import models \n",
    "from keras import layers\n",
    "from keras import optimizers \n",
    "\n",
    "from keras.preprocessing import image\n",
    "from tensorflow.keras.preprocessing.image import ImageDataGenerator\n",
    "from sklearn.utils.class_weight import compute_class_weight\n",
    "from keras.models import Sequential\n",
    "from keras.layers import Dense\n",
    "from keras.datasets import mnist\n",
    "from tensorflow.keras.losses import SparseCategoricalCrossentropy\n",
    "\n",
    "from sklearn.model_selection import train_test_split\n",
    "from sklearn.preprocessing import LabelBinarizer\n",
    "\n",
    "\n",
    "import warnings\n",
    "warnings.filterwarnings(action='ignore', category=FutureWarning)\n",
    "\n",
    "import warnings\n",
    "warnings.filterwarnings(\"ignore\", message=\"`np.object`\")\n"
   ]
  },
  {
   "cell_type": "markdown",
   "metadata": {},
   "source": [
    "## EDA"
   ]
  },
  {
   "cell_type": "code",
   "execution_count": 2,
   "metadata": {},
   "outputs": [],
   "source": [
    "# Don't for get to check distribution, check for duplicates, nans\n",
    "# get statistics if needed/useful "
   ]
  },
  {
   "cell_type": "code",
   "execution_count": 3,
   "metadata": {},
   "outputs": [],
   "source": [
    "# Don't for get to check distribution, check for duplicates, nans\n",
    "# get statistics if needed/useful \n",
    "\n",
    "\n",
    "# Define paths\n",
    "train_dir = 'chest_xray/train/'\n",
    "val_dir = 'chest_xray/val/'\n",
    "test_dir = 'chest_xray/test/'"
   ]
  },
  {
   "cell_type": "code",
   "execution_count": 4,
   "metadata": {},
   "outputs": [
    {
     "name": "stdout",
     "output_type": "stream",
     "text": [
      "Train Data:\n",
      "Normal Images: 1341\n",
      "Pneumonia Images: 3875\n",
      "\n",
      "Validation Data:\n",
      "Normal Images: 8\n",
      "Pneumonia Images: 8\n",
      "\n",
      "Test Data:\n",
      "Normal Images: 234\n",
      "Pneumonia Images: 390\n"
     ]
    }
   ],
   "source": [
    "# Getting counts for the train, test and validation groups\n",
    "\n",
    "train_normal_count = len(os.listdir(os.path.join(train_dir, 'NORMAL')))\n",
    "train_pneumonia_count = len(os.listdir(os.path.join(train_dir, 'PNEUMONIA')))\n",
    "val_normal_count = len(os.listdir(os.path.join(val_dir, 'NORMAL')))\n",
    "val_pneumonia_count = len(os.listdir(os.path.join(val_dir, 'PNEUMONIA')))\n",
    "test_normal_count = len(os.listdir(os.path.join(test_dir, 'NORMAL')))\n",
    "test_pneumonia_count = len(os.listdir(os.path.join(test_dir, 'PNEUMONIA')))\n",
    "\n",
    "print(\"Train Data:\")\n",
    "print(f\"Normal Images: {train_normal_count}\")\n",
    "print(f\"Pneumonia Images: {train_pneumonia_count}\")\n",
    "\n",
    "print(\"\\nValidation Data:\")\n",
    "print(f\"Normal Images: {val_normal_count}\")\n",
    "print(f\"Pneumonia Images: {val_pneumonia_count}\")\n",
    "\n",
    "print(\"\\nTest Data:\")\n",
    "print(f\"Normal Images: {test_normal_count}\")\n",
    "print(f\"Pneumonia Images: {test_pneumonia_count}\")"
   ]
  },
  {
   "cell_type": "code",
   "execution_count": 5,
   "metadata": {},
   "outputs": [
    {
     "data": {
      "image/png": "[encoded data removed]",
      "text/plain": [
       "<Figure size 432x288 with 1 Axes>"
      ]
     },
     "metadata": {
      "needs_background": "light"
     },
     "output_type": "display_data"
    },
    {
     "data": {
      "image/png": "[encoded data removed]",
      "text/plain": [
       "<Figure size 432x288 with 1 Axes>"
      ]
     },
     "metadata": {
      "needs_background": "light"
     },
     "output_type": "display_data"
    },
    {
     "data": {
      "image/png": "[encoded data removed]",
      "text/plain": [
       "<Figure size 432x288 with 1 Axes>"
      ]
     },
     "metadata": {
      "needs_background": "light"
     },
     "output_type": "display_data"
    }
   ],
   "source": [
    "# Function to plot class distribution\n",
    "def plot_class_distribution(normal_count, pneumonia_count, set_name):\n",
    "    plt.bar(['Normal', 'Pneumonia'], [normal_count, pneumonia_count])\n",
    "    plt.xlabel('Class')\n",
    "    plt.ylabel('Number of Images')\n",
    "    plt.title(f'Class Distribution in {set_name} Set')\n",
    "    plt.show()\n",
    "\n",
    "# Plot class distribution for each set\n",
    "plot_class_distribution(train_normal_count, train_pneumonia_count, 'Train')\n",
    "plot_class_distribution(val_normal_count, val_pneumonia_count, 'Validation')\n",
    "plot_class_distribution(test_normal_count, test_pneumonia_count, 'Test')"
   ]
  },
  {
   "cell_type": "markdown",
   "metadata": {},
   "source": [
    "Looking at the image counts and distributions we can see that in the training group, the pneumonia group has a greater size than the normal group. With the validation set, we also see that the sample size for each group is small with only 8 samples per group. "
   ]
  },
  {
   "cell_type": "markdown",
   "metadata": {},
   "source": [
    "## Designing the Model "
   ]
  },
  {
   "cell_type": "code",
   "execution_count": 6,
   "metadata": {},
   "outputs": [
    {
     "name": "stdout",
     "output_type": "stream",
     "text": [
      "Found 5216 images belonging to 2 classes.\n",
      "Found 16 images belonging to 2 classes.\n",
      "Found 624 images belonging to 2 classes.\n"
     ]
    }
   ],
   "source": [
    "# Preprocess the images into tensors\n",
    "# Rescale the data by 1/.255 and use binary_crossentropy loss\n",
    "\n",
    "from keras.preprocessing.image import ImageDataGenerator\n",
    "\n",
    "# All images will be rescaled by 1./255\n",
    "train_datagen = ImageDataGenerator(rescale=1./255)\n",
    "val_datagen = ImageDataGenerator(rescale=1./255)\n",
    "test_datagen = ImageDataGenerator(rescale=1./255)\n",
    "\n",
    "train_generator = train_datagen.flow_from_directory(\n",
    "        # This is the target directory\n",
    "        train_dir,\n",
    "        # All images will be resized to 150x150\n",
    "        target_size=(150, 150),\n",
    "        batch_size=5216,\n",
    "        # Since we use binary_crossentropy loss, we need binary labels\n",
    "        class_mode='binary')\n",
    "\n",
    "val_generator = val_datagen.flow_from_directory(val_dir,\n",
    "                                                        target_size=(150, 150),\n",
    "                                                        batch_size=16,\n",
    "                                                        class_mode='binary')\n",
    "\n",
    "test_generator = test_datagen.flow_from_directory(test_dir,\n",
    "                                                        target_size=(150, 150),\n",
    "                                                        batch_size=624,\n",
    "                                                        class_mode='binary')"
   ]
  },
  {
   "cell_type": "code",
   "execution_count": 6,
   "metadata": {},
   "outputs": [
    {
     "name": "stdout",
     "output_type": "stream",
     "text": [
      "Found 5216 images belonging to 2 classes.\n",
      "Found 16 images belonging to 2 classes.\n",
      "Found 624 images belonging to 2 classes.\n"
     ]
    }
   ],
   "source": [
    "# Preprocess the images into tensors\n",
    "# Rescale the data by 1/.255 and use binary_crossentropy loss\n",
    "\n",
    "from keras.preprocessing.image import ImageDataGenerator\n",
    "\n",
    "# All images will be rescaled by 1./255\n",
    "train_datagen = ImageDataGenerator(rescale=1./255)\n",
    "val_datagen = ImageDataGenerator(rescale=1./255)\n",
    "test_datagen = ImageDataGenerator(rescale=1./255)\n",
    "\n",
    "train_generator = train_datagen.flow_from_directory(\n",
    "        # This is the target directory\n",
    "        train_dir,\n",
    "        # All images will be resized to 150x150\n",
    "        target_size=(150, 150),\n",
    "        batch_size=5216,\n",
    "        # Since we use binary_crossentropy loss, we need binary labels\n",
    "        class_mode='binary')\n",
    "\n",
    "val_generator = val_datagen.flow_from_directory(val_dir,\n",
    "                                                        target_size=(150, 150),\n",
    "                                                        batch_size=16,\n",
    "                                                        class_mode='binary')\n",
    "\n",
    "test_generator = test_datagen.flow_from_directory(test_dir,\n",
    "                                                        target_size=(150, 150),\n",
    "                                                        batch_size=624,\n",
    "                                                        class_mode='binary')"
   ]
  },
  {
   "cell_type": "code",
   "execution_count": 7,
   "metadata": {},
   "outputs": [],
   "source": [
    "# create the data sets\n",
    "train_images, train_labels = next(train_generator)\n",
    "test_images, test_labels = next(test_generator)\n",
    "val_images, val_labels = next(val_generator)"
   ]
  },
  {
   "cell_type": "code",
   "execution_count": 8,
   "metadata": {},
   "outputs": [
    {
     "data": {
      "text/plain": [
       "<matplotlib.image.AxesImage at 0x7f823eeb6e50>"
      ]
     },
     "metadata": {},
     "output_type": "display_data"
    },
    {
     "name": "stdout",
     "output_type": "stream",
     "text": [
      "Label: 1.0\n"
     ]
    },
    {
     "data": {
      "image/png": "[encoded data removed]",
      "text/plain": [
       "<Figure size 432x288 with 1 Axes>"
      ]
     },
     "metadata": {
      "needs_background": "light"
     },
     "output_type": "display_data"
    }
   ],
   "source": [
    "sample_image = train_images[1]\n",
    "sample_label = train_labels[1]\n",
    "display(plt.imshow(sample_image))\n",
    "print('Label: {}'.format(sample_label))"
   ]
  },
  {
   "cell_type": "code",
   "execution_count": 9,
   "metadata": {},
   "outputs": [
    {
     "name": "stdout",
     "output_type": "stream",
     "text": [
      "{0.0: 1341, 1.0: 3875}\n"
     ]
    }
   ],
   "source": [
    "# Get value counts\n",
    "unique_elements, counts = np.unique(train_labels, return_counts=True)\n",
    "\n",
    "# Combine the unique elements and their counts into a dictionary\n",
    "value_counts_dict = dict(zip(unique_elements, counts))\n",
    "\n",
    "# Print the result\n",
    "print(value_counts_dict)"
   ]
  },
  {
   "cell_type": "code",
   "execution_count": 10,
   "metadata": {},
   "outputs": [
    {
     "name": "stdout",
     "output_type": "stream",
     "text": [
      "Number of training samples: 5216\n",
      "Number of testing samples: 624\n",
      "Number of validation samples: 16\n",
      "train_images shape: (5216, 150, 150, 3)\n",
      "train_labels shape: (5216,)\n",
      "test_images shape: (624, 150, 150, 3)\n",
      "test_labels shape: (624,)\n",
      "val_images shape: (16, 150, 150, 3)\n",
      "val_labels shape: (16,)\n"
     ]
    }
   ],
   "source": [
    "# Exploring dataset again\n",
    "m_train = train_images.shape[0]\n",
    "num_px = train_images.shape[1]\n",
    "m_test = test_images.shape[0]\n",
    "m_val = val_images.shape[0]\n",
    "\n",
    "print (\"Number of training samples: \" + str(m_train))\n",
    "print (\"Number of testing samples: \" + str(m_test))\n",
    "print (\"Number of validation samples: \" + str(m_val))\n",
    "print (\"train_images shape: \" + str(train_images.shape))\n",
    "print (\"train_labels shape: \" + str(train_labels.shape))\n",
    "print (\"test_images shape: \" + str(test_images.shape))\n",
    "print (\"test_labels shape: \" + str(test_labels.shape))\n",
    "print (\"val_images shape: \" + str(val_images.shape))\n",
    "print (\"val_labels shape: \" + str(val_labels.shape))"
   ]
  },
  {
   "cell_type": "code",
   "execution_count": 11,
   "metadata": {},
   "outputs": [
    {
     "name": "stdout",
     "output_type": "stream",
     "text": [
      "(5216, 67500)\n",
      "(624, 67500)\n",
      "(16, 67500)\n"
     ]
    }
   ],
   "source": [
    "train_img = train_images.reshape(train_images.shape[0], -1)\n",
    "test_img = test_images.reshape(test_images.shape[0], -1)\n",
    "val_img = val_images.reshape(val_images.shape[0], -1)\n",
    "\n",
    "print(train_img.shape)\n",
    "print(test_img.shape)\n",
    "print(val_img.shape)"
   ]
  },
  {
   "cell_type": "code",
   "execution_count": 12,
   "metadata": {},
   "outputs": [],
   "source": [
    "train_y = np.reshape(train_labels, (5216,1))\n",
    "test_y = np.reshape(test_labels, (624,1))\n",
    "val_y = np.reshape(val_labels, (16,1))"
   ]
  },
  {
   "cell_type": "code",
   "execution_count": 13,
   "metadata": {},
   "outputs": [],
   "source": [
    "# Build a baseline fully connected model\n",
    "from keras import models\n",
    "from keras import layers\n",
    "\n",
    "model = models.Sequential()\n",
    "model.add(layers.Dense(20, activation='relu', input_shape=(67500,))) # 2 hidden layers\n",
    "model.add(layers.Dense(7, activation='relu'))\n",
    "model.add(layers.Dense(5, activation='relu'))\n",
    "model.add(layers.Dense(1, activation='sigmoid'))"
   ]
  },
  {
   "cell_type": "code",
   "execution_count": 14,
   "metadata": {},
   "outputs": [
    {
     "name": "stdout",
     "output_type": "stream",
     "text": [
      "Epoch 1/50\n",
      "163/163 [==============================] - 14s 67ms/step - loss: 0.5991 - accuracy: 0.7310 - val_loss: 0.7016 - val_accuracy: 0.5000\n",
      "Epoch 2/50\n",
      "163/163 [==============================] - 6s 39ms/step - loss: 0.6084 - accuracy: 0.7429 - val_loss: 0.7425 - val_accuracy: 0.5000\n",
      "Epoch 3/50\n",
      "163/163 [==============================] - 7s 42ms/step - loss: 0.5804 - accuracy: 0.7429 - val_loss: 0.7783 - val_accuracy: 0.5000\n",
      "Epoch 4/50\n",
      "163/163 [==============================] - 5s 33ms/step - loss: 0.5727 - accuracy: 0.7429 - val_loss: 0.8029 - val_accuracy: 0.5000\n",
      "Epoch 5/50\n",
      "163/163 [==============================] - 5s 32ms/step - loss: 0.5707 - accuracy: 0.7429 - val_loss: 0.8151 - val_accuracy: 0.5000\n",
      "Epoch 6/50\n",
      "163/163 [==============================] - 7s 42ms/step - loss: 0.5702 - accuracy: 0.7429 - val_loss: 0.8212 - val_accuracy: 0.5000\n",
      "Epoch 7/50\n",
      "163/163 [==============================] - 6s 37ms/step - loss: 0.5701 - accuracy: 0.7429 - val_loss: 0.8246 - val_accuracy: 0.5000\n",
      "Epoch 8/50\n",
      "163/163 [==============================] - 5s 33ms/step - loss: 0.5701 - accuracy: 0.7429 - val_loss: 0.8263 - val_accuracy: 0.5000\n",
      "Epoch 9/50\n",
      "163/163 [==============================] - 5s 34ms/step - loss: 0.5701 - accuracy: 0.7429 - val_loss: 0.8256 - val_accuracy: 0.5000\n",
      "Epoch 10/50\n",
      "163/163 [==============================] - 6s 38ms/step - loss: 0.5701 - accuracy: 0.7429 - val_loss: 0.8273 - val_accuracy: 0.5000\n",
      "Epoch 11/50\n",
      "163/163 [==============================] - 5s 33ms/step - loss: 0.5700 - accuracy: 0.7429 - val_loss: 0.8283 - val_accuracy: 0.5000\n",
      "Epoch 12/50\n",
      "163/163 [==============================] - 5s 33ms/step - loss: 0.5700 - accuracy: 0.7429 - val_loss: 0.8266 - val_accuracy: 0.5000\n",
      "Epoch 13/50\n",
      "163/163 [==============================] - 5s 33ms/step - loss: 0.5701 - accuracy: 0.7429 - val_loss: 0.8271 - val_accuracy: 0.5000\n",
      "Epoch 14/50\n",
      "163/163 [==============================] - 6s 35ms/step - loss: 0.5700 - accuracy: 0.7429 - val_loss: 0.8259 - val_accuracy: 0.5000\n",
      "Epoch 15/50\n",
      "163/163 [==============================] - 5s 33ms/step - loss: 0.5701 - accuracy: 0.7429 - val_loss: 0.8265 - val_accuracy: 0.5000\n",
      "Epoch 16/50\n",
      "163/163 [==============================] - 6s 36ms/step - loss: 0.5701 - accuracy: 0.7429 - val_loss: 0.8277 - val_accuracy: 0.5000\n",
      "Epoch 17/50\n",
      "163/163 [==============================] - 5s 33ms/step - loss: 0.5700 - accuracy: 0.7429 - val_loss: 0.8286 - val_accuracy: 0.5000\n",
      "Epoch 18/50\n",
      "163/163 [==============================] - 6s 35ms/step - loss: 0.5701 - accuracy: 0.7429 - val_loss: 0.8279 - val_accuracy: 0.5000\n",
      "Epoch 19/50\n",
      "163/163 [==============================] - 6s 36ms/step - loss: 0.5701 - accuracy: 0.7429 - val_loss: 0.8277 - val_accuracy: 0.5000\n",
      "Epoch 20/50\n",
      "163/163 [==============================] - 5s 33ms/step - loss: 0.5700 - accuracy: 0.7429 - val_loss: 0.8271 - val_accuracy: 0.5000\n",
      "Epoch 21/50\n",
      "163/163 [==============================] - 5s 33ms/step - loss: 0.5700 - accuracy: 0.7429 - val_loss: 0.8281 - val_accuracy: 0.5000\n",
      "Epoch 22/50\n",
      "163/163 [==============================] - 5s 33ms/step - loss: 0.5700 - accuracy: 0.7429 - val_loss: 0.8275 - val_accuracy: 0.5000\n",
      "Epoch 23/50\n",
      "163/163 [==============================] - 6s 39ms/step - loss: 0.5701 - accuracy: 0.7429 - val_loss: 0.8270 - val_accuracy: 0.5000\n",
      "Epoch 24/50\n",
      "163/163 [==============================] - 6s 35ms/step - loss: 0.5701 - accuracy: 0.7429 - val_loss: 0.8280 - val_accuracy: 0.5000\n",
      "Epoch 25/50\n",
      "163/163 [==============================] - 5s 32ms/step - loss: 0.5700 - accuracy: 0.7429 - val_loss: 0.8270 - val_accuracy: 0.5000\n",
      "Epoch 26/50\n",
      "163/163 [==============================] - 5s 32ms/step - loss: 0.5701 - accuracy: 0.7429 - val_loss: 0.8263 - val_accuracy: 0.5000\n",
      "Epoch 27/50\n",
      "163/163 [==============================] - 6s 36ms/step - loss: 0.5701 - accuracy: 0.7429 - val_loss: 0.8260 - val_accuracy: 0.5000\n",
      "Epoch 28/50\n",
      "163/163 [==============================] - 5s 30ms/step - loss: 0.5701 - accuracy: 0.7429 - val_loss: 0.8265 - val_accuracy: 0.5000\n",
      "Epoch 29/50\n",
      "163/163 [==============================] - 5s 30ms/step - loss: 0.5701 - accuracy: 0.7429 - val_loss: 0.8266 - val_accuracy: 0.5000\n",
      "Epoch 30/50\n",
      "163/163 [==============================] - 5s 32ms/step - loss: 0.5701 - accuracy: 0.7429 - val_loss: 0.8268 - val_accuracy: 0.5000\n",
      "Epoch 31/50\n",
      "163/163 [==============================] - 5s 32ms/step - loss: 0.5700 - accuracy: 0.7429 - val_loss: 0.8276 - val_accuracy: 0.5000\n",
      "Epoch 32/50\n",
      "163/163 [==============================] - 5s 33ms/step - loss: 0.5701 - accuracy: 0.7429 - val_loss: 0.8288 - val_accuracy: 0.5000\n",
      "Epoch 33/50\n",
      "163/163 [==============================] - 5s 33ms/step - loss: 0.5701 - accuracy: 0.7429 - val_loss: 0.8277 - val_accuracy: 0.5000\n",
      "Epoch 34/50\n",
      "163/163 [==============================] - 6s 34ms/step - loss: 0.5701 - accuracy: 0.7429 - val_loss: 0.8279 - val_accuracy: 0.5000\n",
      "Epoch 35/50\n",
      "163/163 [==============================] - 6s 34ms/step - loss: 0.5701 - accuracy: 0.7429 - val_loss: 0.8271 - val_accuracy: 0.5000\n",
      "Epoch 36/50\n",
      "163/163 [==============================] - 5s 33ms/step - loss: 0.5701 - accuracy: 0.7429 - val_loss: 0.8280 - val_accuracy: 0.5000\n",
      "Epoch 37/50\n",
      "163/163 [==============================] - 5s 31ms/step - loss: 0.5701 - accuracy: 0.7429 - val_loss: 0.8288 - val_accuracy: 0.5000\n",
      "Epoch 38/50\n",
      "163/163 [==============================] - 5s 31ms/step - loss: 0.5701 - accuracy: 0.7429 - val_loss: 0.8282 - val_accuracy: 0.5000\n",
      "Epoch 39/50\n",
      "163/163 [==============================] - 5s 32ms/step - loss: 0.5701 - accuracy: 0.7429 - val_loss: 0.8283 - val_accuracy: 0.5000\n",
      "Epoch 40/50\n",
      "163/163 [==============================] - 5s 34ms/step - loss: 0.5701 - accuracy: 0.7429 - val_loss: 0.8289 - val_accuracy: 0.5000\n",
      "Epoch 41/50\n",
      "163/163 [==============================] - 5s 30ms/step - loss: 0.5700 - accuracy: 0.7429 - val_loss: 0.8278 - val_accuracy: 0.5000\n",
      "Epoch 42/50\n",
      "163/163 [==============================] - 5s 33ms/step - loss: 0.5701 - accuracy: 0.7429 - val_loss: 0.8285 - val_accuracy: 0.5000\n",
      "Epoch 43/50\n",
      "163/163 [==============================] - 5s 30ms/step - loss: 0.5701 - accuracy: 0.7429 - val_loss: 0.8286 - val_accuracy: 0.5000\n",
      "Epoch 44/50\n",
      "163/163 [==============================] - 5s 31ms/step - loss: 0.5701 - accuracy: 0.7429 - val_loss: 0.8282 - val_accuracy: 0.5000\n",
      "Epoch 45/50\n",
      "163/163 [==============================] - 6s 36ms/step - loss: 0.5700 - accuracy: 0.7429 - val_loss: 0.8286 - val_accuracy: 0.5000\n",
      "Epoch 46/50\n",
      "163/163 [==============================] - 5s 32ms/step - loss: 0.5701 - accuracy: 0.7429 - val_loss: 0.8285 - val_accuracy: 0.5000\n",
      "Epoch 47/50\n",
      "163/163 [==============================] - 6s 34ms/step - loss: 0.5701 - accuracy: 0.7429 - val_loss: 0.8282 - val_accuracy: 0.5000\n",
      "Epoch 48/50\n",
      "163/163 [==============================] - 5s 33ms/step - loss: 0.5701 - accuracy: 0.7429 - val_loss: 0.8282 - val_accuracy: 0.5000\n",
      "Epoch 49/50\n",
      "163/163 [==============================] - 5s 30ms/step - loss: 0.5700 - accuracy: 0.7429 - val_loss: 0.8297 - val_accuracy: 0.5000\n",
      "Epoch 50/50\n",
      "163/163 [==============================] - 5s 31ms/step - loss: 0.5700 - accuracy: 0.7429 - val_loss: 0.8270 - val_accuracy: 0.5000\n"
     ]
    }
   ],
   "source": [
    "model.compile(optimizer='sgd',\n",
    "              loss='binary_crossentropy',\n",
    "              metrics=['accuracy'])\n",
    "\n",
    "history = model.fit(train_img,\n",
    "                    train_y,\n",
    "                    epochs=50,\n",
    "                    batch_size=32,\n",
    "                    validation_data=(val_img, val_y))"
   ]
  },
  {
   "cell_type": "code",
   "execution_count": 15,
   "metadata": {},
   "outputs": [
    {
     "name": "stdout",
     "output_type": "stream",
     "text": [
      "163/163 [==============================] - 2s 14ms/step - loss: 0.5700 - accuracy: 0.7429\n"
     ]
    }
   ],
   "source": [
    "results_train = model.evaluate(train_img, train_y)"
   ]
  },
  {
   "cell_type": "code",
   "execution_count": 16,
   "metadata": {},
   "outputs": [
    {
     "name": "stdout",
     "output_type": "stream",
     "text": [
      "20/20 [==============================] - 1s 40ms/step - loss: 0.6947 - accuracy: 0.6250\n"
     ]
    }
   ],
   "source": [
    "results_test = model.evaluate(test_img, test_y)"
   ]
  },
  {
   "cell_type": "code",
   "execution_count": 17,
   "metadata": {},
   "outputs": [
    {
     "name": "stdout",
     "output_type": "stream",
     "text": [
      "Train Results: [0.5699958801269531, 0.7429064512252808]\n",
      "Test Results: [0.6947420835494995, 0.625]\n"
     ]
    }
   ],
   "source": [
    "print('Train Results:', results_train)\n",
    "print('Test Results:', results_test)"
   ]
  },
  {
   "cell_type": "code",
   "execution_count": null,
   "metadata": {},
   "outputs": [],
   "source": []
  },
  {
   "cell_type": "code",
   "execution_count": 18,
   "metadata": {},
   "outputs": [
    {
     "data": {
      "image/png": "[encoded data removed]",
      "text/plain": [
       "<Figure size 432x288 with 1 Axes>"
      ]
     },
     "metadata": {
      "needs_background": "light"
     },
     "output_type": "display_data"
    },
    {
     "data": {
      "image/png": "[encoded data removed]",
      "text/plain": [
       "<Figure size 432x288 with 1 Axes>"
      ]
     },
     "metadata": {
      "needs_background": "light"
     },
     "output_type": "display_data"
    }
   ],
   "source": [
    "# Plot history\n",
    "\n",
    "import matplotlib.pyplot as plt\n",
    "%matplotlib inline \n",
    "\n",
    "acc = history.history['accuracy']\n",
    "val_acc = history.history['val_accuracy']\n",
    "loss = history.history['loss']\n",
    "val_loss = history.history['val_loss']\n",
    "epochs = range(len(acc))\n",
    "plt.plot(epochs, acc, 'bo', label='Training acc')\n",
    "plt.plot(epochs, val_acc, 'b', label='Validation acc')\n",
    "plt.title('Training and validation accuracy')\n",
    "plt.legend()\n",
    "plt.figure()\n",
    "plt.plot(epochs, loss, 'bo', label='Training loss')\n",
    "plt.plot(epochs, val_loss, 'b', label='Validation loss')\n",
    "plt.title('Training and validation loss')\n",
    "plt.legend()\n",
    "plt.show()"
   ]
  },
  {
   "cell_type": "markdown",
   "metadata": {},
   "source": [
    "Baseline model seemed to show some degree of overfitting. \n",
    "- Train Accuracy: 0.97\n",
    "- Test Accuracy: 0.77"
   ]
  },
  {
   "cell_type": "markdown",
   "metadata": {},
   "source": [
    "## Building a CNN"
   ]
  },
  {
   "cell_type": "code",
   "execution_count": 19,
   "metadata": {},
   "outputs": [],
   "source": [
    "# Design the CNN model\n",
    "model = models.Sequential()\n",
    "model.add(layers.Conv2D(32, (3, 3), activation='relu',\n",
    "                        input_shape=(150, 150, 3)))\n",
    "model.add(layers.MaxPooling2D((2, 2)))\n",
    "\n",
    "model.add(layers.Conv2D(32, (4, 4), activation='relu'))\n",
    "model.add(layers.MaxPooling2D((2, 2)))\n",
    "\n",
    "model.add(layers.Conv2D(64, (3, 3), activation='relu'))\n",
    "model.add(layers.MaxPooling2D((2, 2)))\n",
    "\n",
    "model.add(layers.Flatten())\n",
    "model.add(layers.Dense(64, activation='relu'))\n",
    "model.add(layers.Dense(1, activation='sigmoid'))\n",
    "\n",
    "model.compile(loss='binary_crossentropy',\n",
    "              optimizer=\"sgd\",\n",
    "              metrics=['acc'])"
   ]
  },
  {
   "cell_type": "code",
   "execution_count": 20,
   "metadata": {},
   "outputs": [
    {
     "name": "stdout",
     "output_type": "stream",
     "text": [
      "Epoch 1/30\n",
      "163/163 [==============================] - 214s 1s/step - loss: 0.5321 - acc: 0.7535 - val_loss: 1.1354 - val_acc: 0.5000\n",
      "Epoch 2/30\n",
      "163/163 [==============================] - 207s 1s/step - loss: 0.3762 - acc: 0.8347 - val_loss: 1.3053 - val_acc: 0.6250\n",
      "Epoch 3/30\n",
      "163/163 [==============================] - 183s 1s/step - loss: 0.2461 - acc: 0.9009 - val_loss: 0.4906 - val_acc: 0.7500\n",
      "Epoch 4/30\n",
      "163/163 [==============================] - 197s 1s/step - loss: 0.1920 - acc: 0.9256 - val_loss: 0.9002 - val_acc: 0.6250\n",
      "Epoch 5/30\n",
      "163/163 [==============================] - 195s 1s/step - loss: 0.1651 - acc: 0.9377 - val_loss: 0.6275 - val_acc: 0.6875\n",
      "Epoch 6/30\n",
      "163/163 [==============================] - 194s 1s/step - loss: 0.1434 - acc: 0.9452 - val_loss: 0.5846 - val_acc: 0.7500\n",
      "Epoch 7/30\n",
      "163/163 [==============================] - 203s 1s/step - loss: 0.1259 - acc: 0.9532 - val_loss: 0.4615 - val_acc: 0.8125\n",
      "Epoch 8/30\n",
      "163/163 [==============================] - 210s 1s/step - loss: 0.1207 - acc: 0.9526 - val_loss: 0.3081 - val_acc: 0.9375\n",
      "Epoch 9/30\n",
      "163/163 [==============================] - 196s 1s/step - loss: 0.1086 - acc: 0.9605 - val_loss: 0.2491 - val_acc: 0.8750\n",
      "Epoch 10/30\n",
      "163/163 [==============================] - 200s 1s/step - loss: 0.1033 - acc: 0.9620 - val_loss: 0.9496 - val_acc: 0.5625\n",
      "Epoch 11/30\n",
      "163/163 [==============================] - 182s 1s/step - loss: 0.0992 - acc: 0.9636 - val_loss: 0.6033 - val_acc: 0.7500\n",
      "Epoch 12/30\n",
      "163/163 [==============================] - 199s 1s/step - loss: 0.0961 - acc: 0.9661 - val_loss: 0.2376 - val_acc: 0.9375\n",
      "Epoch 13/30\n",
      "163/163 [==============================] - 202s 1s/step - loss: 0.0901 - acc: 0.9674 - val_loss: 0.4593 - val_acc: 0.7500\n",
      "Epoch 14/30\n",
      "163/163 [==============================] - 201s 1s/step - loss: 0.0814 - acc: 0.9703 - val_loss: 0.2513 - val_acc: 0.9375\n",
      "Epoch 15/30\n",
      "163/163 [==============================] - 200s 1s/step - loss: 0.0765 - acc: 0.9703 - val_loss: 0.2166 - val_acc: 0.9375\n",
      "Epoch 16/30\n",
      "163/163 [==============================] - 205s 1s/step - loss: 0.0766 - acc: 0.9712 - val_loss: 0.3510 - val_acc: 0.6875\n",
      "Epoch 17/30\n",
      "163/163 [==============================] - 206s 1s/step - loss: 0.0720 - acc: 0.9753 - val_loss: 0.2825 - val_acc: 0.8125\n",
      "Epoch 18/30\n",
      "163/163 [==============================] - 181s 1s/step - loss: 0.0714 - acc: 0.9730 - val_loss: 0.5082 - val_acc: 0.6875\n",
      "Epoch 19/30\n",
      "163/163 [==============================] - 202s 1s/step - loss: 0.0656 - acc: 0.9770 - val_loss: 0.3640 - val_acc: 0.7500\n",
      "Epoch 20/30\n",
      "163/163 [==============================] - 200s 1s/step - loss: 0.0634 - acc: 0.9768 - val_loss: 0.2082 - val_acc: 0.8750\n",
      "Epoch 21/30\n",
      "163/163 [==============================] - 197s 1s/step - loss: 0.0615 - acc: 0.9781 - val_loss: 0.6210 - val_acc: 0.6875\n",
      "Epoch 22/30\n",
      "163/163 [==============================] - 206s 1s/step - loss: 0.0596 - acc: 0.9797 - val_loss: 0.5414 - val_acc: 0.6875\n",
      "Epoch 23/30\n",
      "163/163 [==============================] - 198s 1s/step - loss: 0.0572 - acc: 0.9783 - val_loss: 0.3320 - val_acc: 0.7500\n",
      "Epoch 24/30\n",
      "163/163 [==============================] - 205s 1s/step - loss: 0.0522 - acc: 0.9820 - val_loss: 0.2042 - val_acc: 1.0000\n",
      "Epoch 25/30\n",
      "163/163 [==============================] - 207s 1s/step - loss: 0.0524 - acc: 0.9795 - val_loss: 1.0154 - val_acc: 0.6875\n",
      "Epoch 26/30\n",
      "163/163 [==============================] - 202s 1s/step - loss: 0.0479 - acc: 0.9829 - val_loss: 0.8088 - val_acc: 0.6875\n",
      "Epoch 27/30\n",
      "163/163 [==============================] - 203s 1s/step - loss: 0.0464 - acc: 0.9827 - val_loss: 0.2005 - val_acc: 0.8750\n",
      "Epoch 28/30\n",
      "163/163 [==============================] - 192s 1s/step - loss: 0.0451 - acc: 0.9837 - val_loss: 0.1864 - val_acc: 0.9375\n",
      "Epoch 29/30\n",
      "163/163 [==============================] - 196s 1s/step - loss: 0.0436 - acc: 0.9843 - val_loss: 0.8921 - val_acc: 0.6875\n",
      "Epoch 30/30\n",
      "163/163 [==============================] - 198s 1s/step - loss: 0.0433 - acc: 0.9837 - val_loss: 0.3680 - val_acc: 0.6875\n"
     ]
    }
   ],
   "source": [
    "# Model will take a good amount of time to run ~1-2 minutes per epoch\n",
    "history = model.fit(train_images,\n",
    "                    train_y,\n",
    "                    epochs=30,\n",
    "                    batch_size=32,\n",
    "                    validation_data=(val_images, val_y))"
   ]
  },
  {
   "cell_type": "code",
   "execution_count": 21,
   "metadata": {},
   "outputs": [
    {
     "name": "stdout",
     "output_type": "stream",
     "text": [
      "163/163 [==============================] - 42s 259ms/step - loss: 0.0330 - acc: 0.9885\n"
     ]
    }
   ],
   "source": [
    "cnn_results_train = model.evaluate(train_images, train_y)"
   ]
  },
  {
   "cell_type": "code",
   "execution_count": 22,
   "metadata": {},
   "outputs": [
    {
     "name": "stdout",
     "output_type": "stream",
     "text": [
      "20/20 [==============================] - 6s 289ms/step - loss: 1.0757 - acc: 0.7692\n"
     ]
    }
   ],
   "source": [
    "cnn_results_test = model.evaluate(test_images, test_y)"
   ]
  },
  {
   "cell_type": "code",
   "execution_count": 23,
   "metadata": {},
   "outputs": [
    {
     "name": "stdout",
     "output_type": "stream",
     "text": [
      "Train Results: [0.03304614499211311, 0.9884969592094421]\n",
      "Test Results: [1.0757116079330444, 0.7692307829856873]\n"
     ]
    }
   ],
   "source": [
    "print('Train Results:', cnn_results_train)\n",
    "print('Test Results:', cnn_results_test)"
   ]
  },
  {
   "cell_type": "markdown",
   "metadata": {},
   "source": [
    "## Using Data Augmentation \n",
    "\n",
    "ImageDataGenerator() becomes really useful when we actually want to generate more data. \n"
   ]
  },
  {
   "cell_type": "code",
   "execution_count": 24,
   "metadata": {},
   "outputs": [],
   "source": [
    "train_datagen = ImageDataGenerator(rescale=1./255, \n",
    "                                   rotation_range=40, \n",
    "                                   width_shift_range=0.2, \n",
    "                                   height_shift_range=0.2, \n",
    "                                   shear_range=0.3, \n",
    "                                   zoom_range=0.1, \n",
    "                                   horizontal_flip=False)"
   ]
  },
  {
   "cell_type": "code",
   "execution_count": 25,
   "metadata": {},
   "outputs": [
    {
     "name": "stdout",
     "output_type": "stream",
     "text": [
      "Found 624 images belonging to 2 classes.\n",
      "Found 16 images belonging to 2 classes.\n",
      "Found 5216 images belonging to 2 classes.\n"
     ]
    }
   ],
   "source": [
    "# get all the data in the directory split/test , and reshape them\n",
    "test_generator = ImageDataGenerator(rescale=1./255).flow_from_directory(\n",
    "        test_dir, \n",
    "        target_size=(64, 64), \n",
    "        batch_size = 624,\n",
    "        class_mode='binary') \n",
    "\n",
    "# get all the data in the directory split/validation , and reshape them\n",
    "val_generator = ImageDataGenerator(rescale=1./255).flow_from_directory(\n",
    "        val_dir, \n",
    "        target_size=(64, 64),\n",
    "        batch_size = 32,\n",
    "        class_mode='binary')\n",
    "\n",
    "# get all the data in the directory split/train, and reshape them\n",
    "train_generator = train_datagen.flow_from_directory(\n",
    "        train_dir, \n",
    "        target_size=(64, 64), \n",
    "        batch_size = 32, \n",
    "        class_mode='binary')"
   ]
  },
  {
   "cell_type": "code",
   "execution_count": null,
   "metadata": {},
   "outputs": [],
   "source": []
  },
  {
   "cell_type": "code",
   "execution_count": 26,
   "metadata": {},
   "outputs": [],
   "source": [
    "model = models.Sequential()\n",
    "model.add(layers.Conv2D(32, (3, 3), activation='relu',\n",
    "                        input_shape=(64 , 64,  3)))\n",
    "model.add(layers.MaxPooling2D((2, 2)))\n",
    "\n",
    "model.add(layers.Conv2D(32, (4, 4), activation='relu'))\n",
    "model.add(layers.MaxPooling2D((2, 2)))\n",
    "\n",
    "model.add(layers.Conv2D(64, (3, 3), activation='relu'))\n",
    "model.add(layers.MaxPooling2D((2, 2)))\n",
    "\n",
    "model.add(layers.Flatten())\n",
    "model.add(layers.Dense(64, activation='relu'))\n",
    "model.add(layers.Dense(1, activation='sigmoid'))\n",
    "\n",
    "model.compile(loss='binary_crossentropy',\n",
    "              optimizer= 'sgd',\n",
    "              metrics=['acc'])"
   ]
  },
  {
   "cell_type": "code",
   "execution_count": 27,
   "metadata": {},
   "outputs": [
    {
     "name": "stdout",
     "output_type": "stream",
     "text": [
      "Epoch 1/30\n",
      "163/163 [==============================] - 136s 826ms/step - loss: 0.5787 - acc: 0.7429 - val_loss: 0.7650 - val_acc: 0.5000\n",
      "Epoch 2/30\n",
      "163/163 [==============================] - 138s 845ms/step - loss: 0.5702 - acc: 0.7429 - val_loss: 0.8349 - val_acc: 0.5000\n",
      "Epoch 3/30\n",
      "163/163 [==============================] - 133s 816ms/step - loss: 0.5637 - acc: 0.7429 - val_loss: 0.8098 - val_acc: 0.5000\n",
      "Epoch 4/30\n",
      "163/163 [==============================] - 135s 826ms/step - loss: 0.5545 - acc: 0.7429 - val_loss: 0.8677 - val_acc: 0.5000\n",
      "Epoch 5/30\n",
      "163/163 [==============================] - 138s 844ms/step - loss: 0.5431 - acc: 0.7446 - val_loss: 0.7574 - val_acc: 0.5000\n",
      "Epoch 6/30\n",
      "163/163 [==============================] - 150s 923ms/step - loss: 0.5373 - acc: 0.7496 - val_loss: 0.7721 - val_acc: 0.5000\n",
      "Epoch 7/30\n",
      "163/163 [==============================] - 133s 815ms/step - loss: 0.5216 - acc: 0.7513 - val_loss: 0.7081 - val_acc: 0.5625\n",
      "Epoch 8/30\n",
      "163/163 [==============================] - 139s 854ms/step - loss: 0.5052 - acc: 0.7625 - val_loss: 0.7745 - val_acc: 0.5625\n",
      "Epoch 9/30\n",
      "163/163 [==============================] - 93s 567ms/step - loss: 0.4846 - acc: 0.7730 - val_loss: 0.5644 - val_acc: 0.6875\n",
      "Epoch 10/30\n",
      "163/163 [==============================] - 88s 542ms/step - loss: 0.4605 - acc: 0.7880 - val_loss: 0.7066 - val_acc: 0.5625\n",
      "Epoch 11/30\n",
      "163/163 [==============================] - 80s 490ms/step - loss: 0.4338 - acc: 0.8066 - val_loss: 0.6318 - val_acc: 0.6250\n",
      "Epoch 12/30\n",
      "163/163 [==============================] - 84s 513ms/step - loss: 0.4132 - acc: 0.8127 - val_loss: 0.6385 - val_acc: 0.6250\n",
      "Epoch 13/30\n",
      "163/163 [==============================] - 85s 520ms/step - loss: 0.4009 - acc: 0.8150 - val_loss: 0.8373 - val_acc: 0.5625\n",
      "Epoch 14/30\n",
      "163/163 [==============================] - 79s 481ms/step - loss: 0.3800 - acc: 0.8278 - val_loss: 0.6897 - val_acc: 0.5625\n",
      "Epoch 15/30\n",
      "163/163 [==============================] - 78s 479ms/step - loss: 0.3527 - acc: 0.8422 - val_loss: 0.7582 - val_acc: 0.5625\n",
      "Epoch 16/30\n",
      "163/163 [==============================] - 77s 474ms/step - loss: 0.3385 - acc: 0.8526 - val_loss: 0.6270 - val_acc: 0.6875\n",
      "Epoch 17/30\n",
      "163/163 [==============================] - 78s 480ms/step - loss: 0.3276 - acc: 0.8547 - val_loss: 0.5835 - val_acc: 0.7500\n",
      "Epoch 18/30\n",
      "163/163 [==============================] - 77s 474ms/step - loss: 0.3167 - acc: 0.8637 - val_loss: 0.4806 - val_acc: 0.7500\n",
      "Epoch 19/30\n",
      "163/163 [==============================] - 79s 481ms/step - loss: 0.3165 - acc: 0.8662 - val_loss: 0.6327 - val_acc: 0.6250\n",
      "Epoch 20/30\n",
      "163/163 [==============================] - 77s 475ms/step - loss: 0.3038 - acc: 0.8698 - val_loss: 0.7981 - val_acc: 0.5625\n",
      "Epoch 21/30\n",
      "163/163 [==============================] - 78s 477ms/step - loss: 0.2930 - acc: 0.8717 - val_loss: 0.5876 - val_acc: 0.6875\n",
      "Epoch 22/30\n",
      "163/163 [==============================] - 77s 473ms/step - loss: 0.2898 - acc: 0.8773 - val_loss: 0.7575 - val_acc: 0.6250\n",
      "Epoch 23/30\n",
      "163/163 [==============================] - 79s 486ms/step - loss: 0.2902 - acc: 0.8779 - val_loss: 0.8706 - val_acc: 0.5625\n",
      "Epoch 24/30\n",
      "163/163 [==============================] - 78s 478ms/step - loss: 0.2817 - acc: 0.8777 - val_loss: 0.8776 - val_acc: 0.5625\n",
      "Epoch 25/30\n",
      "163/163 [==============================] - 77s 473ms/step - loss: 0.2773 - acc: 0.8811 - val_loss: 0.6499 - val_acc: 0.6250\n",
      "Epoch 26/30\n",
      "163/163 [==============================] - 77s 473ms/step - loss: 0.2630 - acc: 0.8903 - val_loss: 0.7276 - val_acc: 0.6250\n",
      "Epoch 27/30\n",
      "163/163 [==============================] - 78s 480ms/step - loss: 0.2644 - acc: 0.8877 - val_loss: 0.4805 - val_acc: 0.7500\n",
      "Epoch 28/30\n",
      "163/163 [==============================] - 78s 480ms/step - loss: 0.2670 - acc: 0.8844 - val_loss: 0.8992 - val_acc: 0.5625\n",
      "Epoch 29/30\n",
      "163/163 [==============================] - 77s 473ms/step - loss: 0.2647 - acc: 0.8832 - val_loss: 0.5306 - val_acc: 0.7500\n",
      "Epoch 30/30\n",
      "163/163 [==============================] - 77s 473ms/step - loss: 0.2598 - acc: 0.8878 - val_loss: 1.0841 - val_acc: 0.5625\n"
     ]
    }
   ],
   "source": [
    "history_2 = model.fit(train_generator,\n",
    "                      epochs=30, \n",
    "                      validation_data=val_generator)"
   ]
  },
  {
   "cell_type": "code",
   "execution_count": 28,
   "metadata": {},
   "outputs": [],
   "source": [
    "# changed input shape from 150, 150, 3 to 64, 64, 3"
   ]
  },
  {
   "cell_type": "code",
   "execution_count": 29,
   "metadata": {},
   "outputs": [],
   "source": [
    "test_x, test_y = next(test_generator)"
   ]
  },
  {
   "cell_type": "code",
   "execution_count": 30,
   "metadata": {},
   "outputs": [],
   "source": [
    "train_x, train_y = next(train_generator)"
   ]
  },
  {
   "cell_type": "code",
   "execution_count": 31,
   "metadata": {},
   "outputs": [
    {
     "name": "stdout",
     "output_type": "stream",
     "text": [
      "1/1 [==============================] - 0s 92ms/step - loss: 0.2909 - acc: 0.8438\n"
     ]
    },
    {
     "data": {
      "text/plain": [
       "[0.290863573551178, 0.84375]"
      ]
     },
     "execution_count": 31,
     "metadata": {},
     "output_type": "execute_result"
    }
   ],
   "source": [
    "results2_train = model.evaluate(train_x, train_y)\n",
    "results2_train"
   ]
  },
  {
   "cell_type": "code",
   "execution_count": 32,
   "metadata": {},
   "outputs": [
    {
     "name": "stdout",
     "output_type": "stream",
     "text": [
      "20/20 [==============================] - 1s 24ms/step - loss: 0.5455 - acc: 0.7853\n"
     ]
    },
    {
     "data": {
      "text/plain": [
       "[0.545487642288208, 0.7852563858032227]"
      ]
     },
     "execution_count": 32,
     "metadata": {},
     "output_type": "execute_result"
    }
   ],
   "source": [
    "results2_test = model.evaluate(test_x, test_y)\n",
    "results2_test"
   ]
  },
  {
   "cell_type": "code",
   "execution_count": 33,
   "metadata": {},
   "outputs": [
    {
     "name": "stdout",
     "output_type": "stream",
     "text": [
      "Keras weights file (<HDF5 file \"variables.h5\" (mode r+)>) saving:\n",
      "...layers\n",
      "......conv2d\n",
      ".........vars\n",
      "............0\n",
      "............1\n",
      "......conv2d_1\n",
      ".........vars\n",
      "............0\n",
      "............1\n",
      "......conv2d_2\n",
      ".........vars\n",
      "............0\n",
      "............1\n",
      "......dense\n",
      ".........vars\n",
      "............0\n",
      "............1\n",
      "......dense_1\n",
      ".........vars\n",
      "............0\n",
      "............1\n",
      "......flatten\n",
      ".........vars\n",
      "......max_pooling2d\n",
      ".........vars\n",
      "......max_pooling2d_1\n",
      ".........vars\n",
      "......max_pooling2d_2\n",
      ".........vars\n",
      "...metrics\n",
      "......mean\n",
      ".........vars\n",
      "............0\n",
      "............1\n",
      "......mean_metric_wrapper\n",
      ".........vars\n",
      "............0\n",
      "............1\n",
      "...optimizer\n",
      "......vars\n",
      ".........0\n",
      ".........1\n",
      ".........10\n",
      ".........2\n",
      ".........3\n",
      ".........4\n",
      ".........5\n",
      ".........6\n",
      ".........7\n",
      ".........8\n",
      ".........9\n",
      "...vars\n",
      "Keras model archive saving:\n",
      "File Name                                             Modified             Size\n",
      "config.json                                    2023-12-28 17:38:23         3839\n",
      "metadata.json                                  2023-12-28 17:38:23           64\n",
      "variables.h5                                   2023-12-28 17:38:23      1503616\n"
     ]
    },
    {
     "data": {
      "text/plain": [
       "['cnn_model.joblib']"
      ]
     },
     "execution_count": 33,
     "metadata": {},
     "output_type": "execute_result"
    }
   ],
   "source": [
    "import joblib\n",
    "\n",
    "# Save the model\n",
    "joblib.dump(model, 'cnn_model.joblib')\n"
   ]
  },
  {
   "cell_type": "code",
   "execution_count": 34,
   "metadata": {},
   "outputs": [
    {
     "name": "stdout",
     "output_type": "stream",
     "text": [
      "Keras model archive loading:\n",
      "File Name                                             Modified             Size\n",
      "config.json                                    2023-12-28 17:38:22         3839\n",
      "metadata.json                                  2023-12-28 17:38:22           64\n",
      "variables.h5                                   2023-12-28 17:38:22      1503616\n",
      "Keras weights file (<HDF5 file \"variables.h5\" (mode r)>) loading:\n",
      "...layers\n",
      "......conv2d\n",
      ".........vars\n",
      "............0\n",
      "............1\n",
      "......conv2d_1\n",
      ".........vars\n",
      "............0\n",
      "............1\n",
      "......conv2d_2\n",
      ".........vars\n",
      "............0\n",
      "............1\n",
      "......dense\n",
      ".........vars\n",
      "............0\n",
      "............1\n",
      "......dense_1\n",
      ".........vars\n",
      "............0\n",
      "............1\n",
      "......flatten\n",
      ".........vars\n",
      "......max_pooling2d\n",
      ".........vars\n",
      "......max_pooling2d_1\n",
      ".........vars\n",
      "......max_pooling2d_2\n",
      ".........vars\n",
      "...metrics\n",
      "......mean\n",
      ".........vars\n",
      "............0\n",
      "............1\n",
      "......mean_metric_wrapper\n",
      ".........vars\n",
      "............0\n",
      "............1\n",
      "...optimizer\n",
      "......vars\n",
      ".........0\n",
      ".........1\n",
      ".........10\n",
      ".........2\n",
      ".........3\n",
      ".........4\n",
      ".........5\n",
      ".........6\n",
      ".........7\n",
      ".........8\n",
      ".........9\n",
      "...vars\n"
     ]
    }
   ],
   "source": [
    "# Load the model\n",
    "loaded_model = joblib.load('cnn_model.joblib')\n",
    "\n"
   ]
  },
  {
   "cell_type": "code",
   "execution_count": 35,
   "metadata": {},
   "outputs": [],
   "source": [
    "# took rouhgly 4 hours to run"
   ]
  }
 ],
 "metadata": {
  "kernelspec": {
   "display_name": "Python (spark-env)",
   "language": "python",
   "name": "spark-env"
  },
  "language_info": {
   "codemirror_mode": {
    "name": "ipython",
    "version": 3
   },
   "file_extension": ".py",
   "mimetype": "text/x-python",
   "name": "python",
   "nbconvert_exporter": "python",
   "pygments_lexer": "ipython3",
   "version": "3.8.18"
  }
 },
 "nbformat": 4,
 "nbformat_minor": 4
}
